{
  "nbformat": 4,
  "nbformat_minor": 0,
  "metadata": {
    "accelerator": "TPU",
    "colab": {
      "name": "01_scraper_2021_en_today.ipynb",
      "provenance": [],
      "collapsed_sections": [
        "V4rv6Zxq-VJt",
        "cPMI20kK9bi7",
        "ajcqloUjj86Q",
        "T8Nqr5knl8ui",
        "NmI90W5Kj867",
        "0rG27jo6j87S",
        "kQ_zDiJ75Lmw",
        "RXbEGwkI6P95",
        "QuH5Q8H2VZe8"
      ],
      "include_colab_link": true
    },
    "kernelspec": {
      "display_name": "Python 3",
      "language": "python",
      "name": "python3"
    },
    "language_info": {
      "codemirror_mode": {
        "name": "ipython",
        "version": 3
      },
      "file_extension": ".py",
      "mimetype": "text/x-python",
      "name": "python",
      "nbconvert_exporter": "python",
      "pygments_lexer": "ipython3",
      "version": "3.7.7"
    },
    "latex_envs": {
      "LaTeX_envs_menu_present": true,
      "autoclose": false,
      "autocomplete": true,
      "bibliofile": "biblio.bib",
      "cite_by": "apalike",
      "current_citInitial": 1,
      "eqLabelWithNumbers": true,
      "eqNumInitial": 1,
      "hotkeys": {
        "equation": "Ctrl-E",
        "itemize": "Ctrl-I"
      },
      "labels_anchors": false,
      "latex_user_defs": false,
      "report_style_numbering": false,
      "user_envs_cfg": false
    },
    "toc": {
      "base_numbering": 1,
      "nav_menu": {},
      "number_sections": true,
      "sideBar": true,
      "skip_h1_title": false,
      "title_cell": "Table of Contents",
      "title_sidebar": "Contents",
      "toc_cell": false,
      "toc_position": {},
      "toc_section_display": true,
      "toc_window_display": false
    }
  },
  "cells": [
    {
      "cell_type": "markdown",
      "metadata": {
        "id": "view-in-github",
        "colab_type": "text"
      },
      "source": [
        "<a href=\"https://colab.research.google.com/github/centeno/covid-impact-scrapper/blob/master/scraper.ipynb\" target=\"_parent\"><img src=\"https://colab.research.google.com/assets/colab-badge.svg\" alt=\"Open In Colab\"/></a>"
      ]
    },
    {
      "cell_type": "code",
      "metadata": {
        "id": "5ANINOnmn7fJ"
      },
      "source": [
        "# tempo de execução: em média 2min\n",
        "# rodando 2 vm do google colab\n",
        "# rodando 60 dias por vm = 2h/dia para coleta\n",
        "# 120 dias coletados por dia\n",
        "# 360 dias coletados em 3 dias"
      ],
      "execution_count": null,
      "outputs": []
    },
    {
      "cell_type": "markdown",
      "metadata": {
        "id": "V4rv6Zxq-VJt"
      },
      "source": [
        "# INSTALL"
      ]
    },
    {
      "cell_type": "code",
      "metadata": {
        "colab": {
          "base_uri": "https://localhost:8080/",
          "height": 1000
        },
        "id": "FsIvlwVCIxx4",
        "outputId": "b1e089d0-8cf9-4144-89c2-731e9506d108"
      },
      "source": [
        "\n",
        "\n",
        "\n",
        "!apt-get update # to update ubuntu to correctly run apt install\n",
        "\n",
        "# scraper\n",
        "!pip install selenium\n",
        "!apt install chromium-chromedriver\n",
        "!pip install webdriver-manager\n",
        "!cp /usr/lib/chromium-browser/chromedriver/usr/bin\n",
        "\n",
        "\n",
        "# geocoder ipaddress\n",
        "!pip install msticpy\n",
        "\n",
        "# get domain\n",
        "!pip3 install tld\n",
        "\n",
        "\n",
        "# spacy\n",
        "!pip install -U pip setuptools wheel\n",
        "!pip install -U spacy\n",
        "#!python -m spacy download en\n",
        "#!python -m spacy download pt\n",
        "!python -m spacy download en_core_web_sm\n",
        "\n",
        "!pip install contextualSpellCheck\n",
        "!curl https://raw.githubusercontent.com/codelucas/newspaper/master/download_corpora.py | python3\n",
        "\n",
        "\n"
      ],
      "execution_count": null,
      "outputs": [
        {
          "output_type": "stream",
          "text": [
            "\r0% [Working]\r            \rGet:1 http://security.ubuntu.com/ubuntu bionic-security InRelease [88.7 kB]\n",
            "\r0% [Connecting to archive.ubuntu.com (91.189.88.142)] [1 InRelease 14.2 kB/88.7\r                                                                               \rGet:2 https://cloud.r-project.org/bin/linux/ubuntu bionic-cran40/ InRelease [3,626 B]\n",
            "\r0% [Connecting to archive.ubuntu.com (91.189.88.142)] [1 InRelease 14.2 kB/88.7\r0% [Connecting to archive.ubuntu.com (91.189.88.142)] [1 InRelease 14.2 kB/88.7\r0% [2 InRelease gpgv 3,626 B] [Connecting to archive.ubuntu.com (91.189.88.142)\r                                                                               \rIgn:3 https://developer.download.nvidia.com/compute/cuda/repos/ubuntu1804/x86_64  InRelease\n",
            "\r0% [2 InRelease gpgv 3,626 B] [Connecting to archive.ubuntu.com (91.189.88.142)\r0% [2 InRelease gpgv 3,626 B] [Connecting to archive.ubuntu.com (91.189.88.142)\r                                                                               \rIgn:4 https://developer.download.nvidia.com/compute/machine-learning/repos/ubuntu1804/x86_64  InRelease\n",
            "\r                                                                               \r0% [2 InRelease gpgv 3,626 B] [Waiting for headers] [Waiting for headers]\r                                                                         \rGet:5 https://developer.download.nvidia.com/compute/cuda/repos/ubuntu1804/x86_64  Release [697 B]\n",
            "\r0% [2 InRelease gpgv 3,626 B] [Waiting for headers] [Waiting for headers] [5 Re\r                                                                               \r0% [2 InRelease gpgv 3,626 B] [Waiting for headers] [Waiting for headers]\r                                                                         \rGet:6 http://ppa.launchpad.net/c2d4u.team/c2d4u4.0+/ubuntu bionic InRelease [15.9 kB]\n",
            "\r0% [2 InRelease gpgv 3,626 B] [Waiting for headers] [6 InRelease 14.2 kB/15.9 k\r                                                                               \rGet:7 https://developer.download.nvidia.com/compute/machine-learning/repos/ubuntu1804/x86_64  Release [564 B]\n",
            "Get:8 https://developer.download.nvidia.com/compute/cuda/repos/ubuntu1804/x86_64  Release.gpg [836 B]\n",
            "Get:9 https://developer.download.nvidia.com/compute/machine-learning/repos/ubuntu1804/x86_64  Release.gpg [833 B]\n",
            "Hit:10 http://archive.ubuntu.com/ubuntu bionic InRelease\n",
            "Get:11 http://archive.ubuntu.com/ubuntu bionic-updates InRelease [88.7 kB]\n",
            "Hit:12 http://ppa.launchpad.net/cran/libgit2/ubuntu bionic InRelease\n",
            "Get:13 http://security.ubuntu.com/ubuntu bionic-security/restricted amd64 Packages [324 kB]\n",
            "Get:14 http://ppa.launchpad.net/deadsnakes/ppa/ubuntu bionic InRelease [15.9 kB]\n",
            "Get:15 http://archive.ubuntu.com/ubuntu bionic-backports InRelease [74.6 kB]\n",
            "Get:16 http://security.ubuntu.com/ubuntu bionic-security/multiverse amd64 Packages [24.5 kB]\n",
            "Get:17 http://security.ubuntu.com/ubuntu bionic-security/universe amd64 Packages [1,396 kB]\n",
            "Get:18 http://security.ubuntu.com/ubuntu bionic-security/main amd64 Packages [1,963 kB]\n",
            "Get:19 http://ppa.launchpad.net/graphics-drivers/ppa/ubuntu bionic InRelease [21.3 kB]\n",
            "Ign:20 https://developer.download.nvidia.com/compute/cuda/repos/ubuntu1804/x86_64  Packages\n",
            "Get:20 https://developer.download.nvidia.com/compute/cuda/repos/ubuntu1804/x86_64  Packages [577 kB]\n",
            "Get:21 https://developer.download.nvidia.com/compute/machine-learning/repos/ubuntu1804/x86_64  Packages [73.8 kB]\n",
            "Get:22 http://ppa.launchpad.net/c2d4u.team/c2d4u4.0+/ubuntu bionic/main Sources [1,740 kB]\n",
            "Get:23 http://archive.ubuntu.com/ubuntu bionic-updates/multiverse amd64 Packages [31.4 kB]\n",
            "Get:24 http://archive.ubuntu.com/ubuntu bionic-updates/main amd64 Packages [2,394 kB]\n",
            "Get:25 http://ppa.launchpad.net/c2d4u.team/c2d4u4.0+/ubuntu bionic/main amd64 Packages [890 kB]\n",
            "Get:26 http://archive.ubuntu.com/ubuntu bionic-updates/restricted amd64 Packages [353 kB]\n",
            "Get:27 http://archive.ubuntu.com/ubuntu bionic-updates/universe amd64 Packages [2,163 kB]\n",
            "Get:28 http://ppa.launchpad.net/deadsnakes/ppa/ubuntu bionic/main amd64 Packages [39.5 kB]\n",
            "Get:29 http://ppa.launchpad.net/graphics-drivers/ppa/ubuntu bionic/main amd64 Packages [49.4 kB]\n",
            "Fetched 12.3 MB in 4s (2,943 kB/s)\n",
            "Reading package lists... Done\n",
            "Collecting selenium\n",
            "\u001b[?25l  Downloading https://files.pythonhosted.org/packages/80/d6/4294f0b4bce4de0abf13e17190289f9d0613b0a44e5dd6a7f5ca98459853/selenium-3.141.0-py2.py3-none-any.whl (904kB)\n",
            "\u001b[K     |████████████████████████████████| 911kB 5.2MB/s \n",
            "\u001b[?25hRequirement already satisfied: urllib3 in /usr/local/lib/python3.7/dist-packages (from selenium) (1.24.3)\n",
            "Installing collected packages: selenium\n",
            "Successfully installed selenium-3.141.0\n",
            "Reading package lists... Done\n",
            "Building dependency tree       \n",
            "Reading state information... Done\n",
            "The following additional packages will be installed:\n",
            "  chromium-browser chromium-browser-l10n chromium-codecs-ffmpeg-extra\n",
            "Suggested packages:\n",
            "  webaccounts-chromium-extension unity-chromium-extension adobe-flashplugin\n",
            "The following NEW packages will be installed:\n",
            "  chromium-browser chromium-browser-l10n chromium-chromedriver\n",
            "  chromium-codecs-ffmpeg-extra\n",
            "0 upgraded, 4 newly installed, 0 to remove and 57 not upgraded.\n",
            "Need to get 81.0 MB of archives.\n",
            "After this operation, 273 MB of additional disk space will be used.\n",
            "Get:1 http://archive.ubuntu.com/ubuntu bionic-updates/universe amd64 chromium-codecs-ffmpeg-extra amd64 87.0.4280.66-0ubuntu0.18.04.1 [1,122 kB]\n",
            "Get:2 http://archive.ubuntu.com/ubuntu bionic-updates/universe amd64 chromium-browser amd64 87.0.4280.66-0ubuntu0.18.04.1 [71.7 MB]\n",
            "Get:3 http://archive.ubuntu.com/ubuntu bionic-updates/universe amd64 chromium-browser-l10n all 87.0.4280.66-0ubuntu0.18.04.1 [3,716 kB]\n",
            "Get:4 http://archive.ubuntu.com/ubuntu bionic-updates/universe amd64 chromium-chromedriver amd64 87.0.4280.66-0ubuntu0.18.04.1 [4,488 kB]\n",
            "Fetched 81.0 MB in 4s (18.9 MB/s)\n",
            "Selecting previously unselected package chromium-codecs-ffmpeg-extra.\n",
            "(Reading database ... 160975 files and directories currently installed.)\n",
            "Preparing to unpack .../chromium-codecs-ffmpeg-extra_87.0.4280.66-0ubuntu0.18.04.1_amd64.deb ...\n",
            "Unpacking chromium-codecs-ffmpeg-extra (87.0.4280.66-0ubuntu0.18.04.1) ...\n",
            "Selecting previously unselected package chromium-browser.\n",
            "Preparing to unpack .../chromium-browser_87.0.4280.66-0ubuntu0.18.04.1_amd64.deb ...\n",
            "Unpacking chromium-browser (87.0.4280.66-0ubuntu0.18.04.1) ...\n",
            "Selecting previously unselected package chromium-browser-l10n.\n",
            "Preparing to unpack .../chromium-browser-l10n_87.0.4280.66-0ubuntu0.18.04.1_all.deb ...\n",
            "Unpacking chromium-browser-l10n (87.0.4280.66-0ubuntu0.18.04.1) ...\n",
            "Selecting previously unselected package chromium-chromedriver.\n",
            "Preparing to unpack .../chromium-chromedriver_87.0.4280.66-0ubuntu0.18.04.1_amd64.deb ...\n",
            "Unpacking chromium-chromedriver (87.0.4280.66-0ubuntu0.18.04.1) ...\n",
            "Setting up chromium-codecs-ffmpeg-extra (87.0.4280.66-0ubuntu0.18.04.1) ...\n",
            "Setting up chromium-browser (87.0.4280.66-0ubuntu0.18.04.1) ...\n",
            "update-alternatives: using /usr/bin/chromium-browser to provide /usr/bin/x-www-browser (x-www-browser) in auto mode\n",
            "update-alternatives: using /usr/bin/chromium-browser to provide /usr/bin/gnome-www-browser (gnome-www-browser) in auto mode\n",
            "Setting up chromium-chromedriver (87.0.4280.66-0ubuntu0.18.04.1) ...\n",
            "Setting up chromium-browser-l10n (87.0.4280.66-0ubuntu0.18.04.1) ...\n",
            "Processing triggers for hicolor-icon-theme (0.17-2) ...\n",
            "Processing triggers for mime-support (3.60ubuntu1) ...\n",
            "Processing triggers for man-db (2.8.3-2ubuntu0.1) ...\n",
            "Collecting webdriver-manager\n",
            "  Downloading https://files.pythonhosted.org/packages/32/28/a4e7638fc497ff8f86c6670a5f9f42dc018c37a0b254caa5e51799959da5/webdriver_manager-3.3.0-py2.py3-none-any.whl\n",
            "Collecting configparser\n",
            "  Downloading https://files.pythonhosted.org/packages/fd/01/ff260a18caaf4457eb028c96eeb405c4a230ca06c8ec9c1379f813caa52e/configparser-5.0.2-py3-none-any.whl\n",
            "Requirement already satisfied: requests in /usr/local/lib/python3.7/dist-packages (from webdriver-manager) (2.23.0)\n",
            "Collecting crayons\n",
            "  Downloading https://files.pythonhosted.org/packages/5b/0d/e3fad4ca1de8e70e06444e7d777a5984261e1db98758b5be3e8296c03fe9/crayons-0.4.0-py2.py3-none-any.whl\n",
            "Requirement already satisfied: idna<3,>=2.5 in /usr/local/lib/python3.7/dist-packages (from requests->webdriver-manager) (2.10)\n",
            "Requirement already satisfied: chardet<4,>=3.0.2 in /usr/local/lib/python3.7/dist-packages (from requests->webdriver-manager) (3.0.4)\n",
            "Requirement already satisfied: certifi>=2017.4.17 in /usr/local/lib/python3.7/dist-packages (from requests->webdriver-manager) (2020.12.5)\n",
            "Requirement already satisfied: urllib3!=1.25.0,!=1.25.1,<1.26,>=1.21.1 in /usr/local/lib/python3.7/dist-packages (from requests->webdriver-manager) (1.24.3)\n",
            "Collecting colorama\n",
            "  Downloading https://files.pythonhosted.org/packages/44/98/5b86278fbbf250d239ae0ecb724f8572af1c91f4a11edf4d36a206189440/colorama-0.4.4-py2.py3-none-any.whl\n",
            "Installing collected packages: configparser, colorama, crayons, webdriver-manager\n",
            "Successfully installed colorama-0.4.4 configparser-5.0.2 crayons-0.4.0 webdriver-manager-3.3.0\n",
            "cp: missing destination file operand after '/usr/lib/chromium-browser/chromedriver/usr/bin'\n",
            "Try 'cp --help' for more information.\n",
            "Collecting msticpy\n",
            "\u001b[?25l  Downloading https://files.pythonhosted.org/packages/02/8f/ff7360690364e5d36cdb74370d726774a78021051841f56c63833a4dcc22/msticpy-0.9.0-py3-none-any.whl (390kB)\n",
            "\u001b[K     |████████████████████████████████| 399kB 5.3MB/s \n",
            "\u001b[?25hCollecting dnspython>=1.16.0\n",
            "\u001b[?25l  Downloading https://files.pythonhosted.org/packages/f5/2d/ae9e172b4e5e72fa4b3cfc2517f38b602cc9ba31355f9669c502b4e9c458/dnspython-2.1.0-py3-none-any.whl (241kB)\n",
            "\u001b[K     |████████████████████████████████| 245kB 32.9MB/s \n",
            "\u001b[?25hCollecting Kqlmagic>=0.1.106\n",
            "\u001b[?25l  Downloading https://files.pythonhosted.org/packages/49/b2/a0c54edbe48a111af171c2aad74752e938f5f9dfc61dad8c9d3cdc11960f/Kqlmagic-0.1.113.post1-py3-none-any.whl (197kB)\n",
            "\u001b[K     |████████████████████████████████| 204kB 44.8MB/s \n",
            "\u001b[?25hCollecting azure-identity>=1.5.0\n",
            "\u001b[?25l  Downloading https://files.pythonhosted.org/packages/2a/35/64e29615e7709c10c4f1d4310a8c13a6770142e9fcb9358fb8fa4d9b1578/azure_identity-1.5.0-py2.py3-none-any.whl (103kB)\n",
            "\u001b[K     |████████████████████████████████| 112kB 38.7MB/s \n",
            "\u001b[?25hRequirement already satisfied: urllib3>=1.23 in /usr/local/lib/python3.7/dist-packages (from msticpy) (1.24.3)\n",
            "Collecting azure-mgmt-core>=1.2.1\n",
            "  Downloading https://files.pythonhosted.org/packages/63/a0/2074af80e53b9d50ce9ac3d358778d3eca4508823afec83ea76ba989234b/azure_mgmt_core-1.2.2-py2.py3-none-any.whl\n",
            "Collecting azure-core>=1.2.2\n",
            "\u001b[?25l  Downloading https://files.pythonhosted.org/packages/f5/2a/ad5f6bb3fcbb5c59087183041c82fe74d536204a03f9a662db825e1b3be4/azure_core-1.11.0-py2.py3-none-any.whl (127kB)\n",
            "\u001b[K     |████████████████████████████████| 133kB 42.8MB/s \n",
            "\u001b[?25hCollecting tldextract>=2.2.2\n",
            "\u001b[?25l  Downloading https://files.pythonhosted.org/packages/7e/62/b6acd3129c5615b9860e670df07fd55b76175b63e6b7f68282c7cad38e9e/tldextract-3.1.0-py2.py3-none-any.whl (87kB)\n",
            "\u001b[K     |████████████████████████████████| 92kB 9.2MB/s \n",
            "\u001b[?25hRequirement already satisfied: seaborn>=0.9.0 in /usr/local/lib/python3.7/dist-packages (from msticpy) (0.11.1)\n",
            "Requirement already satisfied: networkx>=2.2 in /usr/local/lib/python3.7/dist-packages (from msticpy) (2.5)\n",
            "Collecting cryptography>=3.1\n",
            "\u001b[?25l  Downloading https://files.pythonhosted.org/packages/f8/1f/acde6ff69864c5e78b56488e3afd93c1ccc8c2651186e2a5f93d93f64859/cryptography-3.4.6-cp36-abi3-manylinux2014_x86_64.whl (3.2MB)\n",
            "\u001b[K     |████████████████████████████████| 3.2MB 32.3MB/s \n",
            "\u001b[?25hCollecting folium>=0.9.0\n",
            "\u001b[?25l  Downloading https://files.pythonhosted.org/packages/c3/83/e8cb37afc2f016a1cf4caab8d22caf7fe4156c4c15230d8abc9c83547e0c/folium-0.12.1-py2.py3-none-any.whl (94kB)\n",
            "\u001b[K     |████████████████████████████████| 102kB 9.5MB/s \n",
            "\u001b[?25hRequirement already satisfied: bokeh>=1.4.0 in /usr/local/lib/python3.7/dist-packages (from msticpy) (2.1.1)\n",
            "Collecting msrestazure>=0.6.0\n",
            "\u001b[?25l  Downloading https://files.pythonhosted.org/packages/5e/3a/7adb08fd2f0ee6fdfd03685fac38477b64f184943dcf6ea0cbffb205f22d/msrestazure-0.6.4-py2.py3-none-any.whl (40kB)\n",
            "\u001b[K     |████████████████████████████████| 40kB 4.8MB/s \n",
            "\u001b[?25hCollecting pytz>=2019.2\n",
            "\u001b[?25l  Downloading https://files.pythonhosted.org/packages/70/94/784178ca5dd892a98f113cdd923372024dc04b8d40abe77ca76b5fb90ca6/pytz-2021.1-py2.py3-none-any.whl (510kB)\n",
            "\u001b[K     |████████████████████████████████| 512kB 40.6MB/s \n",
            "\u001b[?25hCollecting azure-mgmt-subscription>=0.2.0\n",
            "\u001b[?25l  Downloading https://files.pythonhosted.org/packages/26/80/9f642569308fad5e8c68d7f707c20aaf4b82eb38b088c0095b5c9944d21d/azure_mgmt_subscription-1.0.0-py2.py3-none-any.whl (40kB)\n",
            "\u001b[K     |████████████████████████████████| 40kB 4.7MB/s \n",
            "\u001b[?25hRequirement already satisfied: attrs>=18.2.0 in /usr/local/lib/python3.7/dist-packages (from msticpy) (20.3.0)\n",
            "Requirement already satisfied: pyyaml>=3.13 in /usr/local/lib/python3.7/dist-packages (from msticpy) (3.13)\n",
            "Requirement already satisfied: setuptools>=40.6.3 in /usr/local/lib/python3.7/dist-packages (from msticpy) (54.0.0)\n",
            "Collecting azure-mgmt-keyvault>=2.0.0\n",
            "\u001b[?25l  Downloading https://files.pythonhosted.org/packages/a4/1f/7147646213b4cba47b05e1a55059509f3d7941c50f75c78f4a803776320e/azure_mgmt_keyvault-8.0.0-py2.py3-none-any.whl (197kB)\n",
            "\u001b[K     |████████████████████████████████| 204kB 36.2MB/s \n",
            "\u001b[?25hCollecting statsmodels>=0.11.1\n",
            "\u001b[?25l  Downloading https://files.pythonhosted.org/packages/da/69/8eef30a6237c54f3c0b524140e2975f4b1eea3489b45eb3339574fc8acee/statsmodels-0.12.2-cp37-cp37m-manylinux1_x86_64.whl (9.5MB)\n",
            "\u001b[K     |████████████████████████████████| 9.5MB 22.3MB/s \n",
            "\u001b[?25hRequirement already satisfied: ipywidgets>=7.4.2 in /usr/local/lib/python3.7/dist-packages (from msticpy) (7.6.3)\n",
            "Requirement already satisfied: html5lib in /usr/local/lib/python3.7/dist-packages (from msticpy) (1.0.1)\n",
            "Requirement already satisfied: scikit-learn>=0.20.2 in /usr/local/lib/python3.7/dist-packages (from msticpy) (0.22.2.post1)\n",
            "Collecting azure-keyvault-secrets>=4.0.0\n",
            "\u001b[?25l  Downloading https://files.pythonhosted.org/packages/43/ae/4ad0c67e54f820d0ead249ce48e8cf498cfee42034dcd837d8f218ba9e76/azure_keyvault_secrets-4.2.0-py2.py3-none-any.whl (206kB)\n",
            "\u001b[K     |████████████████████████████████| 215kB 39.4MB/s \n",
            "\u001b[?25hCollecting azure-mgmt-resource>=2.2.0\n",
            "\u001b[?25l  Downloading https://files.pythonhosted.org/packages/03/a6/db3806482b92a0516e02ffa3d5abfc05f3556b9c841a7fd253fe89e144ad/azure_mgmt_resource-16.0.0-py2.py3-none-any.whl (1.8MB)\n",
            "\u001b[K     |████████████████████████████████| 1.8MB 43.7MB/s \n",
            "\u001b[?25hRequirement already satisfied: scipy>=1.1.0 in /usr/local/lib/python3.7/dist-packages (from msticpy) (1.4.1)\n",
            "Collecting azure-storage-blob>=12.5.0\n",
            "\u001b[?25l  Downloading https://files.pythonhosted.org/packages/09/14/4ca417a9c92b0fb93516575dd7be9b058bf13d531dcc21239b5f8f216a69/azure_storage_blob-12.8.0-py2.py3-none-any.whl (341kB)\n",
            "\u001b[K     |████████████████████████████████| 348kB 45.2MB/s \n",
            "\u001b[?25hCollecting geoip2>=2.9.0\n",
            "  Downloading https://files.pythonhosted.org/packages/15/85/c170af85a6a096fbe7a8ee3f6abcea7497113a70798398267d3cad8fabf1/geoip2-4.1.0-py2.py3-none-any.whl\n",
            "Requirement already satisfied: pandas>=0.25.0 in /usr/local/lib/python3.7/dist-packages (from msticpy) (1.1.5)\n",
            "Collecting msrest>=0.6.0\n",
            "\u001b[?25l  Downloading https://files.pythonhosted.org/packages/e8/cc/6c96bfb3d3cf4c3bdedfa6b46503223f4c2a4fa388377697e0f8082a4fed/msrest-0.6.21-py2.py3-none-any.whl (85kB)\n",
            "\u001b[K     |████████████████████████████████| 92kB 9.7MB/s \n",
            "\u001b[?25hCollecting azure-mgmt-compute>=4.6.2\n",
            "\u001b[?25l  Downloading https://files.pythonhosted.org/packages/7a/28/21236b2de9d7a2ed82d38429324ef919f2b5be4de0ab77a11753c81801c2/azure_mgmt_compute-19.0.0-py2.py3-none-any.whl (3.4MB)\n",
            "\u001b[K     |████████████████████████████████| 3.4MB 47.5MB/s \n",
            "\u001b[?25hCollecting keyring>=13.2.1\n",
            "  Downloading https://files.pythonhosted.org/packages/4a/4f/a63f284d26eac29a29e24657d12f17bddac58b12673ca39b53ae5f20c1a3/keyring-23.0.0-py3-none-any.whl\n",
            "Collecting splunk-sdk>=1.6.0\n",
            "\u001b[?25l  Downloading https://files.pythonhosted.org/packages/9d/65/ca741361b7199b279cd83753ebbc9671e5364a850859864200a6caee6f63/splunk-sdk-1.6.15.tar.gz (105kB)\n",
            "\u001b[K     |████████████████████████████████| 112kB 41.8MB/s \n",
            "\u001b[?25hCollecting azure-mgmt-monitor>=2.0.0\n",
            "\u001b[?25l  Downloading https://files.pythonhosted.org/packages/92/52/012f082405ae3d9e22ee9b46474394fd74116db52deb694277613a524a70/azure_mgmt_monitor-2.0.0-py2.py3-none-any.whl (607kB)\n",
            "\u001b[K     |████████████████████████████████| 614kB 27.3MB/s \n",
            "\u001b[?25hCollecting ipython>=7.1.1\n",
            "\u001b[?25l  Downloading https://files.pythonhosted.org/packages/3b/43/6dbd0610550708fc418ad027fda97b5f415da9053749641654fdacfec93f/ipython-7.21.0-py3-none-any.whl (784kB)\n",
            "\u001b[K     |████████████████████████████████| 788kB 32.2MB/s \n",
            "\u001b[?25hCollecting adal>=1.2.2\n",
            "\u001b[?25l  Downloading https://files.pythonhosted.org/packages/61/a1/5f5fb9f4edb6e8b7882281158edc1cd465249c53fd48b1bf6af2c9237fe5/adal-1.2.6-py2.py3-none-any.whl (55kB)\n",
            "\u001b[K     |████████████████████████████████| 61kB 6.2MB/s \n",
            "\u001b[?25hRequirement already satisfied: matplotlib>=3.0.0 in /usr/local/lib/python3.7/dist-packages (from msticpy) (3.2.2)\n",
            "Requirement already satisfied: tqdm>=4.36.1 in /usr/local/lib/python3.7/dist-packages (from msticpy) (4.41.1)\n",
            "Requirement already satisfied: numpy>=1.15.4 in /usr/local/lib/python3.7/dist-packages (from msticpy) (1.19.5)\n",
            "Requirement already satisfied: beautifulsoup4>=4.6.3 in /usr/local/lib/python3.7/dist-packages (from msticpy) (4.6.3)\n",
            "Collecting ipwhois>=1.1.0\n",
            "\u001b[?25l  Downloading https://files.pythonhosted.org/packages/6c/f5/9fbd3f0b6c52648b8fb95a9b376a756183941aaa76ca8728de5f81fbc7c2/ipwhois-1.2.0-py2.py3-none-any.whl (73kB)\n",
            "\u001b[K     |████████████████████████████████| 81kB 8.3MB/s \n",
            "\u001b[?25hCollecting azure-mgmt-network>=2.7.0\n",
            "\u001b[?25l  Downloading https://files.pythonhosted.org/packages/d2/f8/f92d35137e8f3b5596419522f1fb36fbe55cc15c47a7e748a9595b0c5968/azure_mgmt_network-17.1.0-py2.py3-none-any.whl (18.8MB)\n",
            "\u001b[K     |████████████████████████████████| 18.9MB 1.3MB/s \n",
            "\u001b[?25hRequirement already satisfied: python-dateutil>=2.8.1 in /usr/local/lib/python3.7/dist-packages (from msticpy) (2.8.1)\n",
            "Collecting deprecated>=1.2.4\n",
            "  Downloading https://files.pythonhosted.org/packages/d4/56/7d4774533d2c119e1873993d34d313c9c9efc88c5e4ab7e33bdf915ad98c/Deprecated-1.2.11-py2.py3-none-any.whl\n",
            "Collecting azure-common>=1.1.18\n",
            "  Downloading https://files.pythonhosted.org/packages/19/2b/46ada1753c4a640bc3ad04a1e20b1a5ea52a8f18079e1b8238e536aa0c98/azure_common-1.1.26-py2.py3-none-any.whl\n",
            "Requirement already satisfied: requests>=2.21.1 in /usr/local/lib/python3.7/dist-packages (from msticpy) (2.23.0)\n",
            "Requirement already satisfied: Pygments>=2.2.0 in /usr/local/lib/python3.7/dist-packages (from Kqlmagic>=0.1.106->msticpy) (2.6.1)\n",
            "Collecting pyjwt>=1.7.1\n",
            "  Downloading https://files.pythonhosted.org/packages/b4/9b/8850f99027ed029af6828199cc87179eaccbbf1f9e6e373e7f0177d32dad/PyJWT-2.0.1-py3-none-any.whl\n",
            "Collecting pyperclip>=1.7.0\n",
            "  Downloading https://files.pythonhosted.org/packages/a7/2c/4c64579f847bd5d539803c8b909e54ba087a79d01bb3aba433a95879a6c5/pyperclip-1.8.2.tar.gz\n",
            "Requirement already satisfied: flask>=1.1.1 in /usr/local/lib/python3.7/dist-packages (from Kqlmagic>=0.1.106->msticpy) (1.1.2)\n",
            "Requirement already satisfied: prettytable>=0.7.2 in /usr/local/lib/python3.7/dist-packages (from Kqlmagic>=0.1.106->msticpy) (2.0.0)\n",
            "Requirement already satisfied: traitlets>=4.3.2 in /usr/local/lib/python3.7/dist-packages (from Kqlmagic>=0.1.106->msticpy) (5.0.5)\n",
            "Collecting isodate>=0.6.0\n",
            "\u001b[?25l  Downloading https://files.pythonhosted.org/packages/9b/9f/b36f7774ff5ea8e428fdcfc4bb332c39ee5b9362ddd3d40d9516a55221b2/isodate-0.6.0-py2.py3-none-any.whl (45kB)\n",
            "\u001b[K     |████████████████████████████████| 51kB 5.3MB/s \n",
            "\u001b[?25hRequirement already satisfied: psutil>=5.4.7 in /usr/local/lib/python3.7/dist-packages (from Kqlmagic>=0.1.106->msticpy) (5.4.8)\n",
            "Requirement already satisfied: six>=1.11.0 in /usr/local/lib/python3.7/dist-packages (from Kqlmagic>=0.1.106->msticpy) (1.15.0)\n",
            "Collecting ipykernel>=5.1.1\n",
            "\u001b[?25l  Downloading https://files.pythonhosted.org/packages/56/95/3a670c8b2c2370bd8631c313f42e60983b3113ffec4035940592252bd6d5/ipykernel-5.5.0-py3-none-any.whl (120kB)\n",
            "\u001b[K     |████████████████████████████████| 122kB 39.8MB/s \n",
            "\u001b[?25hCollecting azure-cli-core>=2.6.0\n",
            "\u001b[?25l  Downloading https://files.pythonhosted.org/packages/b9/1c/61b5388467982990a1f0763b858a6d55376f61d75378c754a1adfc661c94/azure_cli_core-2.20.0-py3-none-any.whl (221kB)\n",
            "\u001b[K     |████████████████████████████████| 225kB 54.5MB/s \n",
            "\u001b[?25hRequirement already satisfied: plotly>=3.10.0 in /usr/local/lib/python3.7/dist-packages (from Kqlmagic>=0.1.106->msticpy) (4.4.1)\n",
            "Requirement already satisfied: Markdown>=3.0.1 in /usr/local/lib/python3.7/dist-packages (from Kqlmagic>=0.1.106->msticpy) (3.3.4)\n",
            "Requirement already satisfied: lxml>=4.2.5 in /usr/local/lib/python3.7/dist-packages (from Kqlmagic>=0.1.106->msticpy) (4.2.6)\n",
            "Collecting msal-extensions~=0.3.0\n",
            "  Downloading https://files.pythonhosted.org/packages/49/cb/c833ffa0f97c3098b146ac19bb2266c2d84b2119ffff83fdf001bb59d3ae/msal_extensions-0.3.0-py2.py3-none-any.whl\n",
            "Collecting msal<2.0.0,>=1.6.0\n",
            "\u001b[?25l  Downloading https://files.pythonhosted.org/packages/95/a4/93e269e5c473d940b3dec8f55ac5154865c07a7414ade93a4119e4154ff3/msal-1.9.0-py2.py3-none-any.whl (59kB)\n",
            "\u001b[K     |████████████████████████████████| 61kB 6.9MB/s \n",
            "\u001b[?25hCollecting requests-file>=1.4\n",
            "  Downloading https://files.pythonhosted.org/packages/77/86/cdb5e8eaed90796aa83a6d9f75cfbd37af553c47a291cd47bc410ef9bdb2/requests_file-1.5.1-py2.py3-none-any.whl\n",
            "Requirement already satisfied: filelock>=3.0.8 in /usr/local/lib/python3.7/dist-packages (from tldextract>=2.2.2->msticpy) (3.0.12)\n",
            "Requirement already satisfied: idna in /usr/local/lib/python3.7/dist-packages (from tldextract>=2.2.2->msticpy) (2.10)\n",
            "Requirement already satisfied: decorator>=4.3.0 in /usr/local/lib/python3.7/dist-packages (from networkx>=2.2->msticpy) (4.4.2)\n",
            "Requirement already satisfied: cffi>=1.12 in /usr/local/lib/python3.7/dist-packages (from cryptography>=3.1->msticpy) (1.14.5)\n",
            "Requirement already satisfied: branca>=0.3.0 in /usr/local/lib/python3.7/dist-packages (from folium>=0.9.0->msticpy) (0.4.2)\n",
            "Requirement already satisfied: jinja2>=2.9 in /usr/local/lib/python3.7/dist-packages (from folium>=0.9.0->msticpy) (2.11.3)\n",
            "Requirement already satisfied: tornado>=5.1 in /usr/local/lib/python3.7/dist-packages (from bokeh>=1.4.0->msticpy) (5.1.1)\n",
            "Requirement already satisfied: packaging>=16.8 in /usr/local/lib/python3.7/dist-packages (from bokeh>=1.4.0->msticpy) (20.9)\n",
            "Requirement already satisfied: typing-extensions>=3.7.4 in /usr/local/lib/python3.7/dist-packages (from bokeh>=1.4.0->msticpy) (3.7.4.3)\n",
            "Requirement already satisfied: pillow>=4.0 in /usr/local/lib/python3.7/dist-packages (from bokeh>=1.4.0->msticpy) (7.0.0)\n",
            "Requirement already satisfied: patsy>=0.5 in /usr/local/lib/python3.7/dist-packages (from statsmodels>=0.11.1->msticpy) (0.5.1)\n",
            "Requirement already satisfied: nbformat>=4.2.0 in /usr/local/lib/python3.7/dist-packages (from ipywidgets>=7.4.2->msticpy) (5.1.2)\n",
            "Requirement already satisfied: widgetsnbextension~=3.5.0 in /usr/local/lib/python3.7/dist-packages (from ipywidgets>=7.4.2->msticpy) (3.5.1)\n",
            "Requirement already satisfied: jupyterlab-widgets>=1.0.0; python_version >= \"3.6\" in /usr/local/lib/python3.7/dist-packages (from ipywidgets>=7.4.2->msticpy) (1.0.0)\n",
            "Requirement already satisfied: webencodings in /usr/local/lib/python3.7/dist-packages (from html5lib->msticpy) (0.5.1)\n",
            "Requirement already satisfied: joblib>=0.11 in /usr/local/lib/python3.7/dist-packages (from scikit-learn>=0.20.2->msticpy) (1.0.1)\n",
            "Collecting maxminddb<3.0.0,>=2.0.0\n",
            "\u001b[?25l  Downloading https://files.pythonhosted.org/packages/51/90/e1718dc14b9ecc7e1ef627f577d92d644a4acebcb4d97f6a6918e12591ba/maxminddb-2.0.3.tar.gz (286kB)\n",
            "\u001b[K     |████████████████████████████████| 286kB 50.8MB/s \n",
            "\u001b[?25hCollecting aiohttp<4.0.0,>=3.6.2\n",
            "\u001b[?25l  Downloading https://files.pythonhosted.org/packages/5b/a6/d36302eba284f4f427dc288f6b3ecd7f89d739cfca206b80311d3158f6d9/aiohttp-3.7.4-cp37-cp37m-manylinux2014_x86_64.whl (1.3MB)\n",
            "\u001b[K     |████████████████████████████████| 1.3MB 33.7MB/s \n",
            "\u001b[?25hRequirement already satisfied: requests-oauthlib>=0.5.0 in /usr/local/lib/python3.7/dist-packages (from msrest>=0.6.0->msticpy) (1.3.0)\n",
            "Requirement already satisfied: certifi>=2017.4.17 in /usr/local/lib/python3.7/dist-packages (from msrest>=0.6.0->msticpy) (2020.12.5)\n",
            "Requirement already satisfied: importlib-metadata>=3.6 in /usr/local/lib/python3.7/dist-packages (from keyring>=13.2.1->msticpy) (3.7.0)\n",
            "Collecting jeepney>=0.4.2; sys_platform == \"linux\"\n",
            "\u001b[?25l  Downloading https://files.pythonhosted.org/packages/51/b0/a6ea72741aaac3f37fb96d195e4ee576a103c4c04e279bc6b446a70960e1/jeepney-0.6.0-py3-none-any.whl (45kB)\n",
            "\u001b[K     |████████████████████████████████| 51kB 5.4MB/s \n",
            "\u001b[?25hCollecting SecretStorage>=3.2; sys_platform == \"linux\"\n",
            "  Downloading https://files.pythonhosted.org/packages/d9/1e/29cd69fdac7391aa51510dfd42aa70b4e6a826c8cd019ee2a8ab9ec0777f/SecretStorage-3.3.1-py3-none-any.whl\n",
            "Collecting prompt-toolkit!=3.0.0,!=3.0.1,<3.1.0,>=2.0.0\n",
            "\u001b[?25l  Downloading https://files.pythonhosted.org/packages/a6/0b/c6de29441b29f8b54d5bbe29a8b223de6e400714ff50e85541bd4c783421/prompt_toolkit-3.0.16-py3-none-any.whl (366kB)\n",
            "\u001b[K     |████████████████████████████████| 368kB 51.1MB/s \n",
            "\u001b[?25hRequirement already satisfied: pexpect>4.3; sys_platform != \"win32\" in /usr/local/lib/python3.7/dist-packages (from ipython>=7.1.1->msticpy) (4.8.0)\n",
            "Requirement already satisfied: pickleshare in /usr/local/lib/python3.7/dist-packages (from ipython>=7.1.1->msticpy) (0.7.5)\n",
            "Requirement already satisfied: backcall in /usr/local/lib/python3.7/dist-packages (from ipython>=7.1.1->msticpy) (0.2.0)\n",
            "Requirement already satisfied: jedi>=0.16 in /usr/local/lib/python3.7/dist-packages (from ipython>=7.1.1->msticpy) (0.18.0)\n",
            "Requirement already satisfied: kiwisolver>=1.0.1 in /usr/local/lib/python3.7/dist-packages (from matplotlib>=3.0.0->msticpy) (1.3.1)\n",
            "Requirement already satisfied: pyparsing!=2.0.4,!=2.1.2,!=2.1.6,>=2.0.1 in /usr/local/lib/python3.7/dist-packages (from matplotlib>=3.0.0->msticpy) (2.4.7)\n",
            "Requirement already satisfied: cycler>=0.10 in /usr/local/lib/python3.7/dist-packages (from matplotlib>=3.0.0->msticpy) (0.10.0)\n",
            "Requirement already satisfied: wrapt<2,>=1.10 in /usr/local/lib/python3.7/dist-packages (from deprecated>=1.2.4->msticpy) (1.12.1)\n",
            "Requirement already satisfied: chardet<4,>=3.0.2 in /usr/local/lib/python3.7/dist-packages (from requests>=2.21.1->msticpy) (3.0.4)\n",
            "Requirement already satisfied: itsdangerous>=0.24 in /usr/local/lib/python3.7/dist-packages (from flask>=1.1.1->Kqlmagic>=0.1.106->msticpy) (1.1.0)\n",
            "Requirement already satisfied: click>=5.1 in /usr/local/lib/python3.7/dist-packages (from flask>=1.1.1->Kqlmagic>=0.1.106->msticpy) (7.1.2)\n",
            "Requirement already satisfied: Werkzeug>=0.15 in /usr/local/lib/python3.7/dist-packages (from flask>=1.1.1->Kqlmagic>=0.1.106->msticpy) (1.0.1)\n",
            "Requirement already satisfied: wcwidth in /usr/local/lib/python3.7/dist-packages (from prettytable>=0.7.2->Kqlmagic>=0.1.106->msticpy) (0.2.5)\n",
            "Requirement already satisfied: ipython-genutils in /usr/local/lib/python3.7/dist-packages (from traitlets>=4.3.2->Kqlmagic>=0.1.106->msticpy) (0.2.0)\n",
            "Requirement already satisfied: jupyter-client in /usr/local/lib/python3.7/dist-packages (from ipykernel>=5.1.1->Kqlmagic>=0.1.106->msticpy) (5.3.5)\n",
            "Collecting knack==0.8.0rc2\n",
            "\u001b[?25l  Downloading https://files.pythonhosted.org/packages/bb/39/2193c857270290ab6613a929e948e56f3fe461efa14d584fdeb8fdfcfa76/knack-0.8.0rc2-py3-none-any.whl (59kB)\n",
            "\u001b[K     |████████████████████████████████| 61kB 4.4MB/s \n",
            "\u001b[?25hCollecting jmespath\n",
            "  Downloading https://files.pythonhosted.org/packages/07/cb/5f001272b6faeb23c1c9e0acc04d48eaaf5c862c17709d20e3469c6e0139/jmespath-0.10.0-py2.py3-none-any.whl\n",
            "Collecting argcomplete~=1.8\n",
            "  Downloading https://files.pythonhosted.org/packages/e3/d0/ee7fc6ceac8957196def9bfa3b955d02163058defd3edd51ef7b1ff2769e/argcomplete-1.12.2-py2.py3-none-any.whl\n",
            "Collecting azure-cli-telemetry==1.0.6.*\n",
            "  Downloading https://files.pythonhosted.org/packages/c7/2a/5a603f9d9c96a06dd0994ca4c511454a1c7984ef111711b93394edd2bcf9/azure_cli_telemetry-1.0.6-py3-none-any.whl\n",
            "Collecting paramiko<3.0.0,>=2.0.8\n",
            "\u001b[?25l  Downloading https://files.pythonhosted.org/packages/95/19/124e9287b43e6ff3ebb9cdea3e5e8e88475a873c05ccdf8b7e20d2c4201e/paramiko-2.7.2-py2.py3-none-any.whl (206kB)\n",
            "\u001b[K     |████████████████████████████████| 215kB 46.4MB/s \n",
            "\u001b[?25hCollecting pyopenssl>=17.1.0\n",
            "\u001b[?25l  Downloading https://files.pythonhosted.org/packages/b2/5e/06351ede29fd4899782ad335c2e02f1f862a887c20a3541f17c3fa1a3525/pyOpenSSL-20.0.1-py2.py3-none-any.whl (54kB)\n",
            "\u001b[K     |████████████████████████████████| 61kB 7.0MB/s \n",
            "\u001b[?25hCollecting pkginfo>=1.5.0.1\n",
            "  Downloading https://files.pythonhosted.org/packages/b0/9a/d78e7c299eb5659bc3a036e5a968a399c62bfe0b2aa18baf7d13f43373ba/pkginfo-1.7.0-py2.py3-none-any.whl\n",
            "Collecting humanfriendly<10.0,>=4.7\n",
            "\u001b[?25l  Downloading https://files.pythonhosted.org/packages/93/66/363d01a81da2108a5cf446daf619779f06d49a0c4426dd02b40734f10e2f/humanfriendly-9.1-py2.py3-none-any.whl (86kB)\n",
            "\u001b[K     |████████████████████████████████| 92kB 7.4MB/s \n",
            "\u001b[?25hRequirement already satisfied: colorama~=0.4.1 in /usr/local/lib/python3.7/dist-packages (from azure-cli-core>=2.6.0->Kqlmagic>=0.1.106->msticpy) (0.4.4)\n",
            "Requirement already satisfied: retrying>=1.3.3 in /usr/local/lib/python3.7/dist-packages (from plotly>=3.10.0->Kqlmagic>=0.1.106->msticpy) (1.3.3)\n",
            "Collecting portalocker~=1.0; platform_system != \"Windows\"\n",
            "  Downloading https://files.pythonhosted.org/packages/3b/e7/ceef002a300a98a208232fab593183249b6964b306ee7dabb29908419cca/portalocker-1.7.1-py2.py3-none-any.whl\n",
            "Requirement already satisfied: pycparser in /usr/local/lib/python3.7/dist-packages (from cffi>=1.12->cryptography>=3.1->msticpy) (2.20)\n",
            "Requirement already satisfied: MarkupSafe>=0.23 in /usr/local/lib/python3.7/dist-packages (from jinja2>=2.9->folium>=0.9.0->msticpy) (1.1.1)\n",
            "Requirement already satisfied: jupyter-core in /usr/local/lib/python3.7/dist-packages (from nbformat>=4.2.0->ipywidgets>=7.4.2->msticpy) (4.7.1)\n",
            "Requirement already satisfied: jsonschema!=2.5.0,>=2.4 in /usr/local/lib/python3.7/dist-packages (from nbformat>=4.2.0->ipywidgets>=7.4.2->msticpy) (2.6.0)\n",
            "Requirement already satisfied: notebook>=4.4.1 in /usr/local/lib/python3.7/dist-packages (from widgetsnbextension~=3.5.0->ipywidgets>=7.4.2->msticpy) (5.3.1)\n",
            "Collecting multidict<7.0,>=4.5\n",
            "\u001b[?25l  Downloading https://files.pythonhosted.org/packages/7c/a6/4123b8165acbe773d1a8dc8e3f0d1edea16d29f7de018eda769abb56bd30/multidict-5.1.0-cp37-cp37m-manylinux2014_x86_64.whl (142kB)\n",
            "\u001b[K     |████████████████████████████████| 143kB 44.9MB/s \n",
            "\u001b[?25hCollecting async-timeout<4.0,>=3.0\n",
            "  Downloading https://files.pythonhosted.org/packages/e1/1e/5a4441be21b0726c4464f3f23c8b19628372f606755a9d2e46c187e65ec4/async_timeout-3.0.1-py3-none-any.whl\n",
            "Collecting yarl<2.0,>=1.0\n",
            "\u001b[?25l  Downloading https://files.pythonhosted.org/packages/f1/62/046834c5fc998c88ab2ef722f5d42122230a632212c8afa76418324f53ff/yarl-1.6.3-cp37-cp37m-manylinux2014_x86_64.whl (294kB)\n",
            "\u001b[K     |████████████████████████████████| 296kB 49.8MB/s \n",
            "\u001b[?25hRequirement already satisfied: oauthlib>=3.0.0 in /usr/local/lib/python3.7/dist-packages (from requests-oauthlib>=0.5.0->msrest>=0.6.0->msticpy) (3.1.0)\n",
            "Requirement already satisfied: zipp>=0.5 in /usr/local/lib/python3.7/dist-packages (from importlib-metadata>=3.6->keyring>=13.2.1->msticpy) (3.4.0)\n",
            "Requirement already satisfied: ptyprocess>=0.5 in /usr/local/lib/python3.7/dist-packages (from pexpect>4.3; sys_platform != \"win32\"->ipython>=7.1.1->msticpy) (0.7.0)\n",
            "Requirement already satisfied: parso<0.9.0,>=0.8.0 in /usr/local/lib/python3.7/dist-packages (from jedi>=0.16->ipython>=7.1.1->msticpy) (0.8.1)\n",
            "Requirement already satisfied: pyzmq>=13 in /usr/local/lib/python3.7/dist-packages (from jupyter-client->ipykernel>=5.1.1->Kqlmagic>=0.1.106->msticpy) (22.0.3)\n",
            "Requirement already satisfied: tabulate in /usr/local/lib/python3.7/dist-packages (from knack==0.8.0rc2->azure-cli-core>=2.6.0->Kqlmagic>=0.1.106->msticpy) (0.8.9)\n",
            "Collecting applicationinsights<0.12,>=0.11.1\n",
            "\u001b[?25l  Downloading https://files.pythonhosted.org/packages/a1/53/234c53004f71f0717d8acd37876e0b65c121181167057b9ce1b1795f96a0/applicationinsights-0.11.9-py2.py3-none-any.whl (58kB)\n",
            "\u001b[K     |████████████████████████████████| 61kB 5.9MB/s \n",
            "\u001b[?25hCollecting pynacl>=1.0.1\n",
            "\u001b[?25l  Downloading https://files.pythonhosted.org/packages/9d/57/2f5e6226a674b2bcb6db531e8b383079b678df5b10cdaa610d6cf20d77ba/PyNaCl-1.4.0-cp35-abi3-manylinux1_x86_64.whl (961kB)\n",
            "\u001b[K     |████████████████████████████████| 962kB 45.4MB/s \n",
            "\u001b[?25hCollecting bcrypt>=3.1.3\n",
            "\u001b[?25l  Downloading https://files.pythonhosted.org/packages/26/70/6d218afbe4c73538053c1016dd631e8f25fffc10cd01f5c272d7acf3c03d/bcrypt-3.2.0-cp36-abi3-manylinux2010_x86_64.whl (63kB)\n",
            "\u001b[K     |████████████████████████████████| 71kB 6.3MB/s \n",
            "\u001b[?25hRequirement already satisfied: Send2Trash in /usr/local/lib/python3.7/dist-packages (from notebook>=4.4.1->widgetsnbextension~=3.5.0->ipywidgets>=7.4.2->msticpy) (1.5.0)\n",
            "Requirement already satisfied: terminado>=0.8.1 in /usr/local/lib/python3.7/dist-packages (from notebook>=4.4.1->widgetsnbextension~=3.5.0->ipywidgets>=7.4.2->msticpy) (0.9.2)\n",
            "Requirement already satisfied: nbconvert in /usr/local/lib/python3.7/dist-packages (from notebook>=4.4.1->widgetsnbextension~=3.5.0->ipywidgets>=7.4.2->msticpy) (5.6.1)\n",
            "Requirement already satisfied: pandocfilters>=1.4.1 in /usr/local/lib/python3.7/dist-packages (from nbconvert->notebook>=4.4.1->widgetsnbextension~=3.5.0->ipywidgets>=7.4.2->msticpy) (1.4.3)\n",
            "Requirement already satisfied: entrypoints>=0.2.2 in /usr/local/lib/python3.7/dist-packages (from nbconvert->notebook>=4.4.1->widgetsnbextension~=3.5.0->ipywidgets>=7.4.2->msticpy) (0.3)\n",
            "Requirement already satisfied: defusedxml in /usr/local/lib/python3.7/dist-packages (from nbconvert->notebook>=4.4.1->widgetsnbextension~=3.5.0->ipywidgets>=7.4.2->msticpy) (0.6.0)\n",
            "Requirement already satisfied: bleach in /usr/local/lib/python3.7/dist-packages (from nbconvert->notebook>=4.4.1->widgetsnbextension~=3.5.0->ipywidgets>=7.4.2->msticpy) (3.3.0)\n",
            "Requirement already satisfied: mistune<2,>=0.8.1 in /usr/local/lib/python3.7/dist-packages (from nbconvert->notebook>=4.4.1->widgetsnbextension~=3.5.0->ipywidgets>=7.4.2->msticpy) (0.8.4)\n",
            "Requirement already satisfied: testpath in /usr/local/lib/python3.7/dist-packages (from nbconvert->notebook>=4.4.1->widgetsnbextension~=3.5.0->ipywidgets>=7.4.2->msticpy) (0.4.4)\n",
            "Building wheels for collected packages: splunk-sdk, pyperclip, maxminddb\n",
            "  Building wheel for splunk-sdk (setup.py) ... \u001b[?25l\u001b[?25hdone\n",
            "  Created wheel for splunk-sdk: filename=splunk_sdk-1.6.15-cp37-none-any.whl size=123209 sha256=a6ad89f1a1ea0a4d926de263bd879e523ddae3401278af1610f141c4eacd1de0\n",
            "  Stored in directory: /root/.cache/pip/wheels/b6/d7/0f/0c62897973efc0b21e31712241396c099af237d0a866be8292\n",
            "  Building wheel for pyperclip (setup.py) ... \u001b[?25l\u001b[?25hdone\n",
            "  Created wheel for pyperclip: filename=pyperclip-1.8.2-cp37-none-any.whl size=11107 sha256=7e7f592a0426d9055ec3e6f1f28663dfec1c578c9a8871f8e78fdd614a3b45e5\n",
            "  Stored in directory: /root/.cache/pip/wheels/25/af/b8/3407109267803f4015e1ee2ff23be0c8c19ce4008665931ee1\n",
            "  Building wheel for maxminddb (setup.py) ... \u001b[?25l\u001b[?25hdone\n",
            "  Created wheel for maxminddb: filename=maxminddb-2.0.3-py2.py3-none-any.whl size=15284 sha256=4a9c45693fd3e882dd3ed43856c963981b976a34cd0c52c458b677a77f2754dd\n",
            "  Stored in directory: /root/.cache/pip/wheels/55/0e/56/d16e8c8c19aced8bbd51b3e40f84208f023f9a90328c6b450f\n",
            "Successfully built splunk-sdk pyperclip maxminddb\n",
            "\u001b[31mERROR: jupyter-console 5.2.0 has requirement prompt-toolkit<2.0.0,>=1.0.0, but you'll have prompt-toolkit 3.0.16 which is incompatible.\u001b[0m\n",
            "\u001b[31mERROR: google-colab 1.0.0 has requirement ipykernel~=4.10, but you'll have ipykernel 5.5.0 which is incompatible.\u001b[0m\n",
            "\u001b[31mERROR: google-colab 1.0.0 has requirement ipython~=5.5.0, but you'll have ipython 7.21.0 which is incompatible.\u001b[0m\n",
            "\u001b[31mERROR: datascience 0.10.6 has requirement folium==0.2.1, but you'll have folium 0.12.1 which is incompatible.\u001b[0m\n",
            "\u001b[31mERROR: azure-cli-core 2.20.0 has requirement cryptography<3.4,>=3.2, but you'll have cryptography 3.4.6 which is incompatible.\u001b[0m\n",
            "\u001b[31mERROR: azure-cli-core 2.20.0 has requirement psutil~=5.7, but you'll have psutil 5.4.8 which is incompatible.\u001b[0m\n",
            "\u001b[31mERROR: azure-cli-core 2.20.0 has requirement PyJWT==1.7.1, but you'll have pyjwt 2.0.1 which is incompatible.\u001b[0m\n",
            "\u001b[31mERROR: geoip2 4.1.0 has requirement requests<3.0.0,>=2.24.0, but you'll have requests 2.23.0 which is incompatible.\u001b[0m\n",
            "\u001b[31mERROR: geoip2 4.1.0 has requirement urllib3<2.0.0,>=1.25.2, but you'll have urllib3 1.24.3 which is incompatible.\u001b[0m\n",
            "\u001b[31mERROR: ipwhois 1.2.0 has requirement dnspython<=2.0.0, but you'll have dnspython 2.1.0 which is incompatible.\u001b[0m\n",
            "Installing collected packages: dnspython, pyjwt, pyperclip, isodate, msrest, cryptography, adal, msrestazure, pytz, prompt-toolkit, ipython, ipykernel, jmespath, argcomplete, knack, azure-core, azure-mgmt-core, azure-common, msal, applicationinsights, portalocker, azure-cli-telemetry, pynacl, bcrypt, paramiko, pyopenssl, pkginfo, humanfriendly, azure-cli-core, Kqlmagic, msal-extensions, azure-identity, requests-file, tldextract, folium, azure-mgmt-subscription, azure-mgmt-keyvault, statsmodels, azure-keyvault-secrets, azure-mgmt-resource, azure-storage-blob, maxminddb, multidict, async-timeout, yarl, aiohttp, geoip2, azure-mgmt-compute, jeepney, SecretStorage, keyring, splunk-sdk, azure-mgmt-monitor, ipwhois, azure-mgmt-network, deprecated, msticpy\n",
            "  Found existing installation: pytz 2018.9\n",
            "    Uninstalling pytz-2018.9:\n",
            "      Successfully uninstalled pytz-2018.9\n",
            "  Found existing installation: prompt-toolkit 1.0.18\n",
            "    Uninstalling prompt-toolkit-1.0.18:\n",
            "      Successfully uninstalled prompt-toolkit-1.0.18\n",
            "  Found existing installation: ipython 5.5.0\n",
            "    Uninstalling ipython-5.5.0:\n",
            "      Successfully uninstalled ipython-5.5.0\n",
            "  Found existing installation: ipykernel 4.10.1\n",
            "    Uninstalling ipykernel-4.10.1:\n",
            "      Successfully uninstalled ipykernel-4.10.1\n",
            "  Found existing installation: folium 0.8.3\n",
            "    Uninstalling folium-0.8.3:\n",
            "      Successfully uninstalled folium-0.8.3\n",
            "  Found existing installation: statsmodels 0.10.2\n",
            "    Uninstalling statsmodels-0.10.2:\n",
            "      Successfully uninstalled statsmodels-0.10.2\n",
            "Successfully installed Kqlmagic-0.1.113.post1 SecretStorage-3.3.1 adal-1.2.6 aiohttp-3.7.4 applicationinsights-0.11.9 argcomplete-1.12.2 async-timeout-3.0.1 azure-cli-core-2.20.0 azure-cli-telemetry-1.0.6 azure-common-1.1.26 azure-core-1.11.0 azure-identity-1.5.0 azure-keyvault-secrets-4.2.0 azure-mgmt-compute-19.0.0 azure-mgmt-core-1.2.2 azure-mgmt-keyvault-8.0.0 azure-mgmt-monitor-2.0.0 azure-mgmt-network-17.1.0 azure-mgmt-resource-16.0.0 azure-mgmt-subscription-1.0.0 azure-storage-blob-12.8.0 bcrypt-3.2.0 cryptography-3.4.6 deprecated-1.2.11 dnspython-2.1.0 folium-0.12.1 geoip2-4.1.0 humanfriendly-9.1 ipwhois-1.2.0 ipykernel-5.5.0 ipython-7.21.0 isodate-0.6.0 jeepney-0.6.0 jmespath-0.10.0 keyring-23.0.0 knack-0.8.0rc2 maxminddb-2.0.3 msal-1.9.0 msal-extensions-0.3.0 msrest-0.6.21 msrestazure-0.6.4 msticpy-0.9.0 multidict-5.1.0 paramiko-2.7.2 pkginfo-1.7.0 portalocker-1.7.1 prompt-toolkit-3.0.16 pyjwt-2.0.1 pynacl-1.4.0 pyopenssl-20.0.1 pyperclip-1.8.2 pytz-2021.1 requests-file-1.5.1 splunk-sdk-1.6.15 statsmodels-0.12.2 tldextract-3.1.0 yarl-1.6.3\n"
          ],
          "name": "stdout"
        },
        {
          "output_type": "display_data",
          "data": {
            "application/vnd.colab-display-data+json": {
              "pip_warning": {
                "packages": [
                  "IPython",
                  "ipykernel",
                  "prompt_toolkit",
                  "pytz"
                ]
              }
            }
          },
          "metadata": {
            "tags": []
          }
        },
        {
          "output_type": "stream",
          "text": [
            "Collecting tld\n",
            "\u001b[?25l  Downloading https://files.pythonhosted.org/packages/1f/51/ec8741d354a59450327be40591ef50b0ddb78bfb359fe1319003b233e5c8/tld-0.12.5-py37-none-any.whl (408kB)\n",
            "\r\u001b[K     |▉                               | 10kB 11.9MB/s eta 0:00:01\r\u001b[K     |█▋                              | 20kB 16.6MB/s eta 0:00:01\r\u001b[K     |██▍                             | 30kB 11.2MB/s eta 0:00:01\r\u001b[K     |███▏                            | 40kB 8.9MB/s eta 0:00:01\r\u001b[K     |████                            | 51kB 5.5MB/s eta 0:00:01\r\u001b[K     |████▉                           | 61kB 5.3MB/s eta 0:00:01\r\u001b[K     |█████▋                          | 71kB 5.9MB/s eta 0:00:01\r\u001b[K     |██████▍                         | 81kB 6.1MB/s eta 0:00:01\r\u001b[K     |███████▏                        | 92kB 6.1MB/s eta 0:00:01\r\u001b[K     |████████                        | 102kB 5.2MB/s eta 0:00:01\r\u001b[K     |████████▉                       | 112kB 5.2MB/s eta 0:00:01\r\u001b[K     |█████████▋                      | 122kB 5.2MB/s eta 0:00:01\r\u001b[K     |██████████▍                     | 133kB 5.2MB/s eta 0:00:01\r\u001b[K     |███████████▎                    | 143kB 5.2MB/s eta 0:00:01\r\u001b[K     |████████████                    | 153kB 5.2MB/s eta 0:00:01\r\u001b[K     |████████████▉                   | 163kB 5.2MB/s eta 0:00:01\r\u001b[K     |█████████████▋                  | 174kB 5.2MB/s eta 0:00:01\r\u001b[K     |██████████████▍                 | 184kB 5.2MB/s eta 0:00:01\r\u001b[K     |███████████████▎                | 194kB 5.2MB/s eta 0:00:01\r\u001b[K     |████████████████                | 204kB 5.2MB/s eta 0:00:01\r\u001b[K     |████████████████▉               | 215kB 5.2MB/s eta 0:00:01\r\u001b[K     |█████████████████▋              | 225kB 5.2MB/s eta 0:00:01\r\u001b[K     |██████████████████▍             | 235kB 5.2MB/s eta 0:00:01\r\u001b[K     |███████████████████▎            | 245kB 5.2MB/s eta 0:00:01\r\u001b[K     |████████████████████            | 256kB 5.2MB/s eta 0:00:01\r\u001b[K     |████████████████████▉           | 266kB 5.2MB/s eta 0:00:01\r\u001b[K     |█████████████████████▋          | 276kB 5.2MB/s eta 0:00:01\r\u001b[K     |██████████████████████▌         | 286kB 5.2MB/s eta 0:00:01\r\u001b[K     |███████████████████████▎        | 296kB 5.2MB/s eta 0:00:01\r\u001b[K     |████████████████████████        | 307kB 5.2MB/s eta 0:00:01\r\u001b[K     |████████████████████████▉       | 317kB 5.2MB/s eta 0:00:01\r\u001b[K     |█████████████████████████▋      | 327kB 5.2MB/s eta 0:00:01\r\u001b[K     |██████████████████████████▌     | 337kB 5.2MB/s eta 0:00:01\r\u001b[K     |███████████████████████████▎    | 348kB 5.2MB/s eta 0:00:01\r\u001b[K     |████████████████████████████    | 358kB 5.2MB/s eta 0:00:01\r\u001b[K     |████████████████████████████▉   | 368kB 5.2MB/s eta 0:00:01\r\u001b[K     |█████████████████████████████▊  | 378kB 5.2MB/s eta 0:00:01\r\u001b[K     |██████████████████████████████▌ | 389kB 5.2MB/s eta 0:00:01\r\u001b[K     |███████████████████████████████▎| 399kB 5.2MB/s eta 0:00:01\r\u001b[K     |████████████████████████████████| 409kB 5.2MB/s \n",
            "\u001b[?25hInstalling collected packages: tld\n",
            "Successfully installed tld-0.12.5\n",
            "Collecting pip\n",
            "\u001b[?25l  Downloading https://files.pythonhosted.org/packages/fe/ef/60d7ba03b5c442309ef42e7d69959f73aacccd0d86008362a681c4698e83/pip-21.0.1-py3-none-any.whl (1.5MB)\n",
            "\u001b[K     |████████████████████████████████| 1.5MB 4.8MB/s \n",
            "\u001b[?25hCollecting setuptools\n",
            "\u001b[?25l  Downloading https://files.pythonhosted.org/packages/ae/4d/153a2cfab2ea03d4f4aee45d9badb52426db9e2275edfb4b825c5dc55a10/setuptools-54.1.0-py3-none-any.whl (784kB)\n",
            "\u001b[K     |████████████████████████████████| 788kB 18.2MB/s \n",
            "\u001b[?25hRequirement already up-to-date: wheel in /usr/local/lib/python3.7/dist-packages (0.36.2)\n",
            "\u001b[31mERROR: google-colab 1.0.0 has requirement ipykernel~=4.10, but you'll have ipykernel 5.5.0 which is incompatible.\u001b[0m\n",
            "\u001b[31mERROR: google-colab 1.0.0 has requirement ipython~=5.5.0, but you'll have ipython 7.21.0 which is incompatible.\u001b[0m\n",
            "\u001b[31mERROR: datascience 0.10.6 has requirement folium==0.2.1, but you'll have folium 0.12.1 which is incompatible.\u001b[0m\n",
            "Installing collected packages: pip, setuptools\n",
            "  Found existing installation: pip 19.3.1\n",
            "    Uninstalling pip-19.3.1:\n",
            "      Successfully uninstalled pip-19.3.1\n",
            "  Found existing installation: setuptools 54.0.0\n",
            "    Uninstalling setuptools-54.0.0:\n",
            "      Successfully uninstalled setuptools-54.0.0\n",
            "Successfully installed pip-21.0.1 setuptools-54.1.0\n"
          ],
          "name": "stdout"
        },
        {
          "output_type": "display_data",
          "data": {
            "application/vnd.colab-display-data+json": {
              "pip_warning": {
                "packages": [
                  "pkg_resources"
                ]
              }
            }
          },
          "metadata": {
            "tags": []
          }
        },
        {
          "output_type": "stream",
          "text": [
            "Requirement already satisfied: spacy in /usr/local/lib/python3.7/dist-packages (2.2.4)\n",
            "Collecting spacy\n",
            "  Downloading spacy-3.0.3-cp37-cp37m-manylinux2014_x86_64.whl (12.7 MB)\n",
            "\u001b[K     |████████████████████████████████| 12.7 MB 329 kB/s \n",
            "\u001b[?25hCollecting typer<0.4.0,>=0.3.0\n",
            "  Downloading typer-0.3.2-py3-none-any.whl (21 kB)\n",
            "Requirement already satisfied: requests<3.0.0,>=2.13.0 in /usr/local/lib/python3.7/dist-packages (from spacy) (2.23.0)\n",
            "Requirement already satisfied: cymem<2.1.0,>=2.0.2 in /usr/local/lib/python3.7/dist-packages (from spacy) (2.0.5)\n",
            "Collecting catalogue<2.1.0,>=2.0.1\n",
            "  Downloading catalogue-2.0.1-py3-none-any.whl (9.6 kB)\n",
            "Collecting pathy\n",
            "  Downloading pathy-0.4.0-py3-none-any.whl (36 kB)\n",
            "Collecting pydantic<1.8.0,>=1.7.1\n",
            "  Downloading pydantic-1.7.3-cp37-cp37m-manylinux2014_x86_64.whl (9.1 MB)\n",
            "\u001b[K     |████████████████████████████████| 9.1 MB 46.8 MB/s \n",
            "\u001b[?25hRequirement already satisfied: tqdm<5.0.0,>=4.38.0 in /usr/local/lib/python3.7/dist-packages (from spacy) (4.41.1)\n",
            "Collecting thinc<8.1.0,>=8.0.0\n",
            "  Downloading thinc-8.0.1-cp37-cp37m-manylinux2014_x86_64.whl (1.1 MB)\n",
            "\u001b[K     |████████████████████████████████| 1.1 MB 69.2 MB/s \n",
            "\u001b[?25hRequirement already satisfied: preshed<3.1.0,>=3.0.2 in /usr/local/lib/python3.7/dist-packages (from spacy) (3.0.5)\n",
            "Requirement already satisfied: wasabi<1.1.0,>=0.8.1 in /usr/local/lib/python3.7/dist-packages (from spacy) (0.8.2)\n",
            "Requirement already satisfied: typing-extensions>=3.7.4 in /usr/local/lib/python3.7/dist-packages (from spacy) (3.7.4.3)\n",
            "Requirement already satisfied: murmurhash<1.1.0,>=0.28.0 in /usr/local/lib/python3.7/dist-packages (from spacy) (1.0.5)\n",
            "Requirement already satisfied: packaging>=20.0 in /usr/local/lib/python3.7/dist-packages (from spacy) (20.9)\n",
            "Requirement already satisfied: setuptools in /usr/local/lib/python3.7/dist-packages (from spacy) (54.1.0)\n",
            "Requirement already satisfied: blis<0.8.0,>=0.4.0 in /usr/local/lib/python3.7/dist-packages (from spacy) (0.4.1)\n",
            "Requirement already satisfied: importlib-metadata>=0.20 in /usr/local/lib/python3.7/dist-packages (from spacy) (3.7.0)\n",
            "Collecting srsly<3.0.0,>=2.4.0\n",
            "  Downloading srsly-2.4.0-cp37-cp37m-manylinux2014_x86_64.whl (456 kB)\n",
            "\u001b[K     |████████████████████████████████| 456 kB 58.3 MB/s \n",
            "\u001b[?25hCollecting spacy-legacy<3.1.0,>=3.0.0\n",
            "  Downloading spacy_legacy-3.0.1-py2.py3-none-any.whl (7.0 kB)\n",
            "Requirement already satisfied: jinja2 in /usr/local/lib/python3.7/dist-packages (from spacy) (2.11.3)\n",
            "Requirement already satisfied: numpy>=1.15.0 in /usr/local/lib/python3.7/dist-packages (from spacy) (1.19.5)\n",
            "Requirement already satisfied: zipp>=0.5 in /usr/local/lib/python3.7/dist-packages (from importlib-metadata>=0.20->spacy) (3.4.0)\n",
            "Requirement already satisfied: pyparsing>=2.0.2 in /usr/local/lib/python3.7/dist-packages (from packaging>=20.0->spacy) (2.4.7)\n",
            "Requirement already satisfied: urllib3!=1.25.0,!=1.25.1,<1.26,>=1.21.1 in /usr/local/lib/python3.7/dist-packages (from requests<3.0.0,>=2.13.0->spacy) (1.24.3)\n",
            "Requirement already satisfied: idna<3,>=2.5 in /usr/local/lib/python3.7/dist-packages (from requests<3.0.0,>=2.13.0->spacy) (2.10)\n",
            "Requirement already satisfied: chardet<4,>=3.0.2 in /usr/local/lib/python3.7/dist-packages (from requests<3.0.0,>=2.13.0->spacy) (3.0.4)\n",
            "Requirement already satisfied: certifi>=2017.4.17 in /usr/local/lib/python3.7/dist-packages (from requests<3.0.0,>=2.13.0->spacy) (2020.12.5)\n",
            "Requirement already satisfied: click<7.2.0,>=7.1.1 in /usr/local/lib/python3.7/dist-packages (from typer<0.4.0,>=0.3.0->spacy) (7.1.2)\n",
            "Requirement already satisfied: MarkupSafe>=0.23 in /usr/local/lib/python3.7/dist-packages (from jinja2->spacy) (1.1.1)\n",
            "Collecting smart-open<4.0.0,>=2.2.0\n",
            "  Downloading smart_open-3.0.0.tar.gz (113 kB)\n",
            "\u001b[K     |████████████████████████████████| 113 kB 57.2 MB/s \n",
            "\u001b[?25hBuilding wheels for collected packages: smart-open\n",
            "  Building wheel for smart-open (setup.py) ... \u001b[?25l\u001b[?25hdone\n",
            "  Created wheel for smart-open: filename=smart_open-3.0.0-py3-none-any.whl size=107097 sha256=1b77f8fd3dfcfed857ffc7b1717f03941d996e191b27edb38ce7389c00c77392\n",
            "  Stored in directory: /root/.cache/pip/wheels/83/a6/12/bf3c1a667bde4251be5b7a3368b2d604c9af2105b5c1cb1870\n",
            "Successfully built smart-open\n",
            "Installing collected packages: catalogue, typer, srsly, smart-open, pydantic, thinc, spacy-legacy, pathy, spacy\n",
            "  Attempting uninstall: catalogue\n",
            "    Found existing installation: catalogue 1.0.0\n",
            "    Uninstalling catalogue-1.0.0:\n",
            "      Successfully uninstalled catalogue-1.0.0\n",
            "  Attempting uninstall: srsly\n",
            "    Found existing installation: srsly 1.0.5\n",
            "    Uninstalling srsly-1.0.5:\n",
            "      Successfully uninstalled srsly-1.0.5\n",
            "  Attempting uninstall: smart-open\n",
            "    Found existing installation: smart-open 4.2.0\n",
            "    Uninstalling smart-open-4.2.0:\n",
            "      Successfully uninstalled smart-open-4.2.0\n",
            "  Attempting uninstall: thinc\n",
            "    Found existing installation: thinc 7.4.0\n",
            "    Uninstalling thinc-7.4.0:\n",
            "      Successfully uninstalled thinc-7.4.0\n",
            "  Attempting uninstall: spacy\n",
            "    Found existing installation: spacy 2.2.4\n",
            "    Uninstalling spacy-2.2.4:\n",
            "      Successfully uninstalled spacy-2.2.4\n",
            "Successfully installed catalogue-2.0.1 pathy-0.4.0 pydantic-1.7.3 smart-open-3.0.0 spacy-3.0.3 spacy-legacy-3.0.1 srsly-2.4.0 thinc-8.0.1 typer-0.3.2\n",
            "2021-03-06 20:23:00.391879: I tensorflow/stream_executor/platform/default/dso_loader.cc:49] Successfully opened dynamic library libcudart.so.11.0\n",
            "Collecting en-core-web-sm==3.0.0\n",
            "  Downloading https://github.com/explosion/spacy-models/releases/download/en_core_web_sm-3.0.0/en_core_web_sm-3.0.0-py3-none-any.whl (13.7 MB)\n",
            "\u001b[K     |████████████████████████████████| 13.7 MB 6.2 MB/s \n",
            "\u001b[?25hRequirement already satisfied: spacy<3.1.0,>=3.0.0 in /usr/local/lib/python3.7/dist-packages (from en-core-web-sm==3.0.0) (3.0.3)\n",
            "Requirement already satisfied: pathy in /usr/local/lib/python3.7/dist-packages (from spacy<3.1.0,>=3.0.0->en-core-web-sm==3.0.0) (0.4.0)\n",
            "Requirement already satisfied: wasabi<1.1.0,>=0.8.1 in /usr/local/lib/python3.7/dist-packages (from spacy<3.1.0,>=3.0.0->en-core-web-sm==3.0.0) (0.8.2)\n",
            "Requirement already satisfied: typing-extensions>=3.7.4 in /usr/local/lib/python3.7/dist-packages (from spacy<3.1.0,>=3.0.0->en-core-web-sm==3.0.0) (3.7.4.3)\n",
            "Requirement already satisfied: spacy-legacy<3.1.0,>=3.0.0 in /usr/local/lib/python3.7/dist-packages (from spacy<3.1.0,>=3.0.0->en-core-web-sm==3.0.0) (3.0.1)\n",
            "Requirement already satisfied: murmurhash<1.1.0,>=0.28.0 in /usr/local/lib/python3.7/dist-packages (from spacy<3.1.0,>=3.0.0->en-core-web-sm==3.0.0) (1.0.5)\n",
            "Requirement already satisfied: typer<0.4.0,>=0.3.0 in /usr/local/lib/python3.7/dist-packages (from spacy<3.1.0,>=3.0.0->en-core-web-sm==3.0.0) (0.3.2)\n",
            "Requirement already satisfied: srsly<3.0.0,>=2.4.0 in /usr/local/lib/python3.7/dist-packages (from spacy<3.1.0,>=3.0.0->en-core-web-sm==3.0.0) (2.4.0)\n",
            "Requirement already satisfied: packaging>=20.0 in /usr/local/lib/python3.7/dist-packages (from spacy<3.1.0,>=3.0.0->en-core-web-sm==3.0.0) (20.9)\n",
            "Requirement already satisfied: cymem<2.1.0,>=2.0.2 in /usr/local/lib/python3.7/dist-packages (from spacy<3.1.0,>=3.0.0->en-core-web-sm==3.0.0) (2.0.5)\n",
            "Requirement already satisfied: blis<0.8.0,>=0.4.0 in /usr/local/lib/python3.7/dist-packages (from spacy<3.1.0,>=3.0.0->en-core-web-sm==3.0.0) (0.4.1)\n",
            "Requirement already satisfied: tqdm<5.0.0,>=4.38.0 in /usr/local/lib/python3.7/dist-packages (from spacy<3.1.0,>=3.0.0->en-core-web-sm==3.0.0) (4.41.1)\n",
            "Requirement already satisfied: pydantic<1.8.0,>=1.7.1 in /usr/local/lib/python3.7/dist-packages (from spacy<3.1.0,>=3.0.0->en-core-web-sm==3.0.0) (1.7.3)\n",
            "Requirement already satisfied: importlib-metadata>=0.20 in /usr/local/lib/python3.7/dist-packages (from spacy<3.1.0,>=3.0.0->en-core-web-sm==3.0.0) (3.7.0)\n",
            "Requirement already satisfied: setuptools in /usr/local/lib/python3.7/dist-packages (from spacy<3.1.0,>=3.0.0->en-core-web-sm==3.0.0) (54.1.0)\n",
            "Requirement already satisfied: jinja2 in /usr/local/lib/python3.7/dist-packages (from spacy<3.1.0,>=3.0.0->en-core-web-sm==3.0.0) (2.11.3)\n",
            "Requirement already satisfied: numpy>=1.15.0 in /usr/local/lib/python3.7/dist-packages (from spacy<3.1.0,>=3.0.0->en-core-web-sm==3.0.0) (1.19.5)\n",
            "Requirement already satisfied: preshed<3.1.0,>=3.0.2 in /usr/local/lib/python3.7/dist-packages (from spacy<3.1.0,>=3.0.0->en-core-web-sm==3.0.0) (3.0.5)\n",
            "Requirement already satisfied: catalogue<2.1.0,>=2.0.1 in /usr/local/lib/python3.7/dist-packages (from spacy<3.1.0,>=3.0.0->en-core-web-sm==3.0.0) (2.0.1)\n",
            "Requirement already satisfied: thinc<8.1.0,>=8.0.0 in /usr/local/lib/python3.7/dist-packages (from spacy<3.1.0,>=3.0.0->en-core-web-sm==3.0.0) (8.0.1)\n",
            "Requirement already satisfied: requests<3.0.0,>=2.13.0 in /usr/local/lib/python3.7/dist-packages (from spacy<3.1.0,>=3.0.0->en-core-web-sm==3.0.0) (2.23.0)\n",
            "Requirement already satisfied: zipp>=0.5 in /usr/local/lib/python3.7/dist-packages (from importlib-metadata>=0.20->spacy<3.1.0,>=3.0.0->en-core-web-sm==3.0.0) (3.4.0)\n",
            "Requirement already satisfied: pyparsing>=2.0.2 in /usr/local/lib/python3.7/dist-packages (from packaging>=20.0->spacy<3.1.0,>=3.0.0->en-core-web-sm==3.0.0) (2.4.7)\n",
            "Requirement already satisfied: chardet<4,>=3.0.2 in /usr/local/lib/python3.7/dist-packages (from requests<3.0.0,>=2.13.0->spacy<3.1.0,>=3.0.0->en-core-web-sm==3.0.0) (3.0.4)\n",
            "Requirement already satisfied: idna<3,>=2.5 in /usr/local/lib/python3.7/dist-packages (from requests<3.0.0,>=2.13.0->spacy<3.1.0,>=3.0.0->en-core-web-sm==3.0.0) (2.10)\n",
            "Requirement already satisfied: certifi>=2017.4.17 in /usr/local/lib/python3.7/dist-packages (from requests<3.0.0,>=2.13.0->spacy<3.1.0,>=3.0.0->en-core-web-sm==3.0.0) (2020.12.5)\n",
            "Requirement already satisfied: urllib3!=1.25.0,!=1.25.1,<1.26,>=1.21.1 in /usr/local/lib/python3.7/dist-packages (from requests<3.0.0,>=2.13.0->spacy<3.1.0,>=3.0.0->en-core-web-sm==3.0.0) (1.24.3)\n",
            "Requirement already satisfied: click<7.2.0,>=7.1.1 in /usr/local/lib/python3.7/dist-packages (from typer<0.4.0,>=0.3.0->spacy<3.1.0,>=3.0.0->en-core-web-sm==3.0.0) (7.1.2)\n",
            "Requirement already satisfied: MarkupSafe>=0.23 in /usr/local/lib/python3.7/dist-packages (from jinja2->spacy<3.1.0,>=3.0.0->en-core-web-sm==3.0.0) (1.1.1)\n",
            "Requirement already satisfied: smart-open<4.0.0,>=2.2.0 in /usr/local/lib/python3.7/dist-packages (from pathy->spacy<3.1.0,>=3.0.0->en-core-web-sm==3.0.0) (3.0.0)\n",
            "Installing collected packages: en-core-web-sm\n",
            "  Attempting uninstall: en-core-web-sm\n",
            "    Found existing installation: en-core-web-sm 2.2.5\n",
            "    Uninstalling en-core-web-sm-2.2.5:\n",
            "      Successfully uninstalled en-core-web-sm-2.2.5\n",
            "Successfully installed en-core-web-sm-3.0.0\n",
            "\u001b[38;5;2m✔ Download and installation successful\u001b[0m\n",
            "You can now load the package via spacy.load('en_core_web_sm')\n",
            "Collecting contextualSpellCheck\n",
            "  Downloading contextualSpellCheck-0.4.0-py3-none-any.whl (132 kB)\n",
            "\u001b[K     |████████████████████████████████| 132 kB 5.4 MB/s \n",
            "\u001b[?25hRequirement already satisfied: editdistance==0.5.3 in /usr/local/lib/python3.7/dist-packages (from contextualSpellCheck) (0.5.3)\n",
            "Requirement already satisfied: spacy>=3.0.0 in /usr/local/lib/python3.7/dist-packages (from contextualSpellCheck) (3.0.3)\n",
            "Collecting transformers>=4.0.0\n",
            "  Downloading transformers-4.3.3-py3-none-any.whl (1.9 MB)\n",
            "\u001b[K     |████████████████████████████████| 1.9 MB 9.3 MB/s \n",
            "\u001b[?25hRequirement already satisfied: catalogue<2.1.0,>=2.0.1 in /usr/local/lib/python3.7/dist-packages (from spacy>=3.0.0->contextualSpellCheck) (2.0.1)\n",
            "Requirement already satisfied: murmurhash<1.1.0,>=0.28.0 in /usr/local/lib/python3.7/dist-packages (from spacy>=3.0.0->contextualSpellCheck) (1.0.5)\n",
            "Requirement already satisfied: blis<0.8.0,>=0.4.0 in /usr/local/lib/python3.7/dist-packages (from spacy>=3.0.0->contextualSpellCheck) (0.4.1)\n",
            "Requirement already satisfied: jinja2 in /usr/local/lib/python3.7/dist-packages (from spacy>=3.0.0->contextualSpellCheck) (2.11.3)\n",
            "Requirement already satisfied: tqdm<5.0.0,>=4.38.0 in /usr/local/lib/python3.7/dist-packages (from spacy>=3.0.0->contextualSpellCheck) (4.41.1)\n",
            "Requirement already satisfied: spacy-legacy<3.1.0,>=3.0.0 in /usr/local/lib/python3.7/dist-packages (from spacy>=3.0.0->contextualSpellCheck) (3.0.1)\n",
            "Requirement already satisfied: numpy>=1.15.0 in /usr/local/lib/python3.7/dist-packages (from spacy>=3.0.0->contextualSpellCheck) (1.19.5)\n",
            "Requirement already satisfied: wasabi<1.1.0,>=0.8.1 in /usr/local/lib/python3.7/dist-packages (from spacy>=3.0.0->contextualSpellCheck) (0.8.2)\n",
            "Requirement already satisfied: cymem<2.1.0,>=2.0.2 in /usr/local/lib/python3.7/dist-packages (from spacy>=3.0.0->contextualSpellCheck) (2.0.5)\n",
            "Requirement already satisfied: requests<3.0.0,>=2.13.0 in /usr/local/lib/python3.7/dist-packages (from spacy>=3.0.0->contextualSpellCheck) (2.23.0)\n",
            "Requirement already satisfied: packaging>=20.0 in /usr/local/lib/python3.7/dist-packages (from spacy>=3.0.0->contextualSpellCheck) (20.9)\n",
            "Requirement already satisfied: importlib-metadata>=0.20 in /usr/local/lib/python3.7/dist-packages (from spacy>=3.0.0->contextualSpellCheck) (3.7.0)\n",
            "Requirement already satisfied: thinc<8.1.0,>=8.0.0 in /usr/local/lib/python3.7/dist-packages (from spacy>=3.0.0->contextualSpellCheck) (8.0.1)\n",
            "Requirement already satisfied: preshed<3.1.0,>=3.0.2 in /usr/local/lib/python3.7/dist-packages (from spacy>=3.0.0->contextualSpellCheck) (3.0.5)\n",
            "Requirement already satisfied: srsly<3.0.0,>=2.4.0 in /usr/local/lib/python3.7/dist-packages (from spacy>=3.0.0->contextualSpellCheck) (2.4.0)\n",
            "Requirement already satisfied: pathy in /usr/local/lib/python3.7/dist-packages (from spacy>=3.0.0->contextualSpellCheck) (0.4.0)\n",
            "Requirement already satisfied: typer<0.4.0,>=0.3.0 in /usr/local/lib/python3.7/dist-packages (from spacy>=3.0.0->contextualSpellCheck) (0.3.2)\n",
            "Requirement already satisfied: pydantic<1.8.0,>=1.7.1 in /usr/local/lib/python3.7/dist-packages (from spacy>=3.0.0->contextualSpellCheck) (1.7.3)\n",
            "Requirement already satisfied: setuptools in /usr/local/lib/python3.7/dist-packages (from spacy>=3.0.0->contextualSpellCheck) (54.1.0)\n",
            "Requirement already satisfied: typing-extensions>=3.7.4 in /usr/local/lib/python3.7/dist-packages (from spacy>=3.0.0->contextualSpellCheck) (3.7.4.3)\n",
            "Requirement already satisfied: zipp>=0.5 in /usr/local/lib/python3.7/dist-packages (from importlib-metadata>=0.20->spacy>=3.0.0->contextualSpellCheck) (3.4.0)\n",
            "Requirement already satisfied: pyparsing>=2.0.2 in /usr/local/lib/python3.7/dist-packages (from packaging>=20.0->spacy>=3.0.0->contextualSpellCheck) (2.4.7)\n",
            "Requirement already satisfied: idna<3,>=2.5 in /usr/local/lib/python3.7/dist-packages (from requests<3.0.0,>=2.13.0->spacy>=3.0.0->contextualSpellCheck) (2.10)\n",
            "Requirement already satisfied: chardet<4,>=3.0.2 in /usr/local/lib/python3.7/dist-packages (from requests<3.0.0,>=2.13.0->spacy>=3.0.0->contextualSpellCheck) (3.0.4)\n",
            "Requirement already satisfied: urllib3!=1.25.0,!=1.25.1,<1.26,>=1.21.1 in /usr/local/lib/python3.7/dist-packages (from requests<3.0.0,>=2.13.0->spacy>=3.0.0->contextualSpellCheck) (1.24.3)\n",
            "Requirement already satisfied: certifi>=2017.4.17 in /usr/local/lib/python3.7/dist-packages (from requests<3.0.0,>=2.13.0->spacy>=3.0.0->contextualSpellCheck) (2020.12.5)\n",
            "Collecting tokenizers<0.11,>=0.10.1\n",
            "  Downloading tokenizers-0.10.1-cp37-cp37m-manylinux2010_x86_64.whl (3.2 MB)\n",
            "\u001b[K     |████████████████████████████████| 3.2 MB 29.4 MB/s \n",
            "\u001b[?25hCollecting sacremoses\n",
            "  Downloading sacremoses-0.0.43.tar.gz (883 kB)\n",
            "\u001b[K     |████████████████████████████████| 883 kB 70.4 MB/s \n",
            "\u001b[?25hRequirement already satisfied: filelock in /usr/local/lib/python3.7/dist-packages (from transformers>=4.0.0->contextualSpellCheck) (3.0.12)\n",
            "Requirement already satisfied: regex!=2019.12.17 in /usr/local/lib/python3.7/dist-packages (from transformers>=4.0.0->contextualSpellCheck) (2019.12.20)\n",
            "Requirement already satisfied: click<7.2.0,>=7.1.1 in /usr/local/lib/python3.7/dist-packages (from typer<0.4.0,>=0.3.0->spacy>=3.0.0->contextualSpellCheck) (7.1.2)\n",
            "Requirement already satisfied: MarkupSafe>=0.23 in /usr/local/lib/python3.7/dist-packages (from jinja2->spacy>=3.0.0->contextualSpellCheck) (1.1.1)\n",
            "Requirement already satisfied: smart-open<4.0.0,>=2.2.0 in /usr/local/lib/python3.7/dist-packages (from pathy->spacy>=3.0.0->contextualSpellCheck) (3.0.0)\n",
            "Requirement already satisfied: six in /usr/local/lib/python3.7/dist-packages (from sacremoses->transformers>=4.0.0->contextualSpellCheck) (1.15.0)\n",
            "Requirement already satisfied: joblib in /usr/local/lib/python3.7/dist-packages (from sacremoses->transformers>=4.0.0->contextualSpellCheck) (1.0.1)\n",
            "Building wheels for collected packages: sacremoses\n",
            "  Building wheel for sacremoses (setup.py) ... \u001b[?25l\u001b[?25hdone\n",
            "  Created wheel for sacremoses: filename=sacremoses-0.0.43-py3-none-any.whl size=893258 sha256=2ba08558d12e0c91c22a0d5e04b410353db0cb5e0fd7fc18d0f2647c7ebce7f4\n",
            "  Stored in directory: /root/.cache/pip/wheels/69/09/d1/bf058f7d6fa0ecba2ce7c66be3b8d012beb4bf61a6e0c101c0\n",
            "Successfully built sacremoses\n",
            "Installing collected packages: tokenizers, sacremoses, transformers, contextualSpellCheck\n",
            "Successfully installed contextualSpellCheck-0.4.0 sacremoses-0.0.43 tokenizers-0.10.1 transformers-4.3.3\n",
            "  % Total    % Received % Xferd  Average Speed   Time    Time     Time  Current\n",
            "                                 Dload  Upload   Total   Spent    Left  Speed\n",
            "100   657  100   657    0     0   4866      0 --:--:-- --:--:-- --:--:--  4866\n",
            "Downloading \"brown\"\n",
            "[nltk_data] Downloading package brown to /root/nltk_data...\n",
            "[nltk_data]   Unzipping corpora/brown.zip.\n",
            "Downloading \"punkt\"\n",
            "[nltk_data] Downloading package punkt to /root/nltk_data...\n",
            "[nltk_data]   Unzipping tokenizers/punkt.zip.\n",
            "Downloading \"maxent_treebank_pos_tagger\"\n",
            "[nltk_data] Downloading package maxent_treebank_pos_tagger to\n",
            "[nltk_data]     /root/nltk_data...\n",
            "[nltk_data]   Unzipping taggers/maxent_treebank_pos_tagger.zip.\n",
            "Downloading \"movie_reviews\"\n",
            "[nltk_data] Downloading package movie_reviews to /root/nltk_data...\n",
            "[nltk_data]   Unzipping corpora/movie_reviews.zip.\n",
            "Downloading \"wordnet\"\n",
            "[nltk_data] Downloading package wordnet to /root/nltk_data...\n",
            "[nltk_data]   Unzipping corpora/wordnet.zip.\n",
            "Downloading \"stopwords\"\n",
            "[nltk_data] Downloading package stopwords to /root/nltk_data...\n",
            "[nltk_data]   Unzipping corpora/stopwords.zip.\n",
            "Finished.\n"
          ],
          "name": "stdout"
        }
      ]
    },
    {
      "cell_type": "markdown",
      "metadata": {
        "id": "cPMI20kK9bi7"
      },
      "source": [
        "# INPUT"
      ]
    },
    {
      "cell_type": "code",
      "metadata": {
        "id": "MbBTwe7Yj86J"
      },
      "source": [
        "# Manipulação de dados\n",
        "import os\n",
        "import re\n",
        "import csv\n",
        "import sys\n",
        "import time\n",
        "import glob\n",
        "import socket\n",
        "import urllib\n",
        "import string\n",
        "import requests\n",
        "import datetime\n",
        "import numpy as np\n",
        "import pandas as pd\n",
        "from datetime import datetime as dt\n",
        "from datetime import date, timedelta\n",
        "from urllib.request import Request, urlopen\n",
        "from pandas.tseries.offsets import DateOffset\n",
        "\n",
        "# Visualização de dados\n",
        "import matplotlib\n",
        "import seaborn as sns\n",
        "import matplotlib.pyplot as plt\n",
        "from pprint import pprint\n",
        "\n",
        "# Processamento de Linguagem Natural\n",
        "import spacy\n",
        "from spacy.symbols import amod\n",
        "from collections import Counter\n",
        "\n",
        "# Web Scraping\n",
        "import selenium\n",
        "from bs4 import BeautifulSoup\n",
        "from selenium import webdriver\n",
        "from selenium.webdriver.common.by import By\n",
        "from selenium.webdriver.common.keys import Keys\n",
        "from selenium.webdriver.chrome.options import Options\n",
        "from selenium.webdriver.support.ui import WebDriverWait\n",
        "from webdriver_manager.chrome import ChromeDriverManager\n",
        "from selenium.webdriver.support import expected_conditions as EC\n",
        "\n",
        "\n",
        "# Definimos o parâmetro abaixo para evitar o erro:\n",
        "# RecursionError: maximum recursion depth exceeded\n",
        "# Ao gravar os resultados em disco\n",
        "sys.setrecursionlimit(10000)"
      ],
      "execution_count": null,
      "outputs": []
    },
    {
      "cell_type": "code",
      "metadata": {
        "id": "0umo5vTcj86M"
      },
      "source": [
        "# Versões dos pacotes usados neste jupyter notebook\n",
        "#%reload_ext watermark\n",
        "#%watermark -a \"EVERTON QUADROS\" --iversions"
      ],
      "execution_count": null,
      "outputs": []
    },
    {
      "cell_type": "code",
      "metadata": {
        "colab": {
          "base_uri": "https://localhost:8080/"
        },
        "id": "7fB8fW1bkKj5",
        "outputId": "17dad3bd-a9b4-4733-a2e3-68b8b055b1b5"
      },
      "source": [
        "# Codigo para montar o Google Drive\n",
        "\n",
        "from google.colab import drive\n",
        "drive.mount('/content/drive')"
      ],
      "execution_count": null,
      "outputs": [
        {
          "output_type": "stream",
          "text": [
            "Mounted at /content/drive\n"
          ],
          "name": "stdout"
        }
      ]
    },
    {
      "cell_type": "code",
      "metadata": {
        "colab": {
          "base_uri": "https://localhost:8080/"
        },
        "id": "AOTLQTTeyAyR",
        "outputId": "2262fc79-d469-42be-8325-92e013fc9e15"
      },
      "source": [
        "%cd /content/drive/My Drive/covid19impact/data/2021/01_collect/en"
      ],
      "execution_count": null,
      "outputs": [
        {
          "output_type": "stream",
          "text": [
            "/content/drive/My Drive/covid19impact/data/2021/01_collect/en\n"
          ],
          "name": "stdout"
        }
      ]
    },
    {
      "cell_type": "code",
      "metadata": {
        "colab": {
          "base_uri": "https://localhost:8080/"
        },
        "id": "sf0JgPaYkKmb",
        "outputId": "437e38b5-a745-4a3c-b887-17637c632d46"
      },
      "source": [
        "# Listar os aquirvos da pasta do projeto no Google Drive\n",
        "\n",
        "import os\n",
        "os.chdir(\"/content/drive/My Drive/covid19impact/data/2021/01_collect/\")\n",
        "!ls"
      ],
      "execution_count": null,
      "outputs": [
        {
          "output_type": "stream",
          "text": [
            "en  pt\n"
          ],
          "name": "stdout"
        }
      ]
    },
    {
      "cell_type": "markdown",
      "metadata": {
        "id": "ajcqloUjj86Q"
      },
      "source": [
        "# SCRAPER"
      ]
    },
    {
      "cell_type": "markdown",
      "metadata": {
        "id": "s9LaWwDXhIV_"
      },
      "source": [
        "## Horizon and keywords"
      ]
    },
    {
      "cell_type": "code",
      "metadata": {
        "colab": {
          "base_uri": "https://localhost:8080/"
        },
        "id": "J4dVsCx5j86W",
        "outputId": "13defe75-e1dd-489d-bb34-cd9d84dacc55"
      },
      "source": [
        "# get date now\n",
        "d = dt.now()\n",
        "my_date = d.date()\n",
        "my_date"
      ],
      "execution_count": null,
      "outputs": [
        {
          "output_type": "execute_result",
          "data": {
            "text/plain": [
              "datetime.date(2021, 3, 6)"
            ]
          },
          "metadata": {
            "tags": []
          },
          "execution_count": 6
        }
      ]
    },
    {
      "cell_type": "code",
      "metadata": {
        "id": "hPP2R7H5phin"
      },
      "source": [
        "#busca = 1 #status "
      ],
      "execution_count": null,
      "outputs": []
    },
    {
      "cell_type": "code",
      "metadata": {
        "id": "uk9PylCGf1pj"
      },
      "source": [
        "\n",
        "## tá chegando?\n",
        "## https://www.calendario-365.com.br/numeros-dos-dias/2020.html\n",
        "\n",
        "#start = busca\n",
        "\n",
        "## get delta date\n",
        "#sdate = date(2019, 10, 31)  # start date\n",
        "#edate = my_date             # end date\n",
        "#delta = edate - sdate       # as timedelta\n",
        "#end = delta.days\n",
        "#status = end - busca\n",
        "#print(\"Horizon: \" + str(delta.days))\n",
        "#print(\"Status to finish: \" + str(status))"
      ],
      "execution_count": null,
      "outputs": []
    },
    {
      "cell_type": "code",
      "metadata": {
        "id": "L2h0wr00ovUS",
        "colab": {
          "base_uri": "https://localhost:8080/"
        },
        "outputId": "17c7dc62-97c2-45ed-cfae-1f98287268e3"
      },
      "source": [
        "## tá chegando?\n",
        "## https://www.calendario-365.com.br/numeros-dos-dias/2020.html\n",
        "\n",
        "## get delta date\n",
        "sdate = date(2019, 9, 30)  # start date\n",
        "edate = my_date             # end date\n",
        "delta = edate - sdate       # as timedelta\n",
        "end = delta.days\n",
        "print(\"Horizon: \" + str(delta.days))"
      ],
      "execution_count": null,
      "outputs": [
        {
          "output_type": "stream",
          "text": [
            "Horizon: 523\n"
          ],
          "name": "stdout"
        }
      ]
    },
    {
      "cell_type": "code",
      "metadata": {
        "id": "G2ZT0lo9j86R",
        "colab": {
          "base_uri": "https://localhost:8080/"
        },
        "outputId": "625263f5-582b-4fd2-b2f1-a8c92bf7cc55"
      },
      "source": [
        "busca = end\n",
        "busca"
      ],
      "execution_count": null,
      "outputs": [
        {
          "output_type": "execute_result",
          "data": {
            "text/plain": [
              "523"
            ]
          },
          "metadata": {
            "tags": []
          },
          "execution_count": 13
        }
      ]
    },
    {
      "cell_type": "code",
      "metadata": {
        "id": "TwO8PqEHEB_2"
      },
      "source": [
        "# set the keyword you want to search for\n",
        "\n",
        "# en\n",
        "# old 2020\n",
        "#keyword = 'intext:\"covid impact\" OR \"disaster\" OR \"resilience\" AND intext:\"software engineers\" OR \"software development\" OR \"disaster informatics\" AND intitle:\"productivity\" OR \"work from home\" OR \"remote working\"'\n",
        "\n",
        "#new 2021\n",
        "keyword = 'intext:\"covid-19\" OR \"covid\" OR \"coronavirus\" OR \"covid-19 impact\" OR \"covid impact\" OR \"coronavirus impact\" OR \"disaster\" OR \"resilience\" AND intext: \"software\" OR \"software engineering\" OR \"software engineers\" OR \"software development\" OR \"engineering\" OR \"information technology industry\" OR \"information technology IT industry\" OR \"IT industry\" OR \"disaster informatics\" OR \"crisis informatics\" AND intitle: \"covid-19\" OR \"covid\" OR \"coronavirus\" OR \"covid-19 impact\" OR \"covid impact\" OR \"coronavirus impact\" OR \"productivity\" OR \"work from home\" OR \"remote working\" OR \"future of work\"'\n",
        "\n",
        "# pt\n",
        "# old 2020\n",
        "#keyword = 'intext:\"covid-19\" OR \"covid\" OR \"coronavirus\" OR \"covid-19 impacto\" OR \"covid impacto\" OR \"coronavirus impacto\" AND \"impacto\" OR \"desastre\" OR \"resiliência\" AND intext: \"software\" OR \"engenharia de software\" OR \"engenheiros de software\" OR \"desenvolvimento de software\" OR \"engenharia\" OR \"industria de tecnologia da informação\" OR \"industria de tecnologia da informação TI\" OR \"insdustria de TI\" OR \"Informática para desastres\" OR \"informática para crises\" OR AND intitle:\"covid-19\" OR \"covid\" OR \"coronavirus\" OR \"covid-19 impacto\" OR \"covid impacto\" OR \"coronavirus impacto\" OR \"produtividade\" OR \"trabalho em casa\" OR \"trabalho remoto\" OR \"work from home\" OR \"remote working\" OR \"futuro do trabalho\"'"
      ],
      "execution_count": null,
      "outputs": []
    },
    {
      "cell_type": "code",
      "metadata": {
        "id": "UQ2iRA8zj86Z"
      },
      "source": [
        "# get delta date\n",
        "#sdate = date(2019, 11, 1)  # start date\n",
        "#edate = my_date             # end date\n",
        "#delta = edate - sdate       # as timedelta\n",
        "\n",
        "string = []\n",
        "\n",
        "for i in range(delta.days+1):\n",
        "    day = sdate + timedelta(days=i)\n",
        "    string.append(keyword + \" \" + 'after:'+ str(day) + ' and ' +'before:' + str(dt.strftime(day + DateOffset(days = 1), '%Y-%m-%d')))"
      ],
      "execution_count": null,
      "outputs": []
    },
    {
      "cell_type": "code",
      "metadata": {
        "colab": {
          "base_uri": "https://localhost:8080/"
        },
        "id": "hoGq3YYKj86d",
        "outputId": "18eaf1c3-3ff6-4250-f97b-01fd4de8de1c"
      },
      "source": [
        "# print horizon to search\n",
        "print(len(string))"
      ],
      "execution_count": null,
      "outputs": [
        {
          "output_type": "stream",
          "text": [
            "524\n"
          ],
          "name": "stdout"
        }
      ]
    },
    {
      "cell_type": "code",
      "metadata": {
        "colab": {
          "base_uri": "https://localhost:8080/"
        },
        "id": "8LTU0mWfj86g",
        "outputId": "cdc32346-1f5f-470f-e94e-92965988a502"
      },
      "source": [
        "# print key search with horizon date\n",
        "# python start in zero, so: -1 to print last day\n",
        "print(str(string[busca]))"
      ],
      "execution_count": null,
      "outputs": [
        {
          "output_type": "stream",
          "text": [
            "intext:\"covid-19\" OR \"covid\" OR \"coronavirus\" OR \"covid-19 impact\" OR \"covid impact\" OR \"coronavirus impact\" OR \"disaster\" OR \"resilience\" AND intext: \"software\" OR \"software engineering\" OR \"software engineers\" OR \"software development\" OR \"engineering\" OR \"information technology industry\" OR \"information technology IT industry\" OR \"IT industry\" OR \"disaster informatics\" OR \"crisis informatics\" AND intitle: \"covid-19\" OR \"covid\" OR \"coronavirus\" OR \"covid-19 impact\" OR \"covid impact\" OR \"coronavirus impact\" OR \"productivity\" OR \"work from home\" OR \"remote working\" OR \"future of work\" after:2021-02-27 and before:2021-02-28\n"
          ],
          "name": "stdout"
        }
      ]
    },
    {
      "cell_type": "markdown",
      "metadata": {
        "id": "ioNQ92QxhkLs"
      },
      "source": [
        "## Get scraper data"
      ]
    },
    {
      "cell_type": "code",
      "metadata": {
        "colab": {
          "base_uri": "https://localhost:8080/"
        },
        "id": "18-8wPmtlfAV",
        "outputId": "325a12b9-b729-41ed-c527-48f24308a22e"
      },
      "source": [
        "# set chrome_options for chrome driver\n",
        "chrome_options = webdriver.ChromeOptions()\n",
        "chrome_options.add_argument('--headless')\n",
        "chrome_options.add_argument('--no-sandbox')\n",
        "chrome_options.add_argument('--disable-dev-shm-usage')\n",
        "wd = webdriver.Chrome('chromedriver',chrome_options=chrome_options)\n",
        "wd.get(\"https://stackoverflow.com/\")"
      ],
      "execution_count": null,
      "outputs": [
        {
          "output_type": "stream",
          "text": [
            "/usr/local/lib/python3.7/dist-packages/ipykernel_launcher.py:6: DeprecationWarning: use options instead of chrome_options\n",
            "  \n"
          ],
          "name": "stderr"
        }
      ]
    },
    {
      "cell_type": "code",
      "metadata": {
        "id": "W6txbME3j86j"
      },
      "source": [
        "#Installed chromedrivers then stored it program files(x86 folder)\n",
        "#PATH isobtained by copying the path of where the drivers are installed\n",
        "#PATH = \"/content/drive/My Drive/webdriver/chromedriver\"\n",
        "\n",
        "\n",
        "#driver = webdriver.Chrome(ChromeDriverManager().install())\n",
        "driver = wd\n",
        "\n",
        "#opens the urls given in the text file\n",
        "driver.get(\"https://www.google.com/\")\n",
        "\n",
        "#class where details of the button are located\n",
        "search = driver.find_element_by_name('q')\n",
        "\n",
        "##automatically searches for the term and clicks on search button\n",
        "search.send_keys(str(string[busca]))\n",
        "search.send_keys(Keys.RETURN) "
      ],
      "execution_count": null,
      "outputs": []
    },
    {
      "cell_type": "code",
      "metadata": {
        "id": "JKCcFhjUj86l"
      },
      "source": [
        "# clica na tag 'hdtb-tls'\n",
        "driver.find_element_by_id(\"hdtb-tls\").click()\n",
        "time.sleep(30)"
      ],
      "execution_count": null,
      "outputs": []
    },
    {
      "cell_type": "code",
      "metadata": {
        "id": "_u4jsWLcj86o"
      },
      "source": [
        "#fetches the html code of the page\n",
        "html = driver.page_source"
      ],
      "execution_count": null,
      "outputs": []
    },
    {
      "cell_type": "code",
      "metadata": {
        "id": "-shc3s0uj86r"
      },
      "source": [
        "soup = BeautifulSoup(html, \"lxml\")"
      ],
      "execution_count": null,
      "outputs": []
    },
    {
      "cell_type": "code",
      "metadata": {
        "colab": {
          "base_uri": "https://localhost:8080/"
        },
        "id": "30zsamfoj86t",
        "outputId": "0a9acec0-1a38-4488-a86c-25d41eb28e72"
      },
      "source": [
        "#Gives the number of pages \n",
        "td = len(soup.find_all('td'))\n",
        "print(td) "
      ],
      "execution_count": null,
      "outputs": [
        {
          "output_type": "stream",
          "text": [
            "12\n"
          ],
          "name": "stdout"
        }
      ]
    },
    {
      "cell_type": "code",
      "metadata": {
        "colab": {
          "base_uri": "https://localhost:8080/"
        },
        "id": "hKeD8SyLj86w",
        "outputId": "cc113ebe-5159-411f-9c97-97a81fd4de71"
      },
      "source": [
        "#Web scraping google search results - \n",
        "#https://www.youtube.com/watch?v=wy9QP73he-0&list=LL&index=66&t=469s\n",
        "\n",
        "import requests\n",
        "from bs4 import BeautifulSoup\n",
        "import csv\n",
        "from selenium import webdriver \n",
        "from webdriver_manager.chrome import ChromeDriverManager\n",
        "from time import sleep \n",
        "from selenium.webdriver.chrome.options import Options\n",
        "import time\n",
        "\n",
        "#\n",
        "#chrome_options = Options()\n",
        "#chrome_options.add_argument(\"--headless\")  \n",
        "#chrome_options.add_argument('user-agent=Mozilla/5.0 (Windows NT 6.2; Win64; x64) AppleWebKit/537.36 (KHTML, like Gecko) Chrome/32.0.1667.0 Safari/537.36')    \n",
        "#browser = webdriver.Chrome(ChromeDriverManager().install(),chrome_options=chrome_options) #ChromeDriverManager().install(),\n",
        "#driver = webdriver.Chrome(ChromeDriverManager().install(),chrome_options=chrome_options) #ChromeDriverManager().install(),\n",
        "\n",
        "\n",
        "url=\"https://www.google.com/search?q=\"+str(string[busca])+\"&num=\"+str(200)\n",
        "\n",
        "driver.get(url)\n",
        "soup = BeautifulSoup(driver.page_source,'html.parser') \n",
        "#items = soup.find_all('div',{'class':'rc'})\n",
        "items = soup.find_all('div',{'class':'tF2Cxc'})\n",
        "\n",
        "\n",
        "result = []\n",
        "print('counts : ' + str(len(items)))\n",
        "\n",
        "for each in items:\n",
        "   try:\n",
        "     #header = each.find('div',{'class':'r'}).find('h3').text\n",
        "     #resum = each.find('div',{'class':'s'}).find('span').text\n",
        "     header = each.find('div',{'class':'yuRUbf'}).find('h3').text\n",
        "     resum = each.find('div',{'class':'IsZvec'}).find('span').text\n",
        "     link = (each.find('a', href=True)['href'])\n",
        "\n",
        "     \n",
        "     result.append({'header' : header,\n",
        "                   'summary': resum,\n",
        "                   'link' : link})\n",
        "   except:\n",
        "     pass\n",
        "    \n",
        "df = pd.DataFrame(result)"
      ],
      "execution_count": null,
      "outputs": [
        {
          "output_type": "stream",
          "text": [
            "counts : 85\n"
          ],
          "name": "stdout"
        }
      ]
    },
    {
      "cell_type": "code",
      "metadata": {
        "colab": {
          "base_uri": "https://localhost:8080/",
          "height": 35
        },
        "id": "f8fPB2-aj86z",
        "outputId": "f582ba91-85cd-4b2f-8be8-77bafa6b55dd"
      },
      "source": [
        "df['date'] = (str(string[busca][-32:-22]))\n",
        "dataset = (str(string[busca][-32:-22]))\n",
        "\n",
        "dataset"
      ],
      "execution_count": null,
      "outputs": [
        {
          "output_type": "execute_result",
          "data": {
            "application/vnd.google.colaboratory.intrinsic+json": {
              "type": "string"
            },
            "text/plain": [
              "'2021-02-27'"
            ]
          },
          "metadata": {
            "tags": []
          },
          "execution_count": 24
        }
      ]
    },
    {
      "cell_type": "code",
      "metadata": {
        "colab": {
          "base_uri": "https://localhost:8080/",
          "height": 159
        },
        "id": "Vfzmszcv4C0z",
        "outputId": "5e8f7f1b-41f7-441e-c4ea-dee273cf88d9"
      },
      "source": [
        "print(df.shape);\n",
        "df.head(3)"
      ],
      "execution_count": null,
      "outputs": [
        {
          "output_type": "stream",
          "text": [
            "(100, 4)\n"
          ],
          "name": "stdout"
        },
        {
          "output_type": "execute_result",
          "data": {
            "text/html": [
              "<div>\n",
              "<style scoped>\n",
              "    .dataframe tbody tr th:only-of-type {\n",
              "        vertical-align: middle;\n",
              "    }\n",
              "\n",
              "    .dataframe tbody tr th {\n",
              "        vertical-align: top;\n",
              "    }\n",
              "\n",
              "    .dataframe thead th {\n",
              "        text-align: right;\n",
              "    }\n",
              "</style>\n",
              "<table border=\"1\" class=\"dataframe\">\n",
              "  <thead>\n",
              "    <tr style=\"text-align: right;\">\n",
              "      <th></th>\n",
              "      <th>header</th>\n",
              "      <th>summary</th>\n",
              "      <th>link</th>\n",
              "      <th>date</th>\n",
              "    </tr>\n",
              "  </thead>\n",
              "  <tbody>\n",
              "    <tr>\n",
              "      <th>0</th>\n",
              "      <td>Texas A&amp;M University Libraries</td>\n",
              "      <td>Evans Library and Annex offers collections and...</td>\n",
              "      <td>https://library.tamu.edu/</td>\n",
              "      <td>2021-02-27</td>\n",
              "    </tr>\n",
              "    <tr>\n",
              "      <th>1</th>\n",
              "      <td>Document | South African Government</td>\n",
              "      <td>Disaster Management Act: Declaration of a nati...</td>\n",
              "      <td>https://www.gov.za/document</td>\n",
              "      <td>2021-02-27</td>\n",
              "    </tr>\n",
              "    <tr>\n",
              "      <th>2</th>\n",
              "      <td>Text Analytics Market Research including Growt...</td>\n",
              "      <td>3 hours ago — Coronavirus (COVID19) pandemic h...</td>\n",
              "      <td>https://jumbonews.co.uk/uncategorised/2006216/...</td>\n",
              "      <td>2021-02-27</td>\n",
              "    </tr>\n",
              "  </tbody>\n",
              "</table>\n",
              "</div>"
            ],
            "text/plain": [
              "                                              header  ...        date\n",
              "0                     Texas A&M University Libraries  ...  2021-02-27\n",
              "1                Document | South African Government  ...  2021-02-27\n",
              "2  Text Analytics Market Research including Growt...  ...  2021-02-27\n",
              "\n",
              "[3 rows x 4 columns]"
            ]
          },
          "metadata": {
            "tags": []
          },
          "execution_count": 25
        }
      ]
    },
    {
      "cell_type": "code",
      "metadata": {
        "colab": {
          "base_uri": "https://localhost:8080/"
        },
        "id": "JeyJWXYo0xQ5",
        "outputId": "737204cf-baa4-4bd3-cb34-bd060111d2b6"
      },
      "source": [
        "fileName = '/content/drive/My Drive/covid19impact/data/2021/01_collect/en/' + dataset + '.csv'\n",
        "df.to_csv(fileName, sep=';', encoding='UTF-8')\n",
        "\n",
        "print(\"Ok \" + fileName + \" is saved. Good Job! Next!!!\")"
      ],
      "execution_count": null,
      "outputs": [
        {
          "output_type": "stream",
          "text": [
            "Ok /content/drive/My Drive/covid19impact/data/2021/01_collect/en/2021-02-27.csv is saved. Good Job! Next!!!\n"
          ],
          "name": "stdout"
        }
      ]
    },
    {
      "cell_type": "markdown",
      "metadata": {
        "id": "On84oC5vj867"
      },
      "source": [
        "# DATA MUNGING"
      ]
    },
    {
      "cell_type": "markdown",
      "metadata": {
        "id": "T8Nqr5knl8ui"
      },
      "source": [
        "## Get domains"
      ]
    },
    {
      "cell_type": "code",
      "metadata": {
        "id": "YxcFIgFCj868"
      },
      "source": [
        "df.columns = ['header','summary','link','date']"
      ],
      "execution_count": null,
      "outputs": []
    },
    {
      "cell_type": "code",
      "metadata": {
        "colab": {
          "base_uri": "https://localhost:8080/"
        },
        "id": "WaUJNokcj86_",
        "outputId": "c7b69231-5e1b-4f3b-eb7a-114b0e4a4177"
      },
      "source": [
        "df = df[['date','header','summary','link']]\n",
        "df.head(3)"
      ],
      "execution_count": null,
      "outputs": [
        {
          "output_type": "execute_result",
          "data": {
            "text/html": [
              "<div>\n",
              "<style scoped>\n",
              "    .dataframe tbody tr th:only-of-type {\n",
              "        vertical-align: middle;\n",
              "    }\n",
              "\n",
              "    .dataframe tbody tr th {\n",
              "        vertical-align: top;\n",
              "    }\n",
              "\n",
              "    .dataframe thead th {\n",
              "        text-align: right;\n",
              "    }\n",
              "</style>\n",
              "<table border=\"1\" class=\"dataframe\">\n",
              "  <thead>\n",
              "    <tr style=\"text-align: right;\">\n",
              "      <th></th>\n",
              "      <th>date</th>\n",
              "      <th>header</th>\n",
              "      <th>summary</th>\n",
              "      <th>link</th>\n",
              "    </tr>\n",
              "  </thead>\n",
              "  <tbody>\n",
              "    <tr>\n",
              "      <th>0</th>\n",
              "      <td>2021-02-27</td>\n",
              "      <td>Texas A&amp;M University Libraries</td>\n",
              "      <td>Evans Library and Annex offers collections and...</td>\n",
              "      <td>https://library.tamu.edu/</td>\n",
              "    </tr>\n",
              "    <tr>\n",
              "      <th>1</th>\n",
              "      <td>2021-02-27</td>\n",
              "      <td>Document | South African Government</td>\n",
              "      <td>Disaster Management Act: Declaration of a nati...</td>\n",
              "      <td>https://www.gov.za/document</td>\n",
              "    </tr>\n",
              "    <tr>\n",
              "      <th>2</th>\n",
              "      <td>2021-02-27</td>\n",
              "      <td>Text Analytics Market Research including Growt...</td>\n",
              "      <td>3 hours ago — Coronavirus (COVID19) pandemic h...</td>\n",
              "      <td>https://jumbonews.co.uk/uncategorised/2006216/...</td>\n",
              "    </tr>\n",
              "  </tbody>\n",
              "</table>\n",
              "</div>"
            ],
            "text/plain": [
              "         date  ...                                               link\n",
              "0  2021-02-27  ...                          https://library.tamu.edu/\n",
              "1  2021-02-27  ...                        https://www.gov.za/document\n",
              "2  2021-02-27  ...  https://jumbonews.co.uk/uncategorised/2006216/...\n",
              "\n",
              "[3 rows x 4 columns]"
            ]
          },
          "metadata": {
            "tags": []
          },
          "execution_count": 28
        }
      ]
    },
    {
      "cell_type": "code",
      "metadata": {
        "id": "IsiUuzCKj87B"
      },
      "source": [
        "df['protocol'],df['domain'],df['path'],df['query'],df['fragment'] = zip(*[urllib.parse.urlsplit(x) for x in df.link])"
      ],
      "execution_count": null,
      "outputs": []
    },
    {
      "cell_type": "code",
      "metadata": {
        "colab": {
          "base_uri": "https://localhost:8080/"
        },
        "id": "SxmMre07U9Pz",
        "outputId": "a00a5038-b685-4be7-d708-6b97b2055a3f"
      },
      "source": [
        "df.head(3)"
      ],
      "execution_count": null,
      "outputs": [
        {
          "output_type": "execute_result",
          "data": {
            "text/html": [
              "<div>\n",
              "<style scoped>\n",
              "    .dataframe tbody tr th:only-of-type {\n",
              "        vertical-align: middle;\n",
              "    }\n",
              "\n",
              "    .dataframe tbody tr th {\n",
              "        vertical-align: top;\n",
              "    }\n",
              "\n",
              "    .dataframe thead th {\n",
              "        text-align: right;\n",
              "    }\n",
              "</style>\n",
              "<table border=\"1\" class=\"dataframe\">\n",
              "  <thead>\n",
              "    <tr style=\"text-align: right;\">\n",
              "      <th></th>\n",
              "      <th>date</th>\n",
              "      <th>header</th>\n",
              "      <th>summary</th>\n",
              "      <th>link</th>\n",
              "      <th>protocol</th>\n",
              "      <th>domain</th>\n",
              "      <th>path</th>\n",
              "      <th>query</th>\n",
              "      <th>fragment</th>\n",
              "    </tr>\n",
              "  </thead>\n",
              "  <tbody>\n",
              "    <tr>\n",
              "      <th>0</th>\n",
              "      <td>2021-02-27</td>\n",
              "      <td>Texas A&amp;M University Libraries</td>\n",
              "      <td>Evans Library and Annex offers collections and...</td>\n",
              "      <td>https://library.tamu.edu/</td>\n",
              "      <td>https</td>\n",
              "      <td>library.tamu.edu</td>\n",
              "      <td>/</td>\n",
              "      <td></td>\n",
              "      <td></td>\n",
              "    </tr>\n",
              "    <tr>\n",
              "      <th>1</th>\n",
              "      <td>2021-02-27</td>\n",
              "      <td>Document | South African Government</td>\n",
              "      <td>Disaster Management Act: Declaration of a nati...</td>\n",
              "      <td>https://www.gov.za/document</td>\n",
              "      <td>https</td>\n",
              "      <td>www.gov.za</td>\n",
              "      <td>/document</td>\n",
              "      <td></td>\n",
              "      <td></td>\n",
              "    </tr>\n",
              "    <tr>\n",
              "      <th>2</th>\n",
              "      <td>2021-02-27</td>\n",
              "      <td>Text Analytics Market Research including Growt...</td>\n",
              "      <td>3 hours ago — Coronavirus (COVID19) pandemic h...</td>\n",
              "      <td>https://jumbonews.co.uk/uncategorised/2006216/...</td>\n",
              "      <td>https</td>\n",
              "      <td>jumbonews.co.uk</td>\n",
              "      <td>/uncategorised/2006216/text-analytics-market-r...</td>\n",
              "      <td></td>\n",
              "      <td></td>\n",
              "    </tr>\n",
              "  </tbody>\n",
              "</table>\n",
              "</div>"
            ],
            "text/plain": [
              "         date                                             header  ... query fragment\n",
              "0  2021-02-27                     Texas A&M University Libraries  ...               \n",
              "1  2021-02-27                Document | South African Government  ...               \n",
              "2  2021-02-27  Text Analytics Market Research including Growt...  ...               \n",
              "\n",
              "[3 rows x 9 columns]"
            ]
          },
          "metadata": {
            "tags": []
          },
          "execution_count": 30
        }
      ]
    },
    {
      "cell_type": "markdown",
      "metadata": {
        "id": "NmI90W5Kj867"
      },
      "source": [
        "## Get hostnames"
      ]
    },
    {
      "cell_type": "code",
      "metadata": {
        "id": "rRplKQUwD77l"
      },
      "source": [
        "#!pip3 install tld"
      ],
      "execution_count": null,
      "outputs": []
    },
    {
      "cell_type": "code",
      "metadata": {
        "id": "c_4VcrpN_nZg"
      },
      "source": [
        "#Extracting multiple root domains from a CSV using print\n",
        "\n",
        "from tld import get_tld, get_fld\n",
        " \n",
        "urls = df['link']\n",
        "#URLs should be in column A without a heading, in a CSV file named \"urls_file.csv\"\n",
        "\n",
        "hostnames = []\n",
        "for url in urls:\n",
        "  try:\n",
        "    res = get_tld(url, as_object=True)\n",
        "    hostnames.append(res.fld)\n",
        "  except:\n",
        "  # Not yet known TLD or IP address or local hostname\n",
        "    res = np.nan\n",
        "    hostnames.append(res)\n",
        "  #print(res.fld)"
      ],
      "execution_count": null,
      "outputs": []
    },
    {
      "cell_type": "code",
      "metadata": {
        "id": "WolnD6Tw_u9f"
      },
      "source": [
        "df['host_name'] = hostnames"
      ],
      "execution_count": null,
      "outputs": []
    },
    {
      "cell_type": "code",
      "metadata": {
        "id": "GTXtvSra8mUc",
        "colab": {
          "base_uri": "https://localhost:8080/"
        },
        "outputId": "c54c00b6-de9d-446e-da13-d271d240ea48"
      },
      "source": [
        "df.isna().sum()"
      ],
      "execution_count": null,
      "outputs": [
        {
          "output_type": "execute_result",
          "data": {
            "text/plain": [
              "date         0\n",
              "header       0\n",
              "summary      0\n",
              "link         0\n",
              "protocol     0\n",
              "domain       0\n",
              "path         0\n",
              "query        0\n",
              "fragment     0\n",
              "host_name    0\n",
              "dtype: int64"
            ]
          },
          "metadata": {
            "tags": []
          },
          "execution_count": 34
        }
      ]
    },
    {
      "cell_type": "code",
      "metadata": {
        "colab": {
          "base_uri": "https://localhost:8080/"
        },
        "id": "5RpVigj-j87G",
        "outputId": "2acb9289-a562-4dd3-865f-6a8fb6770811"
      },
      "source": [
        "df.dtypes"
      ],
      "execution_count": null,
      "outputs": [
        {
          "output_type": "execute_result",
          "data": {
            "text/plain": [
              "date         object\n",
              "header       object\n",
              "summary      object\n",
              "link         object\n",
              "protocol     object\n",
              "domain       object\n",
              "path         object\n",
              "query        object\n",
              "fragment     object\n",
              "host_name    object\n",
              "dtype: object"
            ]
          },
          "metadata": {
            "tags": []
          },
          "execution_count": 35
        }
      ]
    },
    {
      "cell_type": "code",
      "metadata": {
        "id": "nJOR7qLIj87J"
      },
      "source": [
        "df = df.sort_values(by=['date'])"
      ],
      "execution_count": null,
      "outputs": []
    },
    {
      "cell_type": "code",
      "metadata": {
        "colab": {
          "base_uri": "https://localhost:8080/"
        },
        "id": "8MMvVwf2j87M",
        "outputId": "93678642-dafa-4dcb-e80a-39b2b2572dd1"
      },
      "source": [
        "print(df.shape);df.tail()"
      ],
      "execution_count": null,
      "outputs": [
        {
          "output_type": "stream",
          "text": [
            "(100, 10)\n"
          ],
          "name": "stdout"
        },
        {
          "output_type": "execute_result",
          "data": {
            "text/html": [
              "<div>\n",
              "<style scoped>\n",
              "    .dataframe tbody tr th:only-of-type {\n",
              "        vertical-align: middle;\n",
              "    }\n",
              "\n",
              "    .dataframe tbody tr th {\n",
              "        vertical-align: top;\n",
              "    }\n",
              "\n",
              "    .dataframe thead th {\n",
              "        text-align: right;\n",
              "    }\n",
              "</style>\n",
              "<table border=\"1\" class=\"dataframe\">\n",
              "  <thead>\n",
              "    <tr style=\"text-align: right;\">\n",
              "      <th></th>\n",
              "      <th>date</th>\n",
              "      <th>header</th>\n",
              "      <th>summary</th>\n",
              "      <th>link</th>\n",
              "      <th>protocol</th>\n",
              "      <th>domain</th>\n",
              "      <th>path</th>\n",
              "      <th>query</th>\n",
              "      <th>fragment</th>\n",
              "      <th>host_name</th>\n",
              "    </tr>\n",
              "  </thead>\n",
              "  <tbody>\n",
              "    <tr>\n",
              "      <th>28</th>\n",
              "      <td>2021-02-27</td>\n",
              "      <td>Inurl Admin Login Asp - barbagiaracing.it</td>\n",
              "      <td>语法说明：inurl: 在url地址栏中显示的信息页面 intext: 显示在正文信息中的内...</td>\n",
              "      <td>http://iguq.barbagiaracing.it/inurl-admin-logi...</td>\n",
              "      <td>http</td>\n",
              "      <td>iguq.barbagiaracing.it</td>\n",
              "      <td>/inurl-admin-login-asp.html</td>\n",
              "      <td></td>\n",
              "      <td></td>\n",
              "      <td>barbagiaracing.it</td>\n",
              "    </tr>\n",
              "    <tr>\n",
              "      <th>27</th>\n",
              "      <td>2021-02-27</td>\n",
              "      <td>Healthy newborn case study quizlet - Beauty In...</td>\n",
              "      <td>In text citation of dissertation apa: app for ...</td>\n",
              "      <td>http://beautyinvariations.com/wp-includes/clas...</td>\n",
              "      <td>http</td>\n",
              "      <td>beautyinvariations.com</td>\n",
              "      <td>/wp-includes/class-ttl.php</td>\n",
              "      <td>list=healthy-newborn-quizlet-case-study</td>\n",
              "      <td></td>\n",
              "      <td>beautyinvariations.com</td>\n",
              "    </tr>\n",
              "    <tr>\n",
              "      <th>26</th>\n",
              "      <td>2021-02-27</td>\n",
              "      <td>Sorenson Vrs Free Ipad</td>\n",
              "      <td>We make our weekly Georgia Radio Reading Servi...</td>\n",
              "      <td>http://edle.europapuglia.it/sorenson-vrs-free-...</td>\n",
              "      <td>http</td>\n",
              "      <td>edle.europapuglia.it</td>\n",
              "      <td>/sorenson-vrs-free-ipad.html</td>\n",
              "      <td></td>\n",
              "      <td></td>\n",
              "      <td>europapuglia.it</td>\n",
              "    </tr>\n",
              "    <tr>\n",
              "      <th>36</th>\n",
              "      <td>2021-02-27</td>\n",
              "      <td>Constructing Rules From Census Dataset Hackerr...</td>\n",
              "      <td>Explore the latest trends and data about the c...</td>\n",
              "      <td>http://nqxw.llfattoquotidiano.it/constructing-...</td>\n",
              "      <td>http</td>\n",
              "      <td>nqxw.llfattoquotidiano.it</td>\n",
              "      <td>/constructing-rules-from-census-dataset-hacker...</td>\n",
              "      <td></td>\n",
              "      <td></td>\n",
              "      <td>llfattoquotidiano.it</td>\n",
              "    </tr>\n",
              "    <tr>\n",
              "      <th>99</th>\n",
              "      <td>2021-02-27</td>\n",
              "      <td>Students nc u millionaire easy challenges, exp...</td>\n",
              "      <td>... playbook youngstown work date hysterectomy...</td>\n",
              "      <td>https://notlandmouthdecide.xyz/56533336.html</td>\n",
              "      <td>https</td>\n",
              "      <td>notlandmouthdecide.xyz</td>\n",
              "      <td>/56533336.html</td>\n",
              "      <td></td>\n",
              "      <td></td>\n",
              "      <td>notlandmouthdecide.xyz</td>\n",
              "    </tr>\n",
              "  </tbody>\n",
              "</table>\n",
              "</div>"
            ],
            "text/plain": [
              "          date  ...               host_name\n",
              "28  2021-02-27  ...       barbagiaracing.it\n",
              "27  2021-02-27  ...  beautyinvariations.com\n",
              "26  2021-02-27  ...         europapuglia.it\n",
              "36  2021-02-27  ...    llfattoquotidiano.it\n",
              "99  2021-02-27  ...  notlandmouthdecide.xyz\n",
              "\n",
              "[5 rows x 10 columns]"
            ]
          },
          "metadata": {
            "tags": []
          },
          "execution_count": 37
        }
      ]
    },
    {
      "cell_type": "code",
      "metadata": {
        "colab": {
          "base_uri": "https://localhost:8080/"
        },
        "id": "54NPlZ7uj87P",
        "outputId": "353e4127-7574-4b3b-f965-9083cefe9adc"
      },
      "source": [
        "# Vamos contar o total de registros por valor da coluna \"Tipo_Pesquisa\"\n",
        "df[\"host_name\"].value_counts()"
      ],
      "execution_count": null,
      "outputs": [
        {
          "output_type": "execute_result",
          "data": {
            "text/plain": [
              "shop46.it                         2\n",
              "areaperformpopular.xyz            2\n",
              "tschechologisch-slovakoklar.de    2\n",
              "notlandmouthdecide.xyz            2\n",
              "jiakamed.com                      1\n",
              "                                 ..\n",
              "yearslevelsavailable.xyz          1\n",
              "reddit.com                        1\n",
              "publictv.in                       1\n",
              "operabella.it                     1\n",
              "europapuglia.it                   1\n",
              "Name: host_name, Length: 96, dtype: int64"
            ]
          },
          "metadata": {
            "tags": []
          },
          "execution_count": 38
        }
      ]
    },
    {
      "cell_type": "markdown",
      "metadata": {
        "id": "0rG27jo6j87S"
      },
      "source": [
        "## Get ip address"
      ]
    },
    {
      "cell_type": "code",
      "metadata": {
        "colab": {
          "base_uri": "https://localhost:8080/"
        },
        "id": "BlgwMi_yj87T",
        "outputId": "c215522e-508e-4fee-dc68-1b313c1b5b33"
      },
      "source": [
        "#Script to resolve hostname to IP. Needs improving.\n",
        "import socket\n",
        "\n",
        "domains = df['domain']\n",
        "ipaddress = []\n",
        "\n",
        "def resolve_ip(domain):\n",
        "    for i in domain:\n",
        "        i_strip = i.strip()\n",
        "        try:\n",
        "            ip = socket.gethostbyname(i_strip)\n",
        "            ipaddress.append(ip)\n",
        "            #print(ipaddress)\n",
        "        except socket.gaierror:\n",
        "          ipaddress.append('127.0.0.1')\n",
        "            #pass \n",
        "            #print(i)\n",
        "\n",
        "resolve_ip(domains)\n",
        "print(ipaddress)"
      ],
      "execution_count": null,
      "outputs": [
        {
          "output_type": "stream",
          "text": [
            "['128.194.18.15', '51.210.47.143', '172.67.139.171', '54.39.163.73', '104.21.80.68', '104.21.39.99', '104.21.22.221', '104.21.22.221', '104.21.16.49', '157.230.7.226', '104.21.80.185', '162.144.21.111', '23.185.0.3', '172.67.205.43', '111.92.189.95', '51.210.47.143', '104.21.29.124', '104.21.73.241', '172.67.218.174', '104.21.57.94', '172.67.199.234', '172.67.176.180', '172.104.53.170', '111.118.214.210', '172.67.176.94', '104.21.62.242', '172.67.210.197', '172.67.185.193', '104.21.70.90', '172.67.146.202', '172.67.210.165', '172.67.152.203', '172.67.152.203', '172.67.212.167', '172.67.151.97', '104.21.49.218', '1.234.44.178', '5.189.168.139', '172.67.171.238', '104.21.25.99', '172.67.204.251', '172.67.198.70', '172.67.153.220', '5.189.168.139', '66.147.247.147', '172.67.210.127', '213.186.33.4', '127.0.0.1', '104.21.50.202', '104.21.29.214', '35.209.244.236', '172.67.172.167', '164.132.235.17', '104.21.43.136', '172.67.142.150', '208.86.159.114', '54.36.15.202', '51.68.177.63', '192.0.66.112', '23.161.112.116', '52.85.79.12', '104.21.54.36', '192.104.183.109', '54.88.164.254', '13.226.15.104', '172.67.73.251', '143.231.175.12', '151.101.1.140', '104.21.45.18', '34.66.36.192', '172.67.150.32', '164.151.129.20', '51.15.51.241', '74.122.196.210', '172.67.206.22', '212.86.108.238', '162.241.224.194', '172.67.207.78', '50.56.167.254', '104.21.33.81', '23.6.136.69', '23.200.225.191', '50.116.10.42', '172.67.136.243', '172.67.136.243', '128.199.116.253', '172.67.178.36', '172.67.174.217', '172.67.202.206', '104.21.8.166', '54.147.30.35', '172.67.150.217', '172.67.212.14', '104.21.82.81', '104.21.41.129', '172.67.222.117', '54.159.14.38', '104.21.32.235', '104.21.82.76', '172.67.178.36']\n"
          ],
          "name": "stdout"
        }
      ]
    },
    {
      "cell_type": "code",
      "metadata": {
        "id": "m4cuxR6Bj87V"
      },
      "source": [
        "#resolve_ip(df['domain'])"
      ],
      "execution_count": null,
      "outputs": []
    },
    {
      "cell_type": "code",
      "metadata": {
        "colab": {
          "base_uri": "https://localhost:8080/"
        },
        "id": "9gN8Eft6m9Zd",
        "outputId": "4b337bf0-f063-47ce-c8a2-2490557ee0cf"
      },
      "source": [
        "df.shape"
      ],
      "execution_count": null,
      "outputs": [
        {
          "output_type": "execute_result",
          "data": {
            "text/plain": [
              "(100, 10)"
            ]
          },
          "metadata": {
            "tags": []
          },
          "execution_count": 41
        }
      ]
    },
    {
      "cell_type": "code",
      "metadata": {
        "id": "QJIro8P5m81t"
      },
      "source": [
        "df = df.drop_duplicates()"
      ],
      "execution_count": null,
      "outputs": []
    },
    {
      "cell_type": "code",
      "metadata": {
        "colab": {
          "base_uri": "https://localhost:8080/"
        },
        "id": "X4v4vNJ3nFwY",
        "outputId": "13dd0974-0418-4330-ce71-3be1cd5d56c5"
      },
      "source": [
        "df.shape"
      ],
      "execution_count": null,
      "outputs": [
        {
          "output_type": "execute_result",
          "data": {
            "text/plain": [
              "(100, 10)"
            ]
          },
          "metadata": {
            "tags": []
          },
          "execution_count": 43
        }
      ]
    },
    {
      "cell_type": "code",
      "metadata": {
        "colab": {
          "base_uri": "https://localhost:8080/"
        },
        "id": "wcd_NfrOj87Y",
        "outputId": "e8433582-db47-4e82-ffbe-30aea8c7603b"
      },
      "source": [
        "len(ipaddress)"
      ],
      "execution_count": null,
      "outputs": [
        {
          "output_type": "execute_result",
          "data": {
            "text/plain": [
              "100"
            ]
          },
          "metadata": {
            "tags": []
          },
          "execution_count": 44
        }
      ]
    },
    {
      "cell_type": "code",
      "metadata": {
        "id": "GxPezT6tj87a"
      },
      "source": [
        "df['ip_address'] = ipaddress"
      ],
      "execution_count": null,
      "outputs": []
    },
    {
      "cell_type": "code",
      "metadata": {
        "colab": {
          "base_uri": "https://localhost:8080/"
        },
        "id": "zEt5NYY7j87d",
        "scrolled": false,
        "outputId": "1b4fee84-38c4-43a9-f041-965f233fc190"
      },
      "source": [
        "df.head(3)"
      ],
      "execution_count": null,
      "outputs": [
        {
          "output_type": "execute_result",
          "data": {
            "text/html": [
              "<div>\n",
              "<style scoped>\n",
              "    .dataframe tbody tr th:only-of-type {\n",
              "        vertical-align: middle;\n",
              "    }\n",
              "\n",
              "    .dataframe tbody tr th {\n",
              "        vertical-align: top;\n",
              "    }\n",
              "\n",
              "    .dataframe thead th {\n",
              "        text-align: right;\n",
              "    }\n",
              "</style>\n",
              "<table border=\"1\" class=\"dataframe\">\n",
              "  <thead>\n",
              "    <tr style=\"text-align: right;\">\n",
              "      <th></th>\n",
              "      <th>date</th>\n",
              "      <th>header</th>\n",
              "      <th>summary</th>\n",
              "      <th>link</th>\n",
              "      <th>protocol</th>\n",
              "      <th>domain</th>\n",
              "      <th>path</th>\n",
              "      <th>query</th>\n",
              "      <th>fragment</th>\n",
              "      <th>host_name</th>\n",
              "      <th>ip_address</th>\n",
              "    </tr>\n",
              "  </thead>\n",
              "  <tbody>\n",
              "    <tr>\n",
              "      <th>0</th>\n",
              "      <td>2021-02-27</td>\n",
              "      <td>Texas A&amp;M University Libraries</td>\n",
              "      <td>Evans Library and Annex offers collections and...</td>\n",
              "      <td>https://library.tamu.edu/</td>\n",
              "      <td>https</td>\n",
              "      <td>library.tamu.edu</td>\n",
              "      <td>/</td>\n",
              "      <td></td>\n",
              "      <td></td>\n",
              "      <td>tamu.edu</td>\n",
              "      <td>128.194.18.15</td>\n",
              "    </tr>\n",
              "    <tr>\n",
              "      <th>72</th>\n",
              "      <td>2021-02-27</td>\n",
              "      <td>Download Environmental Engineering Practice .....</td>\n",
              "      <td>Download Environmental Engineering Practice Pe...</td>\n",
              "      <td>http://de.nempo.org/809.html</td>\n",
              "      <td>http</td>\n",
              "      <td>de.nempo.org</td>\n",
              "      <td>/809.html</td>\n",
              "      <td></td>\n",
              "      <td></td>\n",
              "      <td>nempo.org</td>\n",
              "      <td>51.210.47.143</td>\n",
              "    </tr>\n",
              "    <tr>\n",
              "      <th>71</th>\n",
              "      <td>2021-02-27</td>\n",
              "      <td>Download The Prince of Winds 7000 Nautical Mil...</td>\n",
              "      <td>Although the books are heavy in text and light...</td>\n",
              "      <td>https://o9.lediz.ru/400</td>\n",
              "      <td>https</td>\n",
              "      <td>o9.lediz.ru</td>\n",
              "      <td>/400</td>\n",
              "      <td></td>\n",
              "      <td></td>\n",
              "      <td>lediz.ru</td>\n",
              "      <td>172.67.139.171</td>\n",
              "    </tr>\n",
              "  </tbody>\n",
              "</table>\n",
              "</div>"
            ],
            "text/plain": [
              "          date  ...      ip_address\n",
              "0   2021-02-27  ...   128.194.18.15\n",
              "72  2021-02-27  ...   51.210.47.143\n",
              "71  2021-02-27  ...  172.67.139.171\n",
              "\n",
              "[3 rows x 11 columns]"
            ]
          },
          "metadata": {
            "tags": []
          },
          "execution_count": 46
        }
      ]
    },
    {
      "cell_type": "markdown",
      "metadata": {
        "id": "ZSIcwGUsj87f"
      },
      "source": [
        "## Geocod ip address"
      ]
    },
    {
      "cell_type": "markdown",
      "metadata": {
        "id": "U6MQj0PJj87g"
      },
      "source": [
        "- https://ipstack.com/quickstart\n",
        "- https://msticpy.readthedocs.io/en/latest/getting_started/Installing.html#installation\n",
        "- https://msticpy.readthedocs.io/en/latest/data_acquisition/GeoIPLookups.html\n",
        "- https://github.com/microsoft/msticpy/blob/master/docs/notebooks/GeoIPLookups.ipynb"
      ]
    },
    {
      "cell_type": "code",
      "metadata": {
        "id": "49_GPNQ8DC_F"
      },
      "source": [
        "#!pip install msticpy"
      ],
      "execution_count": null,
      "outputs": []
    },
    {
      "cell_type": "code",
      "metadata": {
        "id": "-ZEoZ7nMj87g"
      },
      "source": [
        "# Imports\n",
        "import sys\n",
        "from IPython.display import display\n",
        "import pandas as pd\n",
        "\n",
        "import msticpy.sectools as sectools\n",
        "from msticpy.nbtools import *\n",
        "from msticpy.nbtools.entityschema import IpAddress, GeoLocation\n",
        "from msticpy.sectools.geoip import GeoLiteLookup, IPStackLookup\n"
      ],
      "execution_count": null,
      "outputs": []
    },
    {
      "cell_type": "code",
      "metadata": {
        "colab": {
          "base_uri": "https://localhost:8080/"
        },
        "id": "P0DPMyM_j87i",
        "outputId": "009b0505-8781-4ccc-ce08-aa4b641f1992"
      },
      "source": [
        "# IpAddress\n",
        "# Get free api em: https://ipstack.com/signup/free\n",
        "\n",
        "# Everton\n",
        "iplocation = IPStackLookup(api_key=\"648e7a28748dc4c5bac6fb3f23aee60d\")\n",
        "\n",
        "# Anissa\n",
        "#iplocation = IPStackLookup(api_key=\"72439d620be99a14e57b4c0f66e3cf67\")\n",
        "\n",
        "loc_df = iplocation.df_lookup_ip(df, column=\"ip_address\")"
      ],
      "execution_count": null,
      "outputs": [
        {
          "output_type": "display_data",
          "data": {
            "text/html": [
              "\n",
              "This library uses services provided by ipstack.\n",
              "<a href=\"https://ipstack.com\">https://ipstack.com</a>"
            ],
            "text/plain": [
              "<IPython.core.display.HTML object>"
            ]
          },
          "metadata": {
            "tags": []
          }
        }
      ]
    },
    {
      "cell_type": "code",
      "metadata": {
        "id": "WOJ00OyeSxjM"
      },
      "source": [
        "loc_df.drop_duplicates(subset=['header', 'summary'], keep='first', inplace=True)"
      ],
      "execution_count": null,
      "outputs": []
    },
    {
      "cell_type": "code",
      "metadata": {
        "id": "b4xMg0KZDfDd",
        "colab": {
          "base_uri": "https://localhost:8080/"
        },
        "outputId": "83b2a9c6-5a7b-4675-d5df-24b065abdbaa"
      },
      "source": [
        "print(loc_df.shape);\n",
        "loc_df.head(3)"
      ],
      "execution_count": null,
      "outputs": [
        {
          "output_type": "stream",
          "text": [
            "(112, 22)\n"
          ],
          "name": "stdout"
        },
        {
          "output_type": "execute_result",
          "data": {
            "text/html": [
              "<div>\n",
              "<style scoped>\n",
              "    .dataframe tbody tr th:only-of-type {\n",
              "        vertical-align: middle;\n",
              "    }\n",
              "\n",
              "    .dataframe tbody tr th {\n",
              "        vertical-align: top;\n",
              "    }\n",
              "\n",
              "    .dataframe thead th {\n",
              "        text-align: right;\n",
              "    }\n",
              "</style>\n",
              "<table border=\"1\" class=\"dataframe\">\n",
              "  <thead>\n",
              "    <tr style=\"text-align: right;\">\n",
              "      <th></th>\n",
              "      <th>date</th>\n",
              "      <th>header</th>\n",
              "      <th>summary</th>\n",
              "      <th>link</th>\n",
              "      <th>protocol</th>\n",
              "      <th>domain</th>\n",
              "      <th>path</th>\n",
              "      <th>query</th>\n",
              "      <th>fragment</th>\n",
              "      <th>host_name</th>\n",
              "      <th>ip_address</th>\n",
              "      <th>CountryCode</th>\n",
              "      <th>CountryName</th>\n",
              "      <th>State</th>\n",
              "      <th>City</th>\n",
              "      <th>Longitude</th>\n",
              "      <th>Latitude</th>\n",
              "      <th>Asn</th>\n",
              "      <th>edges</th>\n",
              "      <th>Type</th>\n",
              "      <th>AdditionalData</th>\n",
              "      <th>IpAddress</th>\n",
              "    </tr>\n",
              "  </thead>\n",
              "  <tbody>\n",
              "    <tr>\n",
              "      <th>0</th>\n",
              "      <td>2021-02-27</td>\n",
              "      <td>Texas A&amp;M University Libraries</td>\n",
              "      <td>Evans Library and Annex offers collections and...</td>\n",
              "      <td>https://library.tamu.edu/</td>\n",
              "      <td>https</td>\n",
              "      <td>library.tamu.edu</td>\n",
              "      <td>/</td>\n",
              "      <td></td>\n",
              "      <td></td>\n",
              "      <td>tamu.edu</td>\n",
              "      <td>128.194.18.15</td>\n",
              "      <td>US</td>\n",
              "      <td>United States</td>\n",
              "      <td>Texas</td>\n",
              "      <td>College Station</td>\n",
              "      <td>-96.350121</td>\n",
              "      <td>30.608360</td>\n",
              "      <td>3794.0</td>\n",
              "      <td>{}</td>\n",
              "      <td>geolocation</td>\n",
              "      <td>{}</td>\n",
              "      <td>128.194.18.15</td>\n",
              "    </tr>\n",
              "    <tr>\n",
              "      <th>1</th>\n",
              "      <td>2021-02-27</td>\n",
              "      <td>Download Environmental Engineering Practice .....</td>\n",
              "      <td>Download Environmental Engineering Practice Pe...</td>\n",
              "      <td>http://de.nempo.org/809.html</td>\n",
              "      <td>http</td>\n",
              "      <td>de.nempo.org</td>\n",
              "      <td>/809.html</td>\n",
              "      <td></td>\n",
              "      <td></td>\n",
              "      <td>nempo.org</td>\n",
              "      <td>51.210.47.143</td>\n",
              "      <td>FR</td>\n",
              "      <td>France</td>\n",
              "      <td>Grand Est</td>\n",
              "      <td>Strasbourg</td>\n",
              "      <td>7.743750</td>\n",
              "      <td>48.582932</td>\n",
              "      <td>16276.0</td>\n",
              "      <td>{}</td>\n",
              "      <td>geolocation</td>\n",
              "      <td>{}</td>\n",
              "      <td>51.210.47.143</td>\n",
              "    </tr>\n",
              "    <tr>\n",
              "      <th>2</th>\n",
              "      <td>2021-02-27</td>\n",
              "      <td>Download Environmental Engineering Practice .....</td>\n",
              "      <td>Download Environmental Engineering Practice Pe...</td>\n",
              "      <td>http://de.nempo.org/809.html</td>\n",
              "      <td>http</td>\n",
              "      <td>de.nempo.org</td>\n",
              "      <td>/809.html</td>\n",
              "      <td></td>\n",
              "      <td></td>\n",
              "      <td>nempo.org</td>\n",
              "      <td>51.210.47.143</td>\n",
              "      <td>FR</td>\n",
              "      <td>France</td>\n",
              "      <td>Grand Est</td>\n",
              "      <td>Strasbourg</td>\n",
              "      <td>7.743750</td>\n",
              "      <td>48.582932</td>\n",
              "      <td>16276.0</td>\n",
              "      <td>{}</td>\n",
              "      <td>geolocation</td>\n",
              "      <td>{}</td>\n",
              "      <td>51.210.47.143</td>\n",
              "    </tr>\n",
              "  </tbody>\n",
              "</table>\n",
              "</div>"
            ],
            "text/plain": [
              "         date  ...      IpAddress\n",
              "0  2021-02-27  ...  128.194.18.15\n",
              "1  2021-02-27  ...  51.210.47.143\n",
              "2  2021-02-27  ...  51.210.47.143\n",
              "\n",
              "[3 rows x 22 columns]"
            ]
          },
          "metadata": {
            "tags": []
          },
          "execution_count": 50
        }
      ]
    },
    {
      "cell_type": "code",
      "metadata": {
        "colab": {
          "base_uri": "https://localhost:8080/"
        },
        "id": "DbV-beOJnKnj",
        "outputId": "d68e2fc0-d304-4b73-a323-078c699c4068"
      },
      "source": [
        "loc_df.isna().sum()"
      ],
      "execution_count": null,
      "outputs": [
        {
          "output_type": "execute_result",
          "data": {
            "text/plain": [
              "date              0\n",
              "header            0\n",
              "summary           0\n",
              "link              0\n",
              "protocol          0\n",
              "domain            0\n",
              "path              0\n",
              "query             0\n",
              "fragment          0\n",
              "host_name         0\n",
              "ip_address        0\n",
              "CountryCode       1\n",
              "CountryName       1\n",
              "State             1\n",
              "City              1\n",
              "Longitude         1\n",
              "Latitude          1\n",
              "Asn               2\n",
              "edges             0\n",
              "Type              0\n",
              "AdditionalData    0\n",
              "IpAddress         0\n",
              "dtype: int64"
            ]
          },
          "metadata": {
            "tags": []
          },
          "execution_count": 51
        }
      ]
    },
    {
      "cell_type": "markdown",
      "metadata": {
        "id": "kQ_zDiJ75Lmw"
      },
      "source": [
        "## Contextual spell correction with spacy and bert"
      ]
    },
    {
      "cell_type": "code",
      "metadata": {
        "id": "buHFV_EE5GxZ"
      },
      "source": [
        "# Contextual spell correction using BERT (bidirectional representations)\n",
        "# https://spacy.io/universe/project/contextualSpellCheck\n",
        "\n",
        "#! pip install contextualSpellCheck"
      ],
      "execution_count": null,
      "outputs": []
    },
    {
      "cell_type": "code",
      "metadata": {
        "id": "UjaONrCJ5Gq7"
      },
      "source": [
        "import spacy\n",
        "import contextualSpellCheck\n",
        "\n",
        "#nlp = spacy.load(\"pt_core_web_sm\")\n",
        "nlp = spacy.load(\"en_core_web_sm\")\n",
        "contextualSpellCheck.add_to_pipe(nlp)"
      ],
      "execution_count": null,
      "outputs": []
    },
    {
      "cell_type": "code",
      "metadata": {
        "id": "dBGrcf9A5bff",
        "colab": {
          "base_uri": "https://localhost:8080/",
          "height": 340
        },
        "outputId": "0cc57f37-b3a2-486a-db4c-62f4e482d4e6"
      },
      "source": [
        "loc_df['header_context_true'] = loc_df['header'].apply(lambda x: str(nlp(x)))"
      ],
      "execution_count": null,
      "outputs": [
        {
          "output_type": "error",
          "ename": "KeyboardInterrupt",
          "evalue": "ignored",
          "traceback": [
            "\u001b[0;31m---------------------------------------------------------------------------\u001b[0m",
            "\u001b[0;31mKeyboardInterrupt\u001b[0m                         Traceback (most recent call last)",
            "\u001b[0;32m<ipython-input-58-bce0628dbb47>\u001b[0m in \u001b[0;36m<module>\u001b[0;34m\u001b[0m\n\u001b[0;32m----> 1\u001b[0;31m \u001b[0mloc_df\u001b[0m\u001b[0;34m[\u001b[0m\u001b[0;34m'header_context_true'\u001b[0m\u001b[0;34m]\u001b[0m \u001b[0;34m=\u001b[0m \u001b[0mloc_df\u001b[0m\u001b[0;34m[\u001b[0m\u001b[0;34m'header'\u001b[0m\u001b[0;34m]\u001b[0m\u001b[0;34m.\u001b[0m\u001b[0mapply\u001b[0m\u001b[0;34m(\u001b[0m\u001b[0;32mlambda\u001b[0m \u001b[0mx\u001b[0m\u001b[0;34m:\u001b[0m \u001b[0mstr\u001b[0m\u001b[0;34m(\u001b[0m\u001b[0mnlp\u001b[0m\u001b[0;34m(\u001b[0m\u001b[0mx\u001b[0m\u001b[0;34m)\u001b[0m\u001b[0;34m)\u001b[0m\u001b[0;34m)\u001b[0m\u001b[0;34m\u001b[0m\u001b[0;34m\u001b[0m\u001b[0m\n\u001b[0m",
            "\u001b[0;32m/usr/local/lib/python3.7/dist-packages/pandas/core/series.py\u001b[0m in \u001b[0;36mapply\u001b[0;34m(self, func, convert_dtype, args, **kwds)\u001b[0m\n\u001b[1;32m   4211\u001b[0m             \u001b[0;32melse\u001b[0m\u001b[0;34m:\u001b[0m\u001b[0;34m\u001b[0m\u001b[0;34m\u001b[0m\u001b[0m\n\u001b[1;32m   4212\u001b[0m                 \u001b[0mvalues\u001b[0m \u001b[0;34m=\u001b[0m \u001b[0mself\u001b[0m\u001b[0;34m.\u001b[0m\u001b[0mastype\u001b[0m\u001b[0;34m(\u001b[0m\u001b[0mobject\u001b[0m\u001b[0;34m)\u001b[0m\u001b[0;34m.\u001b[0m\u001b[0m_values\u001b[0m\u001b[0;34m\u001b[0m\u001b[0;34m\u001b[0m\u001b[0m\n\u001b[0;32m-> 4213\u001b[0;31m                 \u001b[0mmapped\u001b[0m \u001b[0;34m=\u001b[0m \u001b[0mlib\u001b[0m\u001b[0;34m.\u001b[0m\u001b[0mmap_infer\u001b[0m\u001b[0;34m(\u001b[0m\u001b[0mvalues\u001b[0m\u001b[0;34m,\u001b[0m \u001b[0mf\u001b[0m\u001b[0;34m,\u001b[0m \u001b[0mconvert\u001b[0m\u001b[0;34m=\u001b[0m\u001b[0mconvert_dtype\u001b[0m\u001b[0;34m)\u001b[0m\u001b[0;34m\u001b[0m\u001b[0;34m\u001b[0m\u001b[0m\n\u001b[0m\u001b[1;32m   4214\u001b[0m \u001b[0;34m\u001b[0m\u001b[0m\n\u001b[1;32m   4215\u001b[0m         \u001b[0;32mif\u001b[0m \u001b[0mlen\u001b[0m\u001b[0;34m(\u001b[0m\u001b[0mmapped\u001b[0m\u001b[0;34m)\u001b[0m \u001b[0;32mand\u001b[0m \u001b[0misinstance\u001b[0m\u001b[0;34m(\u001b[0m\u001b[0mmapped\u001b[0m\u001b[0;34m[\u001b[0m\u001b[0;36m0\u001b[0m\u001b[0;34m]\u001b[0m\u001b[0;34m,\u001b[0m \u001b[0mSeries\u001b[0m\u001b[0;34m)\u001b[0m\u001b[0;34m:\u001b[0m\u001b[0;34m\u001b[0m\u001b[0;34m\u001b[0m\u001b[0m\n",
            "\u001b[0;32mpandas/_libs/lib.pyx\u001b[0m in \u001b[0;36mpandas._libs.lib.map_infer\u001b[0;34m()\u001b[0m\n",
            "\u001b[0;32m<ipython-input-58-bce0628dbb47>\u001b[0m in \u001b[0;36m<lambda>\u001b[0;34m(x)\u001b[0m\n\u001b[0;32m----> 1\u001b[0;31m \u001b[0mloc_df\u001b[0m\u001b[0;34m[\u001b[0m\u001b[0;34m'header_context_true'\u001b[0m\u001b[0;34m]\u001b[0m \u001b[0;34m=\u001b[0m \u001b[0mloc_df\u001b[0m\u001b[0;34m[\u001b[0m\u001b[0;34m'header'\u001b[0m\u001b[0;34m]\u001b[0m\u001b[0;34m.\u001b[0m\u001b[0mapply\u001b[0m\u001b[0;34m(\u001b[0m\u001b[0;32mlambda\u001b[0m \u001b[0mx\u001b[0m\u001b[0;34m:\u001b[0m \u001b[0mstr\u001b[0m\u001b[0;34m(\u001b[0m\u001b[0mnlp\u001b[0m\u001b[0;34m(\u001b[0m\u001b[0mx\u001b[0m\u001b[0;34m)\u001b[0m\u001b[0;34m)\u001b[0m\u001b[0;34m)\u001b[0m\u001b[0;34m\u001b[0m\u001b[0;34m\u001b[0m\u001b[0m\n\u001b[0m",
            "\u001b[0;32m/usr/local/lib/python3.7/dist-packages/spacy/language.py\u001b[0m in \u001b[0;36m__call__\u001b[0;34m(self, text, disable, component_cfg)\u001b[0m\n\u001b[1;32m    987\u001b[0m                 \u001b[0merror_handler\u001b[0m \u001b[0;34m=\u001b[0m \u001b[0mproc\u001b[0m\u001b[0;34m.\u001b[0m\u001b[0mget_error_handler\u001b[0m\u001b[0;34m(\u001b[0m\u001b[0;34m)\u001b[0m\u001b[0;34m\u001b[0m\u001b[0;34m\u001b[0m\u001b[0m\n\u001b[1;32m    988\u001b[0m             \u001b[0;32mtry\u001b[0m\u001b[0;34m:\u001b[0m\u001b[0;34m\u001b[0m\u001b[0;34m\u001b[0m\u001b[0m\n\u001b[0;32m--> 989\u001b[0;31m                 \u001b[0mdoc\u001b[0m \u001b[0;34m=\u001b[0m \u001b[0mproc\u001b[0m\u001b[0;34m(\u001b[0m\u001b[0mdoc\u001b[0m\u001b[0;34m,\u001b[0m \u001b[0;34m**\u001b[0m\u001b[0mcomponent_cfg\u001b[0m\u001b[0;34m.\u001b[0m\u001b[0mget\u001b[0m\u001b[0;34m(\u001b[0m\u001b[0mname\u001b[0m\u001b[0;34m,\u001b[0m \u001b[0;34m{\u001b[0m\u001b[0;34m}\u001b[0m\u001b[0;34m)\u001b[0m\u001b[0;34m)\u001b[0m\u001b[0;34m\u001b[0m\u001b[0;34m\u001b[0m\u001b[0m\n\u001b[0m\u001b[1;32m    990\u001b[0m             \u001b[0;32mexcept\u001b[0m \u001b[0mKeyError\u001b[0m \u001b[0;32mas\u001b[0m \u001b[0me\u001b[0m\u001b[0;34m:\u001b[0m\u001b[0;34m\u001b[0m\u001b[0;34m\u001b[0m\u001b[0m\n\u001b[1;32m    991\u001b[0m                 \u001b[0;31m# This typically happens if a component is not initialized\u001b[0m\u001b[0;34m\u001b[0m\u001b[0;34m\u001b[0m\u001b[0;34m\u001b[0m\u001b[0m\n",
            "\u001b[0;32m/usr/local/lib/python3.7/dist-packages/contextualSpellCheck/contextualSpellCheck.py\u001b[0m in \u001b[0;36m__call__\u001b[0;34m(self, doc)\u001b[0m\n\u001b[1;32m    170\u001b[0m             \u001b[0mmisspell_tokens\u001b[0m\u001b[0;34m,\u001b[0m \u001b[0mdoc\u001b[0m \u001b[0;34m=\u001b[0m \u001b[0mself\u001b[0m\u001b[0;34m.\u001b[0m\u001b[0mmisspell_identify\u001b[0m\u001b[0;34m(\u001b[0m\u001b[0mdoc\u001b[0m\u001b[0;34m)\u001b[0m\u001b[0;34m\u001b[0m\u001b[0;34m\u001b[0m\u001b[0m\n\u001b[1;32m    171\u001b[0m             \u001b[0;32mif\u001b[0m \u001b[0mlen\u001b[0m\u001b[0;34m(\u001b[0m\u001b[0mmisspell_tokens\u001b[0m\u001b[0;34m)\u001b[0m \u001b[0;34m>\u001b[0m \u001b[0;36m0\u001b[0m\u001b[0;34m:\u001b[0m\u001b[0;34m\u001b[0m\u001b[0;34m\u001b[0m\u001b[0m\n\u001b[0;32m--> 172\u001b[0;31m                 \u001b[0mdoc\u001b[0m\u001b[0;34m,\u001b[0m \u001b[0mcandidate\u001b[0m \u001b[0;34m=\u001b[0m \u001b[0mself\u001b[0m\u001b[0;34m.\u001b[0m\u001b[0mcandidate_generator\u001b[0m\u001b[0;34m(\u001b[0m\u001b[0mdoc\u001b[0m\u001b[0;34m,\u001b[0m \u001b[0mmisspell_tokens\u001b[0m\u001b[0;34m)\u001b[0m\u001b[0;34m\u001b[0m\u001b[0;34m\u001b[0m\u001b[0m\n\u001b[0m\u001b[1;32m    173\u001b[0m                 \u001b[0mself\u001b[0m\u001b[0;34m.\u001b[0m\u001b[0mcandidate_ranking\u001b[0m\u001b[0;34m(\u001b[0m\u001b[0mdoc\u001b[0m\u001b[0;34m,\u001b[0m \u001b[0mcandidate\u001b[0m\u001b[0;34m)\u001b[0m\u001b[0;34m\u001b[0m\u001b[0;34m\u001b[0m\u001b[0m\n\u001b[1;32m    174\u001b[0m                 \u001b[0mraw_sentence\u001b[0m \u001b[0;34m=\u001b[0m \u001b[0mdoc\u001b[0m\u001b[0;34m.\u001b[0m\u001b[0m_\u001b[0m\u001b[0;34m.\u001b[0m\u001b[0moutcome_spellCheck\u001b[0m\u001b[0;34m.\u001b[0m\u001b[0msplit\u001b[0m\u001b[0;34m(\u001b[0m\u001b[0;34m\" \"\u001b[0m\u001b[0;34m)\u001b[0m\u001b[0;34m\u001b[0m\u001b[0;34m\u001b[0m\u001b[0m\n",
            "\u001b[0;32m/usr/local/lib/python3.7/dist-packages/contextualSpellCheck/contextualSpellCheck.py\u001b[0m in \u001b[0;36mcandidate_generator\u001b[0;34m(self, doc, misspellings, top_n)\u001b[0m\n\u001b[1;32m    319\u001b[0m                 \u001b[0mmodel_input\u001b[0m \u001b[0;34m==\u001b[0m \u001b[0mself\u001b[0m\u001b[0;34m.\u001b[0m\u001b[0mBertTokenizer\u001b[0m\u001b[0;34m.\u001b[0m\u001b[0mmask_token_id\u001b[0m\u001b[0;34m\u001b[0m\u001b[0;34m\u001b[0m\u001b[0m\n\u001b[1;32m    320\u001b[0m             )[1]\n\u001b[0;32m--> 321\u001b[0;31m             \u001b[0mtoken_logits\u001b[0m \u001b[0;34m=\u001b[0m \u001b[0mself\u001b[0m\u001b[0;34m.\u001b[0m\u001b[0mBertModel\u001b[0m\u001b[0;34m(\u001b[0m\u001b[0mmodel_input\u001b[0m\u001b[0;34m)\u001b[0m\u001b[0;34m[\u001b[0m\u001b[0;36m0\u001b[0m\u001b[0;34m]\u001b[0m\u001b[0;34m\u001b[0m\u001b[0;34m\u001b[0m\u001b[0m\n\u001b[0m\u001b[1;32m    322\u001b[0m             \u001b[0mmask_token_logits\u001b[0m \u001b[0;34m=\u001b[0m \u001b[0mtoken_logits\u001b[0m\u001b[0;34m[\u001b[0m\u001b[0;36m0\u001b[0m\u001b[0;34m,\u001b[0m \u001b[0mmask_token_index\u001b[0m\u001b[0;34m,\u001b[0m \u001b[0;34m:\u001b[0m\u001b[0;34m]\u001b[0m\u001b[0;34m\u001b[0m\u001b[0;34m\u001b[0m\u001b[0m\n\u001b[1;32m    323\u001b[0m             token_probability = torch.nn.functional.softmax(\n",
            "\u001b[0;32m/usr/local/lib/python3.7/dist-packages/torch/nn/modules/module.py\u001b[0m in \u001b[0;36m_call_impl\u001b[0;34m(self, *input, **kwargs)\u001b[0m\n\u001b[1;32m    725\u001b[0m             \u001b[0mresult\u001b[0m \u001b[0;34m=\u001b[0m \u001b[0mself\u001b[0m\u001b[0;34m.\u001b[0m\u001b[0m_slow_forward\u001b[0m\u001b[0;34m(\u001b[0m\u001b[0;34m*\u001b[0m\u001b[0minput\u001b[0m\u001b[0;34m,\u001b[0m \u001b[0;34m**\u001b[0m\u001b[0mkwargs\u001b[0m\u001b[0;34m)\u001b[0m\u001b[0;34m\u001b[0m\u001b[0;34m\u001b[0m\u001b[0m\n\u001b[1;32m    726\u001b[0m         \u001b[0;32melse\u001b[0m\u001b[0;34m:\u001b[0m\u001b[0;34m\u001b[0m\u001b[0;34m\u001b[0m\u001b[0m\n\u001b[0;32m--> 727\u001b[0;31m             \u001b[0mresult\u001b[0m \u001b[0;34m=\u001b[0m \u001b[0mself\u001b[0m\u001b[0;34m.\u001b[0m\u001b[0mforward\u001b[0m\u001b[0;34m(\u001b[0m\u001b[0;34m*\u001b[0m\u001b[0minput\u001b[0m\u001b[0;34m,\u001b[0m \u001b[0;34m**\u001b[0m\u001b[0mkwargs\u001b[0m\u001b[0;34m)\u001b[0m\u001b[0;34m\u001b[0m\u001b[0;34m\u001b[0m\u001b[0m\n\u001b[0m\u001b[1;32m    728\u001b[0m         for hook in itertools.chain(\n\u001b[1;32m    729\u001b[0m                 \u001b[0m_global_forward_hooks\u001b[0m\u001b[0;34m.\u001b[0m\u001b[0mvalues\u001b[0m\u001b[0;34m(\u001b[0m\u001b[0;34m)\u001b[0m\u001b[0;34m,\u001b[0m\u001b[0;34m\u001b[0m\u001b[0;34m\u001b[0m\u001b[0m\n",
            "\u001b[0;32m/usr/local/lib/python3.7/dist-packages/transformers/models/bert/modeling_bert.py\u001b[0m in \u001b[0;36mforward\u001b[0;34m(self, input_ids, attention_mask, token_type_ids, position_ids, head_mask, inputs_embeds, encoder_hidden_states, encoder_attention_mask, labels, output_attentions, output_hidden_states, return_dict)\u001b[0m\n\u001b[1;32m   1313\u001b[0m             \u001b[0moutput_attentions\u001b[0m\u001b[0;34m=\u001b[0m\u001b[0moutput_attentions\u001b[0m\u001b[0;34m,\u001b[0m\u001b[0;34m\u001b[0m\u001b[0;34m\u001b[0m\u001b[0m\n\u001b[1;32m   1314\u001b[0m             \u001b[0moutput_hidden_states\u001b[0m\u001b[0;34m=\u001b[0m\u001b[0moutput_hidden_states\u001b[0m\u001b[0;34m,\u001b[0m\u001b[0;34m\u001b[0m\u001b[0;34m\u001b[0m\u001b[0m\n\u001b[0;32m-> 1315\u001b[0;31m             \u001b[0mreturn_dict\u001b[0m\u001b[0;34m=\u001b[0m\u001b[0mreturn_dict\u001b[0m\u001b[0;34m,\u001b[0m\u001b[0;34m\u001b[0m\u001b[0;34m\u001b[0m\u001b[0m\n\u001b[0m\u001b[1;32m   1316\u001b[0m         )\n\u001b[1;32m   1317\u001b[0m \u001b[0;34m\u001b[0m\u001b[0m\n",
            "\u001b[0;32m/usr/local/lib/python3.7/dist-packages/torch/nn/modules/module.py\u001b[0m in \u001b[0;36m_call_impl\u001b[0;34m(self, *input, **kwargs)\u001b[0m\n\u001b[1;32m    725\u001b[0m             \u001b[0mresult\u001b[0m \u001b[0;34m=\u001b[0m \u001b[0mself\u001b[0m\u001b[0;34m.\u001b[0m\u001b[0m_slow_forward\u001b[0m\u001b[0;34m(\u001b[0m\u001b[0;34m*\u001b[0m\u001b[0minput\u001b[0m\u001b[0;34m,\u001b[0m \u001b[0;34m**\u001b[0m\u001b[0mkwargs\u001b[0m\u001b[0;34m)\u001b[0m\u001b[0;34m\u001b[0m\u001b[0;34m\u001b[0m\u001b[0m\n\u001b[1;32m    726\u001b[0m         \u001b[0;32melse\u001b[0m\u001b[0;34m:\u001b[0m\u001b[0;34m\u001b[0m\u001b[0;34m\u001b[0m\u001b[0m\n\u001b[0;32m--> 727\u001b[0;31m             \u001b[0mresult\u001b[0m \u001b[0;34m=\u001b[0m \u001b[0mself\u001b[0m\u001b[0;34m.\u001b[0m\u001b[0mforward\u001b[0m\u001b[0;34m(\u001b[0m\u001b[0;34m*\u001b[0m\u001b[0minput\u001b[0m\u001b[0;34m,\u001b[0m \u001b[0;34m**\u001b[0m\u001b[0mkwargs\u001b[0m\u001b[0;34m)\u001b[0m\u001b[0;34m\u001b[0m\u001b[0;34m\u001b[0m\u001b[0m\n\u001b[0m\u001b[1;32m    728\u001b[0m         for hook in itertools.chain(\n\u001b[1;32m    729\u001b[0m                 \u001b[0m_global_forward_hooks\u001b[0m\u001b[0;34m.\u001b[0m\u001b[0mvalues\u001b[0m\u001b[0;34m(\u001b[0m\u001b[0;34m)\u001b[0m\u001b[0;34m,\u001b[0m\u001b[0;34m\u001b[0m\u001b[0;34m\u001b[0m\u001b[0m\n",
            "\u001b[0;32m/usr/local/lib/python3.7/dist-packages/transformers/models/bert/modeling_bert.py\u001b[0m in \u001b[0;36mforward\u001b[0;34m(self, input_ids, attention_mask, token_type_ids, position_ids, head_mask, inputs_embeds, encoder_hidden_states, encoder_attention_mask, past_key_values, use_cache, output_attentions, output_hidden_states, return_dict)\u001b[0m\n\u001b[1;32m    974\u001b[0m             \u001b[0moutput_attentions\u001b[0m\u001b[0;34m=\u001b[0m\u001b[0moutput_attentions\u001b[0m\u001b[0;34m,\u001b[0m\u001b[0;34m\u001b[0m\u001b[0;34m\u001b[0m\u001b[0m\n\u001b[1;32m    975\u001b[0m             \u001b[0moutput_hidden_states\u001b[0m\u001b[0;34m=\u001b[0m\u001b[0moutput_hidden_states\u001b[0m\u001b[0;34m,\u001b[0m\u001b[0;34m\u001b[0m\u001b[0;34m\u001b[0m\u001b[0m\n\u001b[0;32m--> 976\u001b[0;31m             \u001b[0mreturn_dict\u001b[0m\u001b[0;34m=\u001b[0m\u001b[0mreturn_dict\u001b[0m\u001b[0;34m,\u001b[0m\u001b[0;34m\u001b[0m\u001b[0;34m\u001b[0m\u001b[0m\n\u001b[0m\u001b[1;32m    977\u001b[0m         )\n\u001b[1;32m    978\u001b[0m         \u001b[0msequence_output\u001b[0m \u001b[0;34m=\u001b[0m \u001b[0mencoder_outputs\u001b[0m\u001b[0;34m[\u001b[0m\u001b[0;36m0\u001b[0m\u001b[0;34m]\u001b[0m\u001b[0;34m\u001b[0m\u001b[0;34m\u001b[0m\u001b[0m\n",
            "\u001b[0;32m/usr/local/lib/python3.7/dist-packages/torch/nn/modules/module.py\u001b[0m in \u001b[0;36m_call_impl\u001b[0;34m(self, *input, **kwargs)\u001b[0m\n\u001b[1;32m    725\u001b[0m             \u001b[0mresult\u001b[0m \u001b[0;34m=\u001b[0m \u001b[0mself\u001b[0m\u001b[0;34m.\u001b[0m\u001b[0m_slow_forward\u001b[0m\u001b[0;34m(\u001b[0m\u001b[0;34m*\u001b[0m\u001b[0minput\u001b[0m\u001b[0;34m,\u001b[0m \u001b[0;34m**\u001b[0m\u001b[0mkwargs\u001b[0m\u001b[0;34m)\u001b[0m\u001b[0;34m\u001b[0m\u001b[0;34m\u001b[0m\u001b[0m\n\u001b[1;32m    726\u001b[0m         \u001b[0;32melse\u001b[0m\u001b[0;34m:\u001b[0m\u001b[0;34m\u001b[0m\u001b[0;34m\u001b[0m\u001b[0m\n\u001b[0;32m--> 727\u001b[0;31m             \u001b[0mresult\u001b[0m \u001b[0;34m=\u001b[0m \u001b[0mself\u001b[0m\u001b[0;34m.\u001b[0m\u001b[0mforward\u001b[0m\u001b[0;34m(\u001b[0m\u001b[0;34m*\u001b[0m\u001b[0minput\u001b[0m\u001b[0;34m,\u001b[0m \u001b[0;34m**\u001b[0m\u001b[0mkwargs\u001b[0m\u001b[0;34m)\u001b[0m\u001b[0;34m\u001b[0m\u001b[0;34m\u001b[0m\u001b[0m\n\u001b[0m\u001b[1;32m    728\u001b[0m         for hook in itertools.chain(\n\u001b[1;32m    729\u001b[0m                 \u001b[0m_global_forward_hooks\u001b[0m\u001b[0;34m.\u001b[0m\u001b[0mvalues\u001b[0m\u001b[0;34m(\u001b[0m\u001b[0;34m)\u001b[0m\u001b[0;34m,\u001b[0m\u001b[0;34m\u001b[0m\u001b[0;34m\u001b[0m\u001b[0m\n",
            "\u001b[0;32m/usr/local/lib/python3.7/dist-packages/transformers/models/bert/modeling_bert.py\u001b[0m in \u001b[0;36mforward\u001b[0;34m(self, hidden_states, attention_mask, head_mask, encoder_hidden_states, encoder_attention_mask, past_key_values, use_cache, output_attentions, output_hidden_states, return_dict)\u001b[0m\n\u001b[1;32m    572\u001b[0m                     \u001b[0mencoder_attention_mask\u001b[0m\u001b[0;34m,\u001b[0m\u001b[0;34m\u001b[0m\u001b[0;34m\u001b[0m\u001b[0m\n\u001b[1;32m    573\u001b[0m                     \u001b[0mpast_key_value\u001b[0m\u001b[0;34m,\u001b[0m\u001b[0;34m\u001b[0m\u001b[0;34m\u001b[0m\u001b[0m\n\u001b[0;32m--> 574\u001b[0;31m                     \u001b[0moutput_attentions\u001b[0m\u001b[0;34m,\u001b[0m\u001b[0;34m\u001b[0m\u001b[0;34m\u001b[0m\u001b[0m\n\u001b[0m\u001b[1;32m    575\u001b[0m                 )\n\u001b[1;32m    576\u001b[0m \u001b[0;34m\u001b[0m\u001b[0m\n",
            "\u001b[0;32m/usr/local/lib/python3.7/dist-packages/torch/nn/modules/module.py\u001b[0m in \u001b[0;36m_call_impl\u001b[0;34m(self, *input, **kwargs)\u001b[0m\n\u001b[1;32m    725\u001b[0m             \u001b[0mresult\u001b[0m \u001b[0;34m=\u001b[0m \u001b[0mself\u001b[0m\u001b[0;34m.\u001b[0m\u001b[0m_slow_forward\u001b[0m\u001b[0;34m(\u001b[0m\u001b[0;34m*\u001b[0m\u001b[0minput\u001b[0m\u001b[0;34m,\u001b[0m \u001b[0;34m**\u001b[0m\u001b[0mkwargs\u001b[0m\u001b[0;34m)\u001b[0m\u001b[0;34m\u001b[0m\u001b[0;34m\u001b[0m\u001b[0m\n\u001b[1;32m    726\u001b[0m         \u001b[0;32melse\u001b[0m\u001b[0;34m:\u001b[0m\u001b[0;34m\u001b[0m\u001b[0;34m\u001b[0m\u001b[0m\n\u001b[0;32m--> 727\u001b[0;31m             \u001b[0mresult\u001b[0m \u001b[0;34m=\u001b[0m \u001b[0mself\u001b[0m\u001b[0;34m.\u001b[0m\u001b[0mforward\u001b[0m\u001b[0;34m(\u001b[0m\u001b[0;34m*\u001b[0m\u001b[0minput\u001b[0m\u001b[0;34m,\u001b[0m \u001b[0;34m**\u001b[0m\u001b[0mkwargs\u001b[0m\u001b[0;34m)\u001b[0m\u001b[0;34m\u001b[0m\u001b[0;34m\u001b[0m\u001b[0m\n\u001b[0m\u001b[1;32m    728\u001b[0m         for hook in itertools.chain(\n\u001b[1;32m    729\u001b[0m                 \u001b[0m_global_forward_hooks\u001b[0m\u001b[0;34m.\u001b[0m\u001b[0mvalues\u001b[0m\u001b[0;34m(\u001b[0m\u001b[0;34m)\u001b[0m\u001b[0;34m,\u001b[0m\u001b[0;34m\u001b[0m\u001b[0;34m\u001b[0m\u001b[0m\n",
            "\u001b[0;32m/usr/local/lib/python3.7/dist-packages/transformers/models/bert/modeling_bert.py\u001b[0m in \u001b[0;36mforward\u001b[0;34m(self, hidden_states, attention_mask, head_mask, encoder_hidden_states, encoder_attention_mask, past_key_value, output_attentions)\u001b[0m\n\u001b[1;32m    494\u001b[0m \u001b[0;34m\u001b[0m\u001b[0m\n\u001b[1;32m    495\u001b[0m         layer_output = apply_chunking_to_forward(\n\u001b[0;32m--> 496\u001b[0;31m             \u001b[0mself\u001b[0m\u001b[0;34m.\u001b[0m\u001b[0mfeed_forward_chunk\u001b[0m\u001b[0;34m,\u001b[0m \u001b[0mself\u001b[0m\u001b[0;34m.\u001b[0m\u001b[0mchunk_size_feed_forward\u001b[0m\u001b[0;34m,\u001b[0m \u001b[0mself\u001b[0m\u001b[0;34m.\u001b[0m\u001b[0mseq_len_dim\u001b[0m\u001b[0;34m,\u001b[0m \u001b[0mattention_output\u001b[0m\u001b[0;34m\u001b[0m\u001b[0;34m\u001b[0m\u001b[0m\n\u001b[0m\u001b[1;32m    497\u001b[0m         )\n\u001b[1;32m    498\u001b[0m         \u001b[0moutputs\u001b[0m \u001b[0;34m=\u001b[0m \u001b[0;34m(\u001b[0m\u001b[0mlayer_output\u001b[0m\u001b[0;34m,\u001b[0m\u001b[0;34m)\u001b[0m \u001b[0;34m+\u001b[0m \u001b[0moutputs\u001b[0m\u001b[0;34m\u001b[0m\u001b[0;34m\u001b[0m\u001b[0m\n",
            "\u001b[0;32m/usr/local/lib/python3.7/dist-packages/transformers/modeling_utils.py\u001b[0m in \u001b[0;36mapply_chunking_to_forward\u001b[0;34m(forward_fn, chunk_size, chunk_dim, *input_tensors)\u001b[0m\n\u001b[1;32m   1785\u001b[0m         \u001b[0;32mreturn\u001b[0m \u001b[0mtorch\u001b[0m\u001b[0;34m.\u001b[0m\u001b[0mcat\u001b[0m\u001b[0;34m(\u001b[0m\u001b[0moutput_chunks\u001b[0m\u001b[0;34m,\u001b[0m \u001b[0mdim\u001b[0m\u001b[0;34m=\u001b[0m\u001b[0mchunk_dim\u001b[0m\u001b[0;34m)\u001b[0m\u001b[0;34m\u001b[0m\u001b[0;34m\u001b[0m\u001b[0m\n\u001b[1;32m   1786\u001b[0m \u001b[0;34m\u001b[0m\u001b[0m\n\u001b[0;32m-> 1787\u001b[0;31m     \u001b[0;32mreturn\u001b[0m \u001b[0mforward_fn\u001b[0m\u001b[0;34m(\u001b[0m\u001b[0;34m*\u001b[0m\u001b[0minput_tensors\u001b[0m\u001b[0;34m)\u001b[0m\u001b[0;34m\u001b[0m\u001b[0;34m\u001b[0m\u001b[0m\n\u001b[0m",
            "\u001b[0;32m/usr/local/lib/python3.7/dist-packages/transformers/models/bert/modeling_bert.py\u001b[0m in \u001b[0;36mfeed_forward_chunk\u001b[0;34m(self, attention_output)\u001b[0m\n\u001b[1;32m    506\u001b[0m     \u001b[0;32mdef\u001b[0m \u001b[0mfeed_forward_chunk\u001b[0m\u001b[0;34m(\u001b[0m\u001b[0mself\u001b[0m\u001b[0;34m,\u001b[0m \u001b[0mattention_output\u001b[0m\u001b[0;34m)\u001b[0m\u001b[0;34m:\u001b[0m\u001b[0;34m\u001b[0m\u001b[0;34m\u001b[0m\u001b[0m\n\u001b[1;32m    507\u001b[0m         \u001b[0mintermediate_output\u001b[0m \u001b[0;34m=\u001b[0m \u001b[0mself\u001b[0m\u001b[0;34m.\u001b[0m\u001b[0mintermediate\u001b[0m\u001b[0;34m(\u001b[0m\u001b[0mattention_output\u001b[0m\u001b[0;34m)\u001b[0m\u001b[0;34m\u001b[0m\u001b[0;34m\u001b[0m\u001b[0m\n\u001b[0;32m--> 508\u001b[0;31m         \u001b[0mlayer_output\u001b[0m \u001b[0;34m=\u001b[0m \u001b[0mself\u001b[0m\u001b[0;34m.\u001b[0m\u001b[0moutput\u001b[0m\u001b[0;34m(\u001b[0m\u001b[0mintermediate_output\u001b[0m\u001b[0;34m,\u001b[0m \u001b[0mattention_output\u001b[0m\u001b[0;34m)\u001b[0m\u001b[0;34m\u001b[0m\u001b[0;34m\u001b[0m\u001b[0m\n\u001b[0m\u001b[1;32m    509\u001b[0m         \u001b[0;32mreturn\u001b[0m \u001b[0mlayer_output\u001b[0m\u001b[0;34m\u001b[0m\u001b[0;34m\u001b[0m\u001b[0m\n\u001b[1;32m    510\u001b[0m \u001b[0;34m\u001b[0m\u001b[0m\n",
            "\u001b[0;32m/usr/local/lib/python3.7/dist-packages/torch/nn/modules/module.py\u001b[0m in \u001b[0;36m_call_impl\u001b[0;34m(self, *input, **kwargs)\u001b[0m\n\u001b[1;32m    725\u001b[0m             \u001b[0mresult\u001b[0m \u001b[0;34m=\u001b[0m \u001b[0mself\u001b[0m\u001b[0;34m.\u001b[0m\u001b[0m_slow_forward\u001b[0m\u001b[0;34m(\u001b[0m\u001b[0;34m*\u001b[0m\u001b[0minput\u001b[0m\u001b[0;34m,\u001b[0m \u001b[0;34m**\u001b[0m\u001b[0mkwargs\u001b[0m\u001b[0;34m)\u001b[0m\u001b[0;34m\u001b[0m\u001b[0;34m\u001b[0m\u001b[0m\n\u001b[1;32m    726\u001b[0m         \u001b[0;32melse\u001b[0m\u001b[0;34m:\u001b[0m\u001b[0;34m\u001b[0m\u001b[0;34m\u001b[0m\u001b[0m\n\u001b[0;32m--> 727\u001b[0;31m             \u001b[0mresult\u001b[0m \u001b[0;34m=\u001b[0m \u001b[0mself\u001b[0m\u001b[0;34m.\u001b[0m\u001b[0mforward\u001b[0m\u001b[0;34m(\u001b[0m\u001b[0;34m*\u001b[0m\u001b[0minput\u001b[0m\u001b[0;34m,\u001b[0m \u001b[0;34m**\u001b[0m\u001b[0mkwargs\u001b[0m\u001b[0;34m)\u001b[0m\u001b[0;34m\u001b[0m\u001b[0;34m\u001b[0m\u001b[0m\n\u001b[0m\u001b[1;32m    728\u001b[0m         for hook in itertools.chain(\n\u001b[1;32m    729\u001b[0m                 \u001b[0m_global_forward_hooks\u001b[0m\u001b[0;34m.\u001b[0m\u001b[0mvalues\u001b[0m\u001b[0;34m(\u001b[0m\u001b[0;34m)\u001b[0m\u001b[0;34m,\u001b[0m\u001b[0;34m\u001b[0m\u001b[0;34m\u001b[0m\u001b[0m\n",
            "\u001b[0;32m/usr/local/lib/python3.7/dist-packages/transformers/models/bert/modeling_bert.py\u001b[0m in \u001b[0;36mforward\u001b[0;34m(self, hidden_states, input_tensor)\u001b[0m\n\u001b[1;32m    421\u001b[0m \u001b[0;34m\u001b[0m\u001b[0m\n\u001b[1;32m    422\u001b[0m     \u001b[0;32mdef\u001b[0m \u001b[0mforward\u001b[0m\u001b[0;34m(\u001b[0m\u001b[0mself\u001b[0m\u001b[0;34m,\u001b[0m \u001b[0mhidden_states\u001b[0m\u001b[0;34m,\u001b[0m \u001b[0minput_tensor\u001b[0m\u001b[0;34m)\u001b[0m\u001b[0;34m:\u001b[0m\u001b[0;34m\u001b[0m\u001b[0;34m\u001b[0m\u001b[0m\n\u001b[0;32m--> 423\u001b[0;31m         \u001b[0mhidden_states\u001b[0m \u001b[0;34m=\u001b[0m \u001b[0mself\u001b[0m\u001b[0;34m.\u001b[0m\u001b[0mdense\u001b[0m\u001b[0;34m(\u001b[0m\u001b[0mhidden_states\u001b[0m\u001b[0;34m)\u001b[0m\u001b[0;34m\u001b[0m\u001b[0;34m\u001b[0m\u001b[0m\n\u001b[0m\u001b[1;32m    424\u001b[0m         \u001b[0mhidden_states\u001b[0m \u001b[0;34m=\u001b[0m \u001b[0mself\u001b[0m\u001b[0;34m.\u001b[0m\u001b[0mdropout\u001b[0m\u001b[0;34m(\u001b[0m\u001b[0mhidden_states\u001b[0m\u001b[0;34m)\u001b[0m\u001b[0;34m\u001b[0m\u001b[0;34m\u001b[0m\u001b[0m\n\u001b[1;32m    425\u001b[0m         \u001b[0mhidden_states\u001b[0m \u001b[0;34m=\u001b[0m \u001b[0mself\u001b[0m\u001b[0;34m.\u001b[0m\u001b[0mLayerNorm\u001b[0m\u001b[0;34m(\u001b[0m\u001b[0mhidden_states\u001b[0m \u001b[0;34m+\u001b[0m \u001b[0minput_tensor\u001b[0m\u001b[0;34m)\u001b[0m\u001b[0;34m\u001b[0m\u001b[0;34m\u001b[0m\u001b[0m\n",
            "\u001b[0;32m/usr/local/lib/python3.7/dist-packages/torch/nn/modules/module.py\u001b[0m in \u001b[0;36m_call_impl\u001b[0;34m(self, *input, **kwargs)\u001b[0m\n\u001b[1;32m    725\u001b[0m             \u001b[0mresult\u001b[0m \u001b[0;34m=\u001b[0m \u001b[0mself\u001b[0m\u001b[0;34m.\u001b[0m\u001b[0m_slow_forward\u001b[0m\u001b[0;34m(\u001b[0m\u001b[0;34m*\u001b[0m\u001b[0minput\u001b[0m\u001b[0;34m,\u001b[0m \u001b[0;34m**\u001b[0m\u001b[0mkwargs\u001b[0m\u001b[0;34m)\u001b[0m\u001b[0;34m\u001b[0m\u001b[0;34m\u001b[0m\u001b[0m\n\u001b[1;32m    726\u001b[0m         \u001b[0;32melse\u001b[0m\u001b[0;34m:\u001b[0m\u001b[0;34m\u001b[0m\u001b[0;34m\u001b[0m\u001b[0m\n\u001b[0;32m--> 727\u001b[0;31m             \u001b[0mresult\u001b[0m \u001b[0;34m=\u001b[0m \u001b[0mself\u001b[0m\u001b[0;34m.\u001b[0m\u001b[0mforward\u001b[0m\u001b[0;34m(\u001b[0m\u001b[0;34m*\u001b[0m\u001b[0minput\u001b[0m\u001b[0;34m,\u001b[0m \u001b[0;34m**\u001b[0m\u001b[0mkwargs\u001b[0m\u001b[0;34m)\u001b[0m\u001b[0;34m\u001b[0m\u001b[0;34m\u001b[0m\u001b[0m\n\u001b[0m\u001b[1;32m    728\u001b[0m         for hook in itertools.chain(\n\u001b[1;32m    729\u001b[0m                 \u001b[0m_global_forward_hooks\u001b[0m\u001b[0;34m.\u001b[0m\u001b[0mvalues\u001b[0m\u001b[0;34m(\u001b[0m\u001b[0;34m)\u001b[0m\u001b[0;34m,\u001b[0m\u001b[0;34m\u001b[0m\u001b[0;34m\u001b[0m\u001b[0m\n",
            "\u001b[0;32m/usr/local/lib/python3.7/dist-packages/torch/nn/modules/linear.py\u001b[0m in \u001b[0;36mforward\u001b[0;34m(self, input)\u001b[0m\n\u001b[1;32m     91\u001b[0m \u001b[0;34m\u001b[0m\u001b[0m\n\u001b[1;32m     92\u001b[0m     \u001b[0;32mdef\u001b[0m \u001b[0mforward\u001b[0m\u001b[0;34m(\u001b[0m\u001b[0mself\u001b[0m\u001b[0;34m,\u001b[0m \u001b[0minput\u001b[0m\u001b[0;34m:\u001b[0m \u001b[0mTensor\u001b[0m\u001b[0;34m)\u001b[0m \u001b[0;34m->\u001b[0m \u001b[0mTensor\u001b[0m\u001b[0;34m:\u001b[0m\u001b[0;34m\u001b[0m\u001b[0;34m\u001b[0m\u001b[0m\n\u001b[0;32m---> 93\u001b[0;31m         \u001b[0;32mreturn\u001b[0m \u001b[0mF\u001b[0m\u001b[0;34m.\u001b[0m\u001b[0mlinear\u001b[0m\u001b[0;34m(\u001b[0m\u001b[0minput\u001b[0m\u001b[0;34m,\u001b[0m \u001b[0mself\u001b[0m\u001b[0;34m.\u001b[0m\u001b[0mweight\u001b[0m\u001b[0;34m,\u001b[0m \u001b[0mself\u001b[0m\u001b[0;34m.\u001b[0m\u001b[0mbias\u001b[0m\u001b[0;34m)\u001b[0m\u001b[0;34m\u001b[0m\u001b[0;34m\u001b[0m\u001b[0m\n\u001b[0m\u001b[1;32m     94\u001b[0m \u001b[0;34m\u001b[0m\u001b[0m\n\u001b[1;32m     95\u001b[0m     \u001b[0;32mdef\u001b[0m \u001b[0mextra_repr\u001b[0m\u001b[0;34m(\u001b[0m\u001b[0mself\u001b[0m\u001b[0;34m)\u001b[0m \u001b[0;34m->\u001b[0m \u001b[0mstr\u001b[0m\u001b[0;34m:\u001b[0m\u001b[0;34m\u001b[0m\u001b[0;34m\u001b[0m\u001b[0m\n",
            "\u001b[0;32m/usr/local/lib/python3.7/dist-packages/torch/nn/functional.py\u001b[0m in \u001b[0;36mlinear\u001b[0;34m(input, weight, bias)\u001b[0m\n\u001b[1;32m   1690\u001b[0m         \u001b[0mret\u001b[0m \u001b[0;34m=\u001b[0m \u001b[0mtorch\u001b[0m\u001b[0;34m.\u001b[0m\u001b[0maddmm\u001b[0m\u001b[0;34m(\u001b[0m\u001b[0mbias\u001b[0m\u001b[0;34m,\u001b[0m \u001b[0minput\u001b[0m\u001b[0;34m,\u001b[0m \u001b[0mweight\u001b[0m\u001b[0;34m.\u001b[0m\u001b[0mt\u001b[0m\u001b[0;34m(\u001b[0m\u001b[0;34m)\u001b[0m\u001b[0;34m)\u001b[0m\u001b[0;34m\u001b[0m\u001b[0;34m\u001b[0m\u001b[0m\n\u001b[1;32m   1691\u001b[0m     \u001b[0;32melse\u001b[0m\u001b[0;34m:\u001b[0m\u001b[0;34m\u001b[0m\u001b[0;34m\u001b[0m\u001b[0m\n\u001b[0;32m-> 1692\u001b[0;31m         \u001b[0moutput\u001b[0m \u001b[0;34m=\u001b[0m \u001b[0minput\u001b[0m\u001b[0;34m.\u001b[0m\u001b[0mmatmul\u001b[0m\u001b[0;34m(\u001b[0m\u001b[0mweight\u001b[0m\u001b[0;34m.\u001b[0m\u001b[0mt\u001b[0m\u001b[0;34m(\u001b[0m\u001b[0;34m)\u001b[0m\u001b[0;34m)\u001b[0m\u001b[0;34m\u001b[0m\u001b[0;34m\u001b[0m\u001b[0m\n\u001b[0m\u001b[1;32m   1693\u001b[0m         \u001b[0;32mif\u001b[0m \u001b[0mbias\u001b[0m \u001b[0;32mis\u001b[0m \u001b[0;32mnot\u001b[0m \u001b[0;32mNone\u001b[0m\u001b[0;34m:\u001b[0m\u001b[0;34m\u001b[0m\u001b[0;34m\u001b[0m\u001b[0m\n\u001b[1;32m   1694\u001b[0m             \u001b[0moutput\u001b[0m \u001b[0;34m+=\u001b[0m \u001b[0mbias\u001b[0m\u001b[0;34m\u001b[0m\u001b[0;34m\u001b[0m\u001b[0m\n",
            "\u001b[0;31mKeyboardInterrupt\u001b[0m: "
          ]
        }
      ]
    },
    {
      "cell_type": "code",
      "metadata": {
        "id": "ZwYxGaKP5biZ"
      },
      "source": [
        "loc_df['summary_context_true'] = loc_df['summary'].apply(lambda x: str(nlp(x)))"
      ],
      "execution_count": null,
      "outputs": []
    },
    {
      "cell_type": "code",
      "metadata": {
        "id": "0QFpYJ-z5blh",
        "colab": {
          "base_uri": "https://localhost:8080/"
        },
        "outputId": "a1826ccf-fb47-40f9-b252-20e6d1600751"
      },
      "source": [
        "print(loc_df.shape); loc_df.head(3)"
      ],
      "execution_count": null,
      "outputs": [
        {
          "output_type": "stream",
          "text": [
            "(112, 24)\n"
          ],
          "name": "stdout"
        },
        {
          "output_type": "execute_result",
          "data": {
            "text/html": [
              "<div>\n",
              "<style scoped>\n",
              "    .dataframe tbody tr th:only-of-type {\n",
              "        vertical-align: middle;\n",
              "    }\n",
              "\n",
              "    .dataframe tbody tr th {\n",
              "        vertical-align: top;\n",
              "    }\n",
              "\n",
              "    .dataframe thead th {\n",
              "        text-align: right;\n",
              "    }\n",
              "</style>\n",
              "<table border=\"1\" class=\"dataframe\">\n",
              "  <thead>\n",
              "    <tr style=\"text-align: right;\">\n",
              "      <th></th>\n",
              "      <th>date</th>\n",
              "      <th>header</th>\n",
              "      <th>summary</th>\n",
              "      <th>link</th>\n",
              "      <th>protocol</th>\n",
              "      <th>domain</th>\n",
              "      <th>path</th>\n",
              "      <th>query</th>\n",
              "      <th>fragment</th>\n",
              "      <th>host_name</th>\n",
              "      <th>ip_address</th>\n",
              "      <th>CountryCode</th>\n",
              "      <th>CountryName</th>\n",
              "      <th>State</th>\n",
              "      <th>City</th>\n",
              "      <th>Longitude</th>\n",
              "      <th>Latitude</th>\n",
              "      <th>Asn</th>\n",
              "      <th>edges</th>\n",
              "      <th>Type</th>\n",
              "      <th>AdditionalData</th>\n",
              "      <th>IpAddress</th>\n",
              "      <th>header_context_true</th>\n",
              "      <th>summary_context_true</th>\n",
              "    </tr>\n",
              "  </thead>\n",
              "  <tbody>\n",
              "    <tr>\n",
              "      <th>0</th>\n",
              "      <td>2021-02-27</td>\n",
              "      <td>Texas A&amp;M University Libraries</td>\n",
              "      <td>Evans Library and Annex offers collections and...</td>\n",
              "      <td>https://library.tamu.edu/</td>\n",
              "      <td>https</td>\n",
              "      <td>library.tamu.edu</td>\n",
              "      <td>/</td>\n",
              "      <td></td>\n",
              "      <td></td>\n",
              "      <td>tamu.edu</td>\n",
              "      <td>128.194.18.15</td>\n",
              "      <td>US</td>\n",
              "      <td>United States</td>\n",
              "      <td>Texas</td>\n",
              "      <td>College Station</td>\n",
              "      <td>-96.350121</td>\n",
              "      <td>30.608360</td>\n",
              "      <td>3794.0</td>\n",
              "      <td>{}</td>\n",
              "      <td>geolocation</td>\n",
              "      <td>{}</td>\n",
              "      <td>128.194.18.15</td>\n",
              "      <td>Texas A&amp;M University Libraries</td>\n",
              "      <td>Evans Library and Annex offers collections and...</td>\n",
              "    </tr>\n",
              "    <tr>\n",
              "      <th>1</th>\n",
              "      <td>2021-02-27</td>\n",
              "      <td>Download Environmental Engineering Practice .....</td>\n",
              "      <td>Download Environmental Engineering Practice Pe...</td>\n",
              "      <td>http://de.nempo.org/809.html</td>\n",
              "      <td>http</td>\n",
              "      <td>de.nempo.org</td>\n",
              "      <td>/809.html</td>\n",
              "      <td></td>\n",
              "      <td></td>\n",
              "      <td>nempo.org</td>\n",
              "      <td>51.210.47.143</td>\n",
              "      <td>FR</td>\n",
              "      <td>France</td>\n",
              "      <td>Grand Est</td>\n",
              "      <td>Strasbourg</td>\n",
              "      <td>7.743750</td>\n",
              "      <td>48.582932</td>\n",
              "      <td>16276.0</td>\n",
              "      <td>{}</td>\n",
              "      <td>geolocation</td>\n",
              "      <td>{}</td>\n",
              "      <td>51.210.47.143</td>\n",
              "      <td>Download Environmental Engineering Practice .....</td>\n",
              "      <td>Download Environmental Engineering Practice Pe...</td>\n",
              "    </tr>\n",
              "    <tr>\n",
              "      <th>2</th>\n",
              "      <td>2021-02-27</td>\n",
              "      <td>Download Environmental Engineering Practice .....</td>\n",
              "      <td>Download Environmental Engineering Practice Pe...</td>\n",
              "      <td>http://de.nempo.org/809.html</td>\n",
              "      <td>http</td>\n",
              "      <td>de.nempo.org</td>\n",
              "      <td>/809.html</td>\n",
              "      <td></td>\n",
              "      <td></td>\n",
              "      <td>nempo.org</td>\n",
              "      <td>51.210.47.143</td>\n",
              "      <td>FR</td>\n",
              "      <td>France</td>\n",
              "      <td>Grand Est</td>\n",
              "      <td>Strasbourg</td>\n",
              "      <td>7.743750</td>\n",
              "      <td>48.582932</td>\n",
              "      <td>16276.0</td>\n",
              "      <td>{}</td>\n",
              "      <td>geolocation</td>\n",
              "      <td>{}</td>\n",
              "      <td>51.210.47.143</td>\n",
              "      <td>Download Environmental Engineering Practice .....</td>\n",
              "      <td>Download Environmental Engineering Practice Pe...</td>\n",
              "    </tr>\n",
              "  </tbody>\n",
              "</table>\n",
              "</div>"
            ],
            "text/plain": [
              "         date  ...                               summary_context_true\n",
              "0  2021-02-27  ...  Evans Library and Annex offers collections and...\n",
              "1  2021-02-27  ...  Download Environmental Engineering Practice Pe...\n",
              "2  2021-02-27  ...  Download Environmental Engineering Practice Pe...\n",
              "\n",
              "[3 rows x 24 columns]"
            ]
          },
          "metadata": {
            "tags": []
          },
          "execution_count": 56
        }
      ]
    },
    {
      "cell_type": "markdown",
      "metadata": {
        "id": "RXbEGwkI6P95"
      },
      "source": [
        "# OUTPUT"
      ]
    },
    {
      "cell_type": "code",
      "metadata": {
        "id": "qLxI6NlF5bn_",
        "colab": {
          "base_uri": "https://localhost:8080/"
        },
        "outputId": "a6aeb242-8fda-4f9a-ff81-5e92bb382c21"
      },
      "source": [
        "fileName = '/content/drive/My Drive/covid19impact/data/2021/01_collect/en/' + dataset + '.csv'\n",
        "loc_df.to_csv(fileName, sep=';', encoding='UTF-8')\n",
        "\n",
        "print(\"Ok \" + fileName + \" is saved. Good Job! Next!!!\")"
      ],
      "execution_count": null,
      "outputs": [
        {
          "output_type": "stream",
          "text": [
            "Ok /content/drive/My Drive/covid19impact/data/2021/01_collect/en/2021-02-27.csv is saved. Good Job! Next!!!\n"
          ],
          "name": "stdout"
        }
      ]
    },
    {
      "cell_type": "markdown",
      "metadata": {
        "id": "QuH5Q8H2VZe8"
      },
      "source": [
        "# NEXT"
      ]
    },
    {
      "cell_type": "markdown",
      "metadata": {
        "id": "84GpqvW36WfT"
      },
      "source": [
        "Input em: covid19impact_02_analytics_01_domain_en.ipynb"
      ]
    },
    {
      "cell_type": "markdown",
      "metadata": {
        "id": "o8hqAvnFj871"
      },
      "source": [
        "## Ideias pnl e dataviz"
      ]
    },
    {
      "cell_type": "markdown",
      "metadata": {
        "id": "Gr130_zfj872"
      },
      "source": [
        "- nuven das keywords\n",
        "- freq/data\n",
        "- freq/fonte\n",
        "- dist. geoespacial\n",
        "- análise de sentimento do resumo\n",
        "- indicice de similaridade entre news\n",
        "- rede por font/keywords\n",
        "    - https://blog.datacite.org/powering-the-pid-graph/\n",
        "    - https://github.com/datacite/notebooks/blob/master/pid-graph/r-person-publications/r-person-publications.ipynb\n",
        "\n",
        "- usar modelo bert para tentar responder algumas perguntas\n",
        "    - https://www.analyticsvidhya.com/blog/2019/09/demystifying-bert-groundbreaking-nlp-framework/\n",
        "    - kaggle \n",
        "        - https://www.kaggle.com/allen-institute-for-ai/CORD-19-research-challenge/\n",
        "        - https://covid19.ai2prod.com/about\n",
        "        - https://www.kaggle.com/pmlee2017/use-covid19-search-engine\n",
        "        - https://www.kaggle.com/tarunpaparaju/covid-19-dataset-gaining-actionable-insights\n",
        "    - medium\n",
        "        - https://medium.com/analytics-vidhya/summarizing-news-articles-with-bert-27650f44ba17\n",
        "        - https://towardsdatascience.com/building-an-understanding-of-viruses-by-mining-covid-19-scientific-corpus-f1d27c33b48-\n",
        "        - https://medium.com/swlh/patching-pre-trained-language-models-28ed6ea8b0bc\n",
        "        - https://towardsdatascience.com/covid-19-with-a-flair-2802a9f4c90f\n",
        "    \n",
        "        - previsão de viralidade da news\n",
        "            - https://medium.com/@aryan212verma/online-news-crawling-and-virality-prediction-bbe81585c326\n",
        "            - https://github.com/Aaryanverma/News_Virality_Prediction\n",
        "            - https://ieeexplore.ieee.org/document/8438324\n",
        "            - https://medium.com/analytics-vidhya/news-article-virality-prediction-c0c069de0c9c\n",
        "          - https://www.kaggle.com/rutujajadhavj/virality-preditor\n",
        "          - https://github.com/iamprayush/News-Articles-Virality-Prediction"
      ]
    },
    {
      "cell_type": "markdown",
      "metadata": {
        "id": "I-Ha9PfQVz6q"
      },
      "source": [
        "## Radar - modelo tw\n",
        "- https://www.thoughtworks.com/pt/radar "
      ]
    },
    {
      "cell_type": "markdown",
      "metadata": {
        "id": "CcIsbOqpVgwD"
      },
      "source": [
        "## Reletad work"
      ]
    },
    {
      "cell_type": "markdown",
      "metadata": {
        "id": "a8kqWhB1j872"
      },
      "source": [
        "### Estudo de caso 1 - FREYA"
      ]
    },
    {
      "cell_type": "markdown",
      "metadata": {
        "id": "MW7rM_dmj873"
      },
      "source": [
        "- https://www.project-freya.eu/ \n",
        "    - https://www.project-freya.eu/en/resources/project-output\n",
        "    - https://www.project-freya.eu/Plone/en\n",
        "       - https://www.project-freya.eu/en/resources/project-output\n",
        "\n",
        "   - https://datacite.org/\n",
        "        - https://blog.datacite.org/power-of-pids/\n",
        "        - https://blog.datacite.org/powering-the-pid-graph/\n",
        "        - https://commons.datacite.org/\n",
        "        - https://github.com/datacite/pidgraph-notebooks-python\n",
        "        - https://github.com/datacite/notebooks"
      ]
    },
    {
      "cell_type": "markdown",
      "metadata": {
        "id": "lLnfDOHQj873"
      },
      "source": [
        "### Estudo de caso 2 - Coronawhy"
      ]
    },
    {
      "cell_type": "markdown",
      "metadata": {
        "id": "T2hYxd30j874"
      },
      "source": [
        "- https://www.coronawhy.org/\n",
        "- https://www.coronawhy.org/coronawhy-knowledge-graph\n",
        "- https://www.youtube.com/watch?v=Pl1lanx8fc4&t=2s"
      ]
    },
    {
      "cell_type": "markdown",
      "metadata": {
        "id": "DlusirGxj874"
      },
      "source": [
        "### Estudo de caso 3 - Corona Papers"
      ]
    },
    {
      "cell_type": "markdown",
      "metadata": {
        "id": "CRcvveVdj874"
      },
      "source": [
        "- https://covid19.ai2prod.com/\n",
        "- https://www.youtube.com/watch?time_continue=64&v=iVsteYEF0ko&feature=emb_logo\n",
        "- https://medium.com/datadriveninvestor/releasing-corona-papers-an-ai-powered-search-engine-to-explore-covid-19-research-4b18d1259491\n",
        "- https://www.kaggle.com/pmlee2017/use-covid19-search-engine\n",
        "- https://github.com/ahmedbesbes/covidbert-topic-mining"
      ]
    }
  ]
}