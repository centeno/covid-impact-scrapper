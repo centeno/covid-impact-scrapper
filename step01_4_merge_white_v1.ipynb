{
  "nbformat": 4,
  "nbformat_minor": 0,
  "metadata": {
    "kernelspec": {
      "display_name": "Python 3",
      "language": "python",
      "name": "python3"
    },
    "language_info": {
      "codemirror_mode": {
        "name": "ipython",
        "version": 3
      },
      "file_extension": ".py",
      "mimetype": "text/x-python",
      "name": "python",
      "nbconvert_exporter": "python",
      "pygments_lexer": "ipython3",
      "version": "3.8.5"
    },
    "colab": {
      "name": "step01-4_merge_white_v1.ipynb",
      "provenance": [],
      "include_colab_link": true
    }
  },
  "cells": [
    {
      "cell_type": "markdown",
      "metadata": {
        "id": "view-in-github",
        "colab_type": "text"
      },
      "source": [
        "<a href=\"https://colab.research.google.com/github/centeno/covid-impact-scrapper/blob/master/step01_4_merge_white_v1.ipynb\" target=\"_parent\"><img src=\"https://colab.research.google.com/assets/colab-badge.svg\" alt=\"Open In Colab\"/></a>"
      ]
    },
    {
      "cell_type": "markdown",
      "metadata": {
        "id": "Sz_DpjGzi4hT"
      },
      "source": [
        "# IMPORT"
      ]
    },
    {
      "cell_type": "code",
      "metadata": {
        "id": "DYyXWO3Si4hY"
      },
      "source": [
        "import pandas as pd\n",
        "\n",
        "#https://discuss.analyticsvidhya.com/t/how-to-display-full-dataframe-in-pandas/23298/3\n",
        "pd.set_option('display.max_columns', 1000)\n",
        "pd.set_option('display.max_rows', 1000)"
      ],
      "execution_count": null,
      "outputs": []
    },
    {
      "cell_type": "markdown",
      "metadata": {
        "id": "u2s_amdAi4hZ"
      },
      "source": [
        "# INPUT"
      ]
    },
    {
      "cell_type": "code",
      "metadata": {
        "id": "6QKqPpOFi4ha",
        "outputId": "41da41d4-e63a-470b-c4a3-ddaa2d75a266"
      },
      "source": [
        "path = '/home/eluis/workspace/covid19impact/data/02_white/step01_collect/'\n",
        "df_i3e = pd.read_csv(path + \"20210328_export_IEEEEXPLORE.csv\")\n",
        "\n",
        "# Map the lowering function to all column names\n",
        "df_i3e .columns = map(str.lower, df_i3e .columns)\n",
        "\n",
        "# remove spaces in columns name\n",
        "df_i3e.columns = df_i3e.columns.str.replace(' ','_')\n",
        "df_i3e.head(3)"
      ],
      "execution_count": null,
      "outputs": [
        {
          "output_type": "execute_result",
          "data": {
            "text/html": [
              "<div>\n",
              "<style scoped>\n",
              "    .dataframe tbody tr th:only-of-type {\n",
              "        vertical-align: middle;\n",
              "    }\n",
              "\n",
              "    .dataframe tbody tr th {\n",
              "        vertical-align: top;\n",
              "    }\n",
              "\n",
              "    .dataframe thead th {\n",
              "        text-align: right;\n",
              "    }\n",
              "</style>\n",
              "<table border=\"1\" class=\"dataframe\">\n",
              "  <thead>\n",
              "    <tr style=\"text-align: right;\">\n",
              "      <th></th>\n",
              "      <th>document_title</th>\n",
              "      <th>authors</th>\n",
              "      <th>author_affiliations</th>\n",
              "      <th>publication_title</th>\n",
              "      <th>date_added_to_xplore</th>\n",
              "      <th>publication_year</th>\n",
              "      <th>volume</th>\n",
              "      <th>issue</th>\n",
              "      <th>start_page</th>\n",
              "      <th>end_page</th>\n",
              "      <th>abstract</th>\n",
              "      <th>issn</th>\n",
              "      <th>isbns</th>\n",
              "      <th>doi</th>\n",
              "      <th>funding_information</th>\n",
              "      <th>pdf_link</th>\n",
              "      <th>author_keywords</th>\n",
              "      <th>ieee_terms</th>\n",
              "      <th>inspec_controlled_terms</th>\n",
              "      <th>inspec_non-controlled_terms</th>\n",
              "      <th>mesh_terms</th>\n",
              "      <th>article_citation_count</th>\n",
              "      <th>patent_citation_count</th>\n",
              "      <th>reference_count</th>\n",
              "      <th>license</th>\n",
              "      <th>online_date</th>\n",
              "      <th>issue_date</th>\n",
              "      <th>meeting_date</th>\n",
              "      <th>publisher</th>\n",
              "      <th>document_identifier</th>\n",
              "    </tr>\n",
              "  </thead>\n",
              "  <tbody>\n",
              "    <tr>\n",
              "      <th>0</th>\n",
              "      <td>Optimal planning framework of three phase unba...</td>\n",
              "      <td>R. Bonela; S. R. Ghatak; N. Hayat; S. C. Swain...</td>\n",
              "      <td>KIIT University,Electrical Engineering Departm...</td>\n",
              "      <td>2020 IEEE 7th Uttar Pradesh Section Internatio...</td>\n",
              "      <td>16 Mar 2021</td>\n",
              "      <td>2020</td>\n",
              "      <td>NaN</td>\n",
              "      <td>NaN</td>\n",
              "      <td>1</td>\n",
              "      <td>6</td>\n",
              "      <td>In recent times nations across the world are f...</td>\n",
              "      <td>2687-7767</td>\n",
              "      <td>978-1-6654-0373-3</td>\n",
              "      <td>10.1109/UPCON50219.2020.9376508</td>\n",
              "      <td>NaN</td>\n",
              "      <td>https://ieeexplore.ieee.org/stamp/stamp.jsp?ar...</td>\n",
              "      <td>Electrical distribution system;Distributed Gen...</td>\n",
              "      <td>COVID-19;Reactive power;Pandemics;System perfo...</td>\n",
              "      <td>NaN</td>\n",
              "      <td>NaN</td>\n",
              "      <td>NaN</td>\n",
              "      <td>NaN</td>\n",
              "      <td>NaN</td>\n",
              "      <td>12.0</td>\n",
              "      <td>NaN</td>\n",
              "      <td>16 Mar 2021</td>\n",
              "      <td>NaN</td>\n",
              "      <td>NaN</td>\n",
              "      <td>IEEE</td>\n",
              "      <td>IEEE Conferences</td>\n",
              "    </tr>\n",
              "    <tr>\n",
              "      <th>1</th>\n",
              "      <td>Digital Tools for virtual courses for universi...</td>\n",
              "      <td>A. S. de la Serna-Tuya; D. Salgado-Gutiérrez; ...</td>\n",
              "      <td>Universidad Panamericana,School of Pedagogy,Gu...</td>\n",
              "      <td>2020 X International Conference on Virtual Cam...</td>\n",
              "      <td>16 Mar 2021</td>\n",
              "      <td>2020</td>\n",
              "      <td>NaN</td>\n",
              "      <td>NaN</td>\n",
              "      <td>1</td>\n",
              "      <td>3</td>\n",
              "      <td>Due to the 2020 scenario, the pandemic caused ...</td>\n",
              "      <td>NaN</td>\n",
              "      <td>978-1-6654-1519-4</td>\n",
              "      <td>10.1109/JICV51605.2020.9375698</td>\n",
              "      <td>NaN</td>\n",
              "      <td>https://ieeexplore.ieee.org/stamp/stamp.jsp?ar...</td>\n",
              "      <td>Digital Tools;COVID-19;educational technologies</td>\n",
              "      <td>COVID-19;Pandemics;Education;Tools;Software;Vi...</td>\n",
              "      <td>NaN</td>\n",
              "      <td>NaN</td>\n",
              "      <td>NaN</td>\n",
              "      <td>NaN</td>\n",
              "      <td>NaN</td>\n",
              "      <td>16.0</td>\n",
              "      <td>NaN</td>\n",
              "      <td>16 Mar 2021</td>\n",
              "      <td>NaN</td>\n",
              "      <td>NaN</td>\n",
              "      <td>IEEE</td>\n",
              "      <td>IEEE Conferences</td>\n",
              "    </tr>\n",
              "    <tr>\n",
              "      <th>2</th>\n",
              "      <td>Instructional Design for virtual courses for u...</td>\n",
              "      <td>D. Salgado-Gutiérrez; A. S. de la Serna-Tuya; ...</td>\n",
              "      <td>School of Pedagogy Universidad Panamericana,Gu...</td>\n",
              "      <td>2020 X International Conference on Virtual Cam...</td>\n",
              "      <td>16 Mar 2021</td>\n",
              "      <td>2020</td>\n",
              "      <td>NaN</td>\n",
              "      <td>NaN</td>\n",
              "      <td>1</td>\n",
              "      <td>4</td>\n",
              "      <td>Due to the 2020 scenario, the pandemic caused ...</td>\n",
              "      <td>NaN</td>\n",
              "      <td>978-1-6654-1519-4</td>\n",
              "      <td>10.1109/JICV51605.2020.9375676</td>\n",
              "      <td>NaN</td>\n",
              "      <td>https://ieeexplore.ieee.org/stamp/stamp.jsp?ar...</td>\n",
              "      <td>Instructional design;COVID-19;educational tech...</td>\n",
              "      <td>COVID-19;Pandemics;Education;Tools;Software;Vi...</td>\n",
              "      <td>NaN</td>\n",
              "      <td>NaN</td>\n",
              "      <td>NaN</td>\n",
              "      <td>NaN</td>\n",
              "      <td>NaN</td>\n",
              "      <td>14.0</td>\n",
              "      <td>NaN</td>\n",
              "      <td>16 Mar 2021</td>\n",
              "      <td>NaN</td>\n",
              "      <td>NaN</td>\n",
              "      <td>IEEE</td>\n",
              "      <td>IEEE Conferences</td>\n",
              "    </tr>\n",
              "  </tbody>\n",
              "</table>\n",
              "</div>"
            ],
            "text/plain": [
              "                                      document_title  \\\n",
              "0  Optimal planning framework of three phase unba...   \n",
              "1  Digital Tools for virtual courses for universi...   \n",
              "2  Instructional Design for virtual courses for u...   \n",
              "\n",
              "                                             authors  \\\n",
              "0  R. Bonela; S. R. Ghatak; N. Hayat; S. C. Swain...   \n",
              "1  A. S. de la Serna-Tuya; D. Salgado-Gutiérrez; ...   \n",
              "2  D. Salgado-Gutiérrez; A. S. de la Serna-Tuya; ...   \n",
              "\n",
              "                                 author_affiliations  \\\n",
              "0  KIIT University,Electrical Engineering Departm...   \n",
              "1  Universidad Panamericana,School of Pedagogy,Gu...   \n",
              "2  School of Pedagogy Universidad Panamericana,Gu...   \n",
              "\n",
              "                                   publication_title date_added_to_xplore  \\\n",
              "0  2020 IEEE 7th Uttar Pradesh Section Internatio...          16 Mar 2021   \n",
              "1  2020 X International Conference on Virtual Cam...          16 Mar 2021   \n",
              "2  2020 X International Conference on Virtual Cam...          16 Mar 2021   \n",
              "\n",
              "   publication_year  volume issue start_page end_page  \\\n",
              "0              2020     NaN   NaN          1        6   \n",
              "1              2020     NaN   NaN          1        3   \n",
              "2              2020     NaN   NaN          1        4   \n",
              "\n",
              "                                            abstract       issn  \\\n",
              "0  In recent times nations across the world are f...  2687-7767   \n",
              "1  Due to the 2020 scenario, the pandemic caused ...        NaN   \n",
              "2  Due to the 2020 scenario, the pandemic caused ...        NaN   \n",
              "\n",
              "               isbns                              doi funding_information  \\\n",
              "0  978-1-6654-0373-3  10.1109/UPCON50219.2020.9376508                 NaN   \n",
              "1  978-1-6654-1519-4   10.1109/JICV51605.2020.9375698                 NaN   \n",
              "2  978-1-6654-1519-4   10.1109/JICV51605.2020.9375676                 NaN   \n",
              "\n",
              "                                            pdf_link  \\\n",
              "0  https://ieeexplore.ieee.org/stamp/stamp.jsp?ar...   \n",
              "1  https://ieeexplore.ieee.org/stamp/stamp.jsp?ar...   \n",
              "2  https://ieeexplore.ieee.org/stamp/stamp.jsp?ar...   \n",
              "\n",
              "                                     author_keywords  \\\n",
              "0  Electrical distribution system;Distributed Gen...   \n",
              "1    Digital Tools;COVID-19;educational technologies   \n",
              "2  Instructional design;COVID-19;educational tech...   \n",
              "\n",
              "                                          ieee_terms inspec_controlled_terms  \\\n",
              "0  COVID-19;Reactive power;Pandemics;System perfo...                     NaN   \n",
              "1  COVID-19;Pandemics;Education;Tools;Software;Vi...                     NaN   \n",
              "2  COVID-19;Pandemics;Education;Tools;Software;Vi...                     NaN   \n",
              "\n",
              "  inspec_non-controlled_terms mesh_terms  article_citation_count  \\\n",
              "0                         NaN        NaN                     NaN   \n",
              "1                         NaN        NaN                     NaN   \n",
              "2                         NaN        NaN                     NaN   \n",
              "\n",
              "   patent_citation_count  reference_count license  online_date  issue_date  \\\n",
              "0                    NaN             12.0     NaN  16 Mar 2021         NaN   \n",
              "1                    NaN             16.0     NaN  16 Mar 2021         NaN   \n",
              "2                    NaN             14.0     NaN  16 Mar 2021         NaN   \n",
              "\n",
              "   meeting_date publisher document_identifier  \n",
              "0           NaN      IEEE    IEEE Conferences  \n",
              "1           NaN      IEEE    IEEE Conferences  \n",
              "2           NaN      IEEE    IEEE Conferences  "
            ]
          },
          "metadata": {
            "tags": []
          },
          "execution_count": 2
        }
      ]
    },
    {
      "cell_type": "code",
      "metadata": {
        "id": "kF3leVmzi4hc"
      },
      "source": [
        "df_i3e['base'] = 'ieee explore'"
      ],
      "execution_count": null,
      "outputs": []
    },
    {
      "cell_type": "code",
      "metadata": {
        "id": "kJsepD62i4hd",
        "outputId": "6d3a024f-f23e-45b2-a10f-270b449fd143"
      },
      "source": [
        "df_i3e.columns"
      ],
      "execution_count": null,
      "outputs": [
        {
          "output_type": "execute_result",
          "data": {
            "text/plain": [
              "Index(['document_title', 'authors', 'author_affiliations', 'publication_title',\n",
              "       'date_added_to_xplore', 'publication_year', 'volume', 'issue',\n",
              "       'start_page', 'end_page', 'abstract', 'issn', 'isbns', 'doi',\n",
              "       'funding_information', 'pdf_link', 'author_keywords', 'ieee_terms',\n",
              "       'inspec_controlled_terms', 'inspec_non-controlled_terms', 'mesh_terms',\n",
              "       'article_citation_count', 'patent_citation_count', 'reference_count',\n",
              "       'license', 'online_date', 'issue_date', 'meeting_date', 'publisher',\n",
              "       'document_identifier', 'base'],\n",
              "      dtype='object')"
            ]
          },
          "metadata": {
            "tags": []
          },
          "execution_count": 4
        }
      ]
    },
    {
      "cell_type": "code",
      "metadata": {
        "id": "lFElHQ51i4he"
      },
      "source": [
        "df_i3e.columns=['document_title', 'authors', 'author_affiliations', 'publication_title',\n",
        "       'date_added_to_xplore', 'publication_year', 'volume', 'issue',\n",
        "       'start_page', 'end_page', 'abstract', 'issn', 'isbns', 'doi',\n",
        "       'funding_information', 'pdf_link', 'author_keywords', 'index_keywords',\n",
        "       'inspec_controlled_terms', 'inspec_non-controlled_terms', 'mesh_terms',\n",
        "       'article_citation_count', 'patent_citation_count', 'reference_count',\n",
        "       'license', 'online_date', 'issue_date', 'meeting_date', 'publisher',\n",
        "       'document_identifier','base']"
      ],
      "execution_count": null,
      "outputs": []
    },
    {
      "cell_type": "code",
      "metadata": {
        "id": "QhWeNFSyi4hf",
        "outputId": "550217f0-fa0c-4b5b-8d64-761459d72673"
      },
      "source": [
        "df_springer_paper = pd.read_csv(path + \"20210328_export_SPRINGER_ARTICLE.csv\")\n",
        "\n",
        "# Map the lowering function to all column names\n",
        "df_springer_paper.columns = map(str.lower, df_springer_paper.columns)\n",
        "\n",
        "# remove spaces in columns name\n",
        "df_springer_paper.columns = df_springer_paper.columns.str.replace(' ','_')\n",
        "\n",
        "df_springer_paper.head()"
      ],
      "execution_count": null,
      "outputs": [
        {
          "output_type": "execute_result",
          "data": {
            "text/html": [
              "<div>\n",
              "<style scoped>\n",
              "    .dataframe tbody tr th:only-of-type {\n",
              "        vertical-align: middle;\n",
              "    }\n",
              "\n",
              "    .dataframe tbody tr th {\n",
              "        vertical-align: top;\n",
              "    }\n",
              "\n",
              "    .dataframe thead th {\n",
              "        text-align: right;\n",
              "    }\n",
              "</style>\n",
              "<table border=\"1\" class=\"dataframe\">\n",
              "  <thead>\n",
              "    <tr style=\"text-align: right;\">\n",
              "      <th></th>\n",
              "      <th>item_title</th>\n",
              "      <th>publication_title</th>\n",
              "      <th>book_series_title</th>\n",
              "      <th>journal_volume</th>\n",
              "      <th>journal_issue</th>\n",
              "      <th>item_doi</th>\n",
              "      <th>authors</th>\n",
              "      <th>publication_year</th>\n",
              "      <th>url</th>\n",
              "      <th>content_type</th>\n",
              "    </tr>\n",
              "  </thead>\n",
              "  <tbody>\n",
              "    <tr>\n",
              "      <th>0</th>\n",
              "      <td>ESICM LIVES 2020</td>\n",
              "      <td>Intensive Care Medicine Experimental</td>\n",
              "      <td>NaN</td>\n",
              "      <td>8.0</td>\n",
              "      <td>2</td>\n",
              "      <td>10.1186/s40635-020-00354-8</td>\n",
              "      <td>NaN</td>\n",
              "      <td>2020</td>\n",
              "      <td>http://link.springer.com/article/10.1186/s4063...</td>\n",
              "      <td>Article</td>\n",
              "    </tr>\n",
              "    <tr>\n",
              "      <th>1</th>\n",
              "      <td>Abstracts of the 16th International E-Congress...</td>\n",
              "      <td>European Geriatric Medicine</td>\n",
              "      <td>NaN</td>\n",
              "      <td>11.0</td>\n",
              "      <td>1</td>\n",
              "      <td>10.1007/s41999-020-00428-6</td>\n",
              "      <td>NaN</td>\n",
              "      <td>2020</td>\n",
              "      <td>http://link.springer.com/article/10.1007/s4199...</td>\n",
              "      <td>Article</td>\n",
              "    </tr>\n",
              "    <tr>\n",
              "      <th>2</th>\n",
              "      <td>Pandemic programming</td>\n",
              "      <td>Empirical Software Engineering</td>\n",
              "      <td>NaN</td>\n",
              "      <td>25.0</td>\n",
              "      <td>6</td>\n",
              "      <td>10.1007/s10664-020-09875-y</td>\n",
              "      <td>Paul RalphSebastian BaltesGianisa AdisaputriRi...</td>\n",
              "      <td>2020</td>\n",
              "      <td>http://link.springer.com/article/10.1007/s1066...</td>\n",
              "      <td>Article</td>\n",
              "    </tr>\n",
              "    <tr>\n",
              "      <th>3</th>\n",
              "      <td>27th Annual Conference of the International So...</td>\n",
              "      <td>Quality of Life Research</td>\n",
              "      <td>NaN</td>\n",
              "      <td>29.0</td>\n",
              "      <td>1</td>\n",
              "      <td>10.1007/s11136-020-02626-y</td>\n",
              "      <td>NaN</td>\n",
              "      <td>2020</td>\n",
              "      <td>http://link.springer.com/article/10.1007/s1113...</td>\n",
              "      <td>Article</td>\n",
              "    </tr>\n",
              "    <tr>\n",
              "      <th>4</th>\n",
              "      <td>European Association of Nuclear Medicine Octob...</td>\n",
              "      <td>European Journal of Nuclear Medicine and Molec...</td>\n",
              "      <td>NaN</td>\n",
              "      <td>47.0</td>\n",
              "      <td>1</td>\n",
              "      <td>10.1007/s00259-020-04988-4</td>\n",
              "      <td>NaN</td>\n",
              "      <td>2020</td>\n",
              "      <td>http://link.springer.com/article/10.1007/s0025...</td>\n",
              "      <td>Article</td>\n",
              "    </tr>\n",
              "  </tbody>\n",
              "</table>\n",
              "</div>"
            ],
            "text/plain": [
              "                                          item_title  \\\n",
              "0                                   ESICM LIVES 2020   \n",
              "1  Abstracts of the 16th International E-Congress...   \n",
              "2                               Pandemic programming   \n",
              "3  27th Annual Conference of the International So...   \n",
              "4  European Association of Nuclear Medicine Octob...   \n",
              "\n",
              "                                   publication_title  book_series_title  \\\n",
              "0               Intensive Care Medicine Experimental                NaN   \n",
              "1                        European Geriatric Medicine                NaN   \n",
              "2                     Empirical Software Engineering                NaN   \n",
              "3                           Quality of Life Research                NaN   \n",
              "4  European Journal of Nuclear Medicine and Molec...                NaN   \n",
              "\n",
              "   journal_volume journal_issue                    item_doi  \\\n",
              "0             8.0             2  10.1186/s40635-020-00354-8   \n",
              "1            11.0             1  10.1007/s41999-020-00428-6   \n",
              "2            25.0             6  10.1007/s10664-020-09875-y   \n",
              "3            29.0             1  10.1007/s11136-020-02626-y   \n",
              "4            47.0             1  10.1007/s00259-020-04988-4   \n",
              "\n",
              "                                             authors  publication_year  \\\n",
              "0                                                NaN              2020   \n",
              "1                                                NaN              2020   \n",
              "2  Paul RalphSebastian BaltesGianisa AdisaputriRi...              2020   \n",
              "3                                                NaN              2020   \n",
              "4                                                NaN              2020   \n",
              "\n",
              "                                                 url content_type  \n",
              "0  http://link.springer.com/article/10.1186/s4063...      Article  \n",
              "1  http://link.springer.com/article/10.1007/s4199...      Article  \n",
              "2  http://link.springer.com/article/10.1007/s1066...      Article  \n",
              "3  http://link.springer.com/article/10.1007/s1113...      Article  \n",
              "4  http://link.springer.com/article/10.1007/s0025...      Article  "
            ]
          },
          "metadata": {
            "tags": []
          },
          "execution_count": 6
        }
      ]
    },
    {
      "cell_type": "code",
      "metadata": {
        "id": "e6poahMNi4hg",
        "outputId": "86c3aeac-8999-4aac-a406-a71b2ac75d65"
      },
      "source": [
        "df_springer_conference = pd.read_csv(path + \"20210328_export_SPRINGER_CONFERENCE.csv\")\n",
        "\n",
        "# Map the lowering function to all column names\n",
        "df_springer_conference.columns = map(str.lower, df_springer_conference.columns)\n",
        "\n",
        "# remove spaces in columns name\n",
        "df_springer_conference.columns = df_springer_conference.columns.str.replace(' ','_')\n",
        "\n",
        "df_springer_conference.head()"
      ],
      "execution_count": null,
      "outputs": [
        {
          "output_type": "execute_result",
          "data": {
            "text/html": [
              "<div>\n",
              "<style scoped>\n",
              "    .dataframe tbody tr th:only-of-type {\n",
              "        vertical-align: middle;\n",
              "    }\n",
              "\n",
              "    .dataframe tbody tr th {\n",
              "        vertical-align: top;\n",
              "    }\n",
              "\n",
              "    .dataframe thead th {\n",
              "        text-align: right;\n",
              "    }\n",
              "</style>\n",
              "<table border=\"1\" class=\"dataframe\">\n",
              "  <thead>\n",
              "    <tr style=\"text-align: right;\">\n",
              "      <th></th>\n",
              "      <th>item_title</th>\n",
              "      <th>publication_title</th>\n",
              "      <th>book_series_title</th>\n",
              "      <th>journal_volume</th>\n",
              "      <th>journal_issue</th>\n",
              "      <th>item_doi</th>\n",
              "      <th>authors</th>\n",
              "      <th>publication_year</th>\n",
              "      <th>url</th>\n",
              "      <th>content_type</th>\n",
              "    </tr>\n",
              "  </thead>\n",
              "  <tbody>\n",
              "    <tr>\n",
              "      <th>0</th>\n",
              "      <td>Information Diffusion for Real Time Resource P...</td>\n",
              "      <td>Re-imagining Diffusion and Adoption of Informa...</td>\n",
              "      <td>NaN</td>\n",
              "      <td>NaN</td>\n",
              "      <td>NaN</td>\n",
              "      <td>10.1007/978-3-030-64861-9_4</td>\n",
              "      <td>Swarnalakshmi RaviT. J. KamalanabhanThanga Jaw...</td>\n",
              "      <td>2020</td>\n",
              "      <td>http://link.springer.com/chapter/10.1007/978-3...</td>\n",
              "      <td>Chapter</td>\n",
              "    </tr>\n",
              "    <tr>\n",
              "      <th>1</th>\n",
              "      <td>Dam Break and Human Disaster: Córrego do Feijã...</td>\n",
              "      <td>Computational Science and Its Applications – I...</td>\n",
              "      <td>NaN</td>\n",
              "      <td>NaN</td>\n",
              "      <td>NaN</td>\n",
              "      <td>10.1007/978-3-030-58820-5_61</td>\n",
              "      <td>Pedro Benedito CasagrandeMaria Giovana ParisiA...</td>\n",
              "      <td>2020</td>\n",
              "      <td>http://link.springer.com/chapter/10.1007/978-3...</td>\n",
              "      <td>Chapter</td>\n",
              "    </tr>\n",
              "    <tr>\n",
              "      <th>2</th>\n",
              "      <td>COVID-19’s Influence on the Future of Agile</td>\n",
              "      <td>Agile Processes in Software Engineering and Ex...</td>\n",
              "      <td>NaN</td>\n",
              "      <td>NaN</td>\n",
              "      <td>NaN</td>\n",
              "      <td>10.1007/978-3-030-58858-8_32</td>\n",
              "      <td>Dennis ManclSteven D. Fraser</td>\n",
              "      <td>2020</td>\n",
              "      <td>http://link.springer.com/chapter/10.1007/978-3...</td>\n",
              "      <td>Chapter</td>\n",
              "    </tr>\n",
              "    <tr>\n",
              "      <th>3</th>\n",
              "      <td>Shrinking Phenomena in Italian Inner Mountaino...</td>\n",
              "      <td>Computational Science and Its Applications – I...</td>\n",
              "      <td>NaN</td>\n",
              "      <td>NaN</td>\n",
              "      <td>NaN</td>\n",
              "      <td>10.1007/978-3-030-58814-4_14</td>\n",
              "      <td>Francesco RotondoGiovanni MarinelliLuca Domenella</td>\n",
              "      <td>2020</td>\n",
              "      <td>http://link.springer.com/chapter/10.1007/978-3...</td>\n",
              "      <td>Chapter</td>\n",
              "    </tr>\n",
              "    <tr>\n",
              "      <th>4</th>\n",
              "      <td>Multi-objective Disaster Backup in Inter-datac...</td>\n",
              "      <td>Wireless Algorithms, Systems, and Applications</td>\n",
              "      <td>NaN</td>\n",
              "      <td>NaN</td>\n",
              "      <td>NaN</td>\n",
              "      <td>10.1007/978-3-030-59016-1_49</td>\n",
              "      <td>Jiaxin YanHua WangXiaole LiShanwen YiYao Qin</td>\n",
              "      <td>2020</td>\n",
              "      <td>http://link.springer.com/chapter/10.1007/978-3...</td>\n",
              "      <td>Chapter</td>\n",
              "    </tr>\n",
              "  </tbody>\n",
              "</table>\n",
              "</div>"
            ],
            "text/plain": [
              "                                          item_title  \\\n",
              "0  Information Diffusion for Real Time Resource P...   \n",
              "1  Dam Break and Human Disaster: Córrego do Feijã...   \n",
              "2        COVID-19’s Influence on the Future of Agile   \n",
              "3  Shrinking Phenomena in Italian Inner Mountaino...   \n",
              "4  Multi-objective Disaster Backup in Inter-datac...   \n",
              "\n",
              "                                   publication_title  book_series_title  \\\n",
              "0  Re-imagining Diffusion and Adoption of Informa...                NaN   \n",
              "1  Computational Science and Its Applications – I...                NaN   \n",
              "2  Agile Processes in Software Engineering and Ex...                NaN   \n",
              "3  Computational Science and Its Applications – I...                NaN   \n",
              "4     Wireless Algorithms, Systems, and Applications                NaN   \n",
              "\n",
              "   journal_volume  journal_issue                      item_doi  \\\n",
              "0             NaN            NaN   10.1007/978-3-030-64861-9_4   \n",
              "1             NaN            NaN  10.1007/978-3-030-58820-5_61   \n",
              "2             NaN            NaN  10.1007/978-3-030-58858-8_32   \n",
              "3             NaN            NaN  10.1007/978-3-030-58814-4_14   \n",
              "4             NaN            NaN  10.1007/978-3-030-59016-1_49   \n",
              "\n",
              "                                             authors  publication_year  \\\n",
              "0  Swarnalakshmi RaviT. J. KamalanabhanThanga Jaw...              2020   \n",
              "1  Pedro Benedito CasagrandeMaria Giovana ParisiA...              2020   \n",
              "2                       Dennis ManclSteven D. Fraser              2020   \n",
              "3  Francesco RotondoGiovanni MarinelliLuca Domenella              2020   \n",
              "4       Jiaxin YanHua WangXiaole LiShanwen YiYao Qin              2020   \n",
              "\n",
              "                                                 url content_type  \n",
              "0  http://link.springer.com/chapter/10.1007/978-3...      Chapter  \n",
              "1  http://link.springer.com/chapter/10.1007/978-3...      Chapter  \n",
              "2  http://link.springer.com/chapter/10.1007/978-3...      Chapter  \n",
              "3  http://link.springer.com/chapter/10.1007/978-3...      Chapter  \n",
              "4  http://link.springer.com/chapter/10.1007/978-3...      Chapter  "
            ]
          },
          "metadata": {
            "tags": []
          },
          "execution_count": 7
        }
      ]
    },
    {
      "cell_type": "code",
      "metadata": {
        "id": "kNpXMcbti4hh"
      },
      "source": [
        "springer_all = pd.concat([df_springer_paper, df_springer_conference])"
      ],
      "execution_count": null,
      "outputs": []
    },
    {
      "cell_type": "code",
      "metadata": {
        "id": "e-oVdSIti4hh"
      },
      "source": [
        "springer_all['base'] = 'springer'"
      ],
      "execution_count": null,
      "outputs": []
    },
    {
      "cell_type": "code",
      "metadata": {
        "scrolled": false,
        "id": "Da39CFZfi4hi",
        "outputId": "db6dc2a2-bb79-4992-d6c4-b21483546fd8"
      },
      "source": [
        "springer_all.head()"
      ],
      "execution_count": null,
      "outputs": [
        {
          "output_type": "execute_result",
          "data": {
            "text/html": [
              "<div>\n",
              "<style scoped>\n",
              "    .dataframe tbody tr th:only-of-type {\n",
              "        vertical-align: middle;\n",
              "    }\n",
              "\n",
              "    .dataframe tbody tr th {\n",
              "        vertical-align: top;\n",
              "    }\n",
              "\n",
              "    .dataframe thead th {\n",
              "        text-align: right;\n",
              "    }\n",
              "</style>\n",
              "<table border=\"1\" class=\"dataframe\">\n",
              "  <thead>\n",
              "    <tr style=\"text-align: right;\">\n",
              "      <th></th>\n",
              "      <th>item_title</th>\n",
              "      <th>publication_title</th>\n",
              "      <th>book_series_title</th>\n",
              "      <th>journal_volume</th>\n",
              "      <th>journal_issue</th>\n",
              "      <th>item_doi</th>\n",
              "      <th>authors</th>\n",
              "      <th>publication_year</th>\n",
              "      <th>url</th>\n",
              "      <th>content_type</th>\n",
              "      <th>base</th>\n",
              "    </tr>\n",
              "  </thead>\n",
              "  <tbody>\n",
              "    <tr>\n",
              "      <th>0</th>\n",
              "      <td>ESICM LIVES 2020</td>\n",
              "      <td>Intensive Care Medicine Experimental</td>\n",
              "      <td>NaN</td>\n",
              "      <td>8.0</td>\n",
              "      <td>2</td>\n",
              "      <td>10.1186/s40635-020-00354-8</td>\n",
              "      <td>NaN</td>\n",
              "      <td>2020</td>\n",
              "      <td>http://link.springer.com/article/10.1186/s4063...</td>\n",
              "      <td>Article</td>\n",
              "      <td>springer</td>\n",
              "    </tr>\n",
              "    <tr>\n",
              "      <th>1</th>\n",
              "      <td>Abstracts of the 16th International E-Congress...</td>\n",
              "      <td>European Geriatric Medicine</td>\n",
              "      <td>NaN</td>\n",
              "      <td>11.0</td>\n",
              "      <td>1</td>\n",
              "      <td>10.1007/s41999-020-00428-6</td>\n",
              "      <td>NaN</td>\n",
              "      <td>2020</td>\n",
              "      <td>http://link.springer.com/article/10.1007/s4199...</td>\n",
              "      <td>Article</td>\n",
              "      <td>springer</td>\n",
              "    </tr>\n",
              "    <tr>\n",
              "      <th>2</th>\n",
              "      <td>Pandemic programming</td>\n",
              "      <td>Empirical Software Engineering</td>\n",
              "      <td>NaN</td>\n",
              "      <td>25.0</td>\n",
              "      <td>6</td>\n",
              "      <td>10.1007/s10664-020-09875-y</td>\n",
              "      <td>Paul RalphSebastian BaltesGianisa AdisaputriRi...</td>\n",
              "      <td>2020</td>\n",
              "      <td>http://link.springer.com/article/10.1007/s1066...</td>\n",
              "      <td>Article</td>\n",
              "      <td>springer</td>\n",
              "    </tr>\n",
              "    <tr>\n",
              "      <th>3</th>\n",
              "      <td>27th Annual Conference of the International So...</td>\n",
              "      <td>Quality of Life Research</td>\n",
              "      <td>NaN</td>\n",
              "      <td>29.0</td>\n",
              "      <td>1</td>\n",
              "      <td>10.1007/s11136-020-02626-y</td>\n",
              "      <td>NaN</td>\n",
              "      <td>2020</td>\n",
              "      <td>http://link.springer.com/article/10.1007/s1113...</td>\n",
              "      <td>Article</td>\n",
              "      <td>springer</td>\n",
              "    </tr>\n",
              "    <tr>\n",
              "      <th>4</th>\n",
              "      <td>European Association of Nuclear Medicine Octob...</td>\n",
              "      <td>European Journal of Nuclear Medicine and Molec...</td>\n",
              "      <td>NaN</td>\n",
              "      <td>47.0</td>\n",
              "      <td>1</td>\n",
              "      <td>10.1007/s00259-020-04988-4</td>\n",
              "      <td>NaN</td>\n",
              "      <td>2020</td>\n",
              "      <td>http://link.springer.com/article/10.1007/s0025...</td>\n",
              "      <td>Article</td>\n",
              "      <td>springer</td>\n",
              "    </tr>\n",
              "  </tbody>\n",
              "</table>\n",
              "</div>"
            ],
            "text/plain": [
              "                                          item_title  \\\n",
              "0                                   ESICM LIVES 2020   \n",
              "1  Abstracts of the 16th International E-Congress...   \n",
              "2                               Pandemic programming   \n",
              "3  27th Annual Conference of the International So...   \n",
              "4  European Association of Nuclear Medicine Octob...   \n",
              "\n",
              "                                   publication_title  book_series_title  \\\n",
              "0               Intensive Care Medicine Experimental                NaN   \n",
              "1                        European Geriatric Medicine                NaN   \n",
              "2                     Empirical Software Engineering                NaN   \n",
              "3                           Quality of Life Research                NaN   \n",
              "4  European Journal of Nuclear Medicine and Molec...                NaN   \n",
              "\n",
              "   journal_volume journal_issue                    item_doi  \\\n",
              "0             8.0             2  10.1186/s40635-020-00354-8   \n",
              "1            11.0             1  10.1007/s41999-020-00428-6   \n",
              "2            25.0             6  10.1007/s10664-020-09875-y   \n",
              "3            29.0             1  10.1007/s11136-020-02626-y   \n",
              "4            47.0             1  10.1007/s00259-020-04988-4   \n",
              "\n",
              "                                             authors  publication_year  \\\n",
              "0                                                NaN              2020   \n",
              "1                                                NaN              2020   \n",
              "2  Paul RalphSebastian BaltesGianisa AdisaputriRi...              2020   \n",
              "3                                                NaN              2020   \n",
              "4                                                NaN              2020   \n",
              "\n",
              "                                                 url content_type      base  \n",
              "0  http://link.springer.com/article/10.1186/s4063...      Article  springer  \n",
              "1  http://link.springer.com/article/10.1007/s4199...      Article  springer  \n",
              "2  http://link.springer.com/article/10.1007/s1066...      Article  springer  \n",
              "3  http://link.springer.com/article/10.1007/s1113...      Article  springer  \n",
              "4  http://link.springer.com/article/10.1007/s0025...      Article  springer  "
            ]
          },
          "metadata": {
            "tags": []
          },
          "execution_count": 10
        }
      ]
    },
    {
      "cell_type": "code",
      "metadata": {
        "id": "m7SB8Nb6i4hi"
      },
      "source": [
        "#springer_all_v2 = springer_all.drop_duplicates(subset=['item_title', 'publication_title', 'authors'])\n",
        "#print(springer_all_v2.shape);springer_all_v2.head()"
      ],
      "execution_count": null,
      "outputs": []
    },
    {
      "cell_type": "code",
      "metadata": {
        "id": "IBjnAJK3i4hj"
      },
      "source": [
        "springer_all.columns=['document_title', 'publication_title', 'book _series_title',\n",
        "       'journal_volume', 'journal_issue', 'doi', 'authors',\n",
        "       'publication_year', 'pdf_link', 'document_identifier','base']"
      ],
      "execution_count": null,
      "outputs": []
    },
    {
      "cell_type": "code",
      "metadata": {
        "id": "KLehZt5Li4hj",
        "outputId": "8d9e86f2-1c71-45e2-cd1a-fd72927a67d5"
      },
      "source": [
        "df_scopus = pd.read_csv(path + \"20210328_export_SCOPUS.csv\")\n",
        "\n",
        "# Map the lowering function to all column names\n",
        "df_scopus.columns = map(str.lower, df_scopus.columns)\n",
        "\n",
        "# remove spaces in columns name\n",
        "df_scopus.columns = df_scopus.columns.str.replace(' ','_')\n",
        "df_scopus.head(1)"
      ],
      "execution_count": null,
      "outputs": [
        {
          "output_type": "execute_result",
          "data": {
            "text/html": [
              "<div>\n",
              "<style scoped>\n",
              "    .dataframe tbody tr th:only-of-type {\n",
              "        vertical-align: middle;\n",
              "    }\n",
              "\n",
              "    .dataframe tbody tr th {\n",
              "        vertical-align: top;\n",
              "    }\n",
              "\n",
              "    .dataframe thead th {\n",
              "        text-align: right;\n",
              "    }\n",
              "</style>\n",
              "<table border=\"1\" class=\"dataframe\">\n",
              "  <thead>\n",
              "    <tr style=\"text-align: right;\">\n",
              "      <th></th>\n",
              "      <th>authors</th>\n",
              "      <th>author(s)_id</th>\n",
              "      <th>title</th>\n",
              "      <th>year</th>\n",
              "      <th>source_title</th>\n",
              "      <th>volume</th>\n",
              "      <th>issue</th>\n",
              "      <th>art._no.</th>\n",
              "      <th>page_start</th>\n",
              "      <th>page_end</th>\n",
              "      <th>page_count</th>\n",
              "      <th>cited_by</th>\n",
              "      <th>doi</th>\n",
              "      <th>link</th>\n",
              "      <th>affiliations</th>\n",
              "      <th>authors_with_affiliations</th>\n",
              "      <th>abstract</th>\n",
              "      <th>author_keywords</th>\n",
              "      <th>index_keywords</th>\n",
              "      <th>document_type</th>\n",
              "      <th>publication_stage</th>\n",
              "      <th>open_access</th>\n",
              "      <th>source</th>\n",
              "      <th>eid</th>\n",
              "    </tr>\n",
              "  </thead>\n",
              "  <tbody>\n",
              "    <tr>\n",
              "      <th>0</th>\n",
              "      <td>Zöller N., Morgan J.H., Schröder T.</td>\n",
              "      <td>57219121975;55451279500;36718694000;</td>\n",
              "      <td>A topology of groups: What GitHub can tell us ...</td>\n",
              "      <td>2020</td>\n",
              "      <td>Technological Forecasting and Social Change</td>\n",
              "      <td>161</td>\n",
              "      <td>NaN</td>\n",
              "      <td>120291</td>\n",
              "      <td>NaN</td>\n",
              "      <td>NaN</td>\n",
              "      <td>NaN</td>\n",
              "      <td>1.0</td>\n",
              "      <td>10.1016/j.techfore.2020.120291</td>\n",
              "      <td>https://www.scopus.com/inward/record.uri?eid=2...</td>\n",
              "      <td>Institute for Urban Futures, Potsdam Universit...</td>\n",
              "      <td>Zöller, N., Institute for Urban Futures, Potsd...</td>\n",
              "      <td>In this work, we study the collaboration patte...</td>\n",
              "      <td>Collaboration; GitHub; Machine learning; Netwo...</td>\n",
              "      <td>Directed graphs; Groupware; Open systems; Soft...</td>\n",
              "      <td>Article</td>\n",
              "      <td>Final</td>\n",
              "      <td>NaN</td>\n",
              "      <td>Scopus</td>\n",
              "      <td>2-s2.0-85091337765</td>\n",
              "    </tr>\n",
              "  </tbody>\n",
              "</table>\n",
              "</div>"
            ],
            "text/plain": [
              "                               authors                          author(s)_id  \\\n",
              "0  Zöller N., Morgan J.H., Schröder T.  57219121975;55451279500;36718694000;   \n",
              "\n",
              "                                               title  year  \\\n",
              "0  A topology of groups: What GitHub can tell us ...  2020   \n",
              "\n",
              "                                  source_title volume  issue art._no.  \\\n",
              "0  Technological Forecasting and Social Change    161    NaN   120291   \n",
              "\n",
              "   page_start  page_end  page_count  cited_by                             doi  \\\n",
              "0         NaN       NaN         NaN       1.0  10.1016/j.techfore.2020.120291   \n",
              "\n",
              "                                                link  \\\n",
              "0  https://www.scopus.com/inward/record.uri?eid=2...   \n",
              "\n",
              "                                        affiliations  \\\n",
              "0  Institute for Urban Futures, Potsdam Universit...   \n",
              "\n",
              "                           authors_with_affiliations  \\\n",
              "0  Zöller, N., Institute for Urban Futures, Potsd...   \n",
              "\n",
              "                                            abstract  \\\n",
              "0  In this work, we study the collaboration patte...   \n",
              "\n",
              "                                     author_keywords  \\\n",
              "0  Collaboration; GitHub; Machine learning; Netwo...   \n",
              "\n",
              "                                      index_keywords document_type  \\\n",
              "0  Directed graphs; Groupware; Open systems; Soft...       Article   \n",
              "\n",
              "  publication_stage  open_access  source                 eid  \n",
              "0             Final          NaN  Scopus  2-s2.0-85091337765  "
            ]
          },
          "metadata": {
            "tags": []
          },
          "execution_count": 13
        }
      ]
    },
    {
      "cell_type": "code",
      "metadata": {
        "id": "HXKu0RR3i4hk"
      },
      "source": [
        "df_scopus['base'] = 'scopus'"
      ],
      "execution_count": null,
      "outputs": []
    },
    {
      "cell_type": "code",
      "metadata": {
        "id": "S8tDMEWui4hl",
        "outputId": "6ec04c24-59ee-4eba-d5f2-ee6c482c0aa8"
      },
      "source": [
        "df_scopus.columns"
      ],
      "execution_count": null,
      "outputs": [
        {
          "output_type": "execute_result",
          "data": {
            "text/plain": [
              "Index(['authors', 'author(s)_id', 'title', 'year', 'source_title', 'volume',\n",
              "       'issue', 'art._no.', 'page_start', 'page_end', 'page_count', 'cited_by',\n",
              "       'doi', 'link', 'affiliations', 'authors_with_affiliations', 'abstract',\n",
              "       'author_keywords', 'index_keywords', 'document_type',\n",
              "       'publication_stage', 'open_access', 'source', 'eid', 'base'],\n",
              "      dtype='object')"
            ]
          },
          "metadata": {
            "tags": []
          },
          "execution_count": 15
        }
      ]
    },
    {
      "cell_type": "code",
      "metadata": {
        "id": "9iT_zhs6i4hl"
      },
      "source": [
        "df_scopus.columns=['authors', 'author(s)_id', 'document_title', 'publication_year', 'source_title', 'journal_volume',\n",
        "       'journal_issue', 'art._no.', 'page_start', 'page_end', 'page_count', 'cited_by',\n",
        "       'doi', 'pdf_link', 'affiliations', 'authors_with_affiliations', 'abstract',\n",
        "       'author_keywords', 'index_keywords', 'document_identifier',\n",
        "       'publication_stage', 'open_access', 'source', 'eid','base']"
      ],
      "execution_count": null,
      "outputs": []
    },
    {
      "cell_type": "markdown",
      "metadata": {
        "id": "Ef8HjiJKi4hm"
      },
      "source": [
        "## Join Bases"
      ]
    },
    {
      "cell_type": "code",
      "metadata": {
        "id": "4PtAdR_Hi4hm"
      },
      "source": [
        "systematic_review = pd.concat([df_i3e, springer_all, df_scopus])"
      ],
      "execution_count": null,
      "outputs": []
    },
    {
      "cell_type": "code",
      "metadata": {
        "id": "nVG7bzAki4hn"
      },
      "source": [
        "systematic_review['status1-selecao'] = ''"
      ],
      "execution_count": null,
      "outputs": []
    },
    {
      "cell_type": "code",
      "metadata": {
        "id": "af8wRloci4hn"
      },
      "source": [
        "systematic_review['status2-duplicated'] = systematic_review.duplicated(subset=['document_title','publication_title','authors'])"
      ],
      "execution_count": null,
      "outputs": []
    },
    {
      "cell_type": "code",
      "metadata": {
        "id": "mvMxsxRii4ho"
      },
      "source": [
        "#systematic_review_v2 = systematic_review.drop_duplicates(subset=['document_title', 'publication_title', 'authors'])\n",
        "#print(systematic_review_v2.shape);systematic_review_v2.head(3)"
      ],
      "execution_count": null,
      "outputs": []
    },
    {
      "cell_type": "code",
      "metadata": {
        "id": "5Xpe5vvki4ho"
      },
      "source": [
        "systematic_review['status3-title-abst_keys'] = ''\n",
        "systematic_review['status4-read'] = ''\n",
        "systematic_review['rq1'] = ''\n",
        "systematic_review['rq2'] = ''\n",
        "systematic_review['rq3'] = ''\n",
        "systematic_review['rq4'] = ''\n",
        "systematic_review['rq5'] = ''\n",
        "systematic_review['rq6'] = ''"
      ],
      "execution_count": null,
      "outputs": []
    },
    {
      "cell_type": "code",
      "metadata": {
        "id": "7IkmHzzni4hp",
        "outputId": "d1dc0313-ffc4-4242-99da-103dd8374144"
      },
      "source": [
        "systematic_review.columns"
      ],
      "execution_count": null,
      "outputs": [
        {
          "output_type": "execute_result",
          "data": {
            "text/plain": [
              "Index(['document_title', 'authors', 'author_affiliations', 'publication_title',\n",
              "       'date_added_to_xplore', 'publication_year', 'volume', 'issue',\n",
              "       'start_page', 'end_page', 'abstract', 'issn', 'isbns', 'doi',\n",
              "       'funding_information', 'pdf_link', 'author_keywords', 'index_keywords',\n",
              "       'inspec_controlled_terms', 'inspec_non-controlled_terms', 'mesh_terms',\n",
              "       'article_citation_count', 'patent_citation_count', 'reference_count',\n",
              "       'license', 'online_date', 'issue_date', 'meeting_date', 'publisher',\n",
              "       'document_identifier', 'base', 'book _series_title', 'journal_volume',\n",
              "       'journal_issue', 'author(s)_id', 'source_title', 'art._no.',\n",
              "       'page_start', 'page_end', 'page_count', 'cited_by', 'affiliations',\n",
              "       'authors_with_affiliations', 'publication_stage', 'open_access',\n",
              "       'source', 'eid', 'status1-selecao', 'status2-duplicated',\n",
              "       'status3-title-abst_keys', 'status4-read', 'rq1', 'rq2', 'rq3', 'rq4',\n",
              "       'rq5', 'rq6'],\n",
              "      dtype='object')"
            ]
          },
          "metadata": {
            "tags": []
          },
          "execution_count": 22
        }
      ]
    },
    {
      "cell_type": "code",
      "metadata": {
        "id": "m_6YIQUzi4hp"
      },
      "source": [
        "systematic_review = systematic_review[['document_title', 'abstract', 'author_keywords', 'index_keywords',\n",
        "                                       'pdf_link', 'base', 'authors', 'publication_title', 'status1-selecao',\n",
        "                                       'status2-duplicated', 'status3-title-abst_keys', 'status4-read',\n",
        "                                       'rq1', 'rq2', 'rq3', 'rq4', 'rq5', 'rq6',\n",
        "                                       'publication_year', 'online_date', 'document_identifier']]"
      ],
      "execution_count": null,
      "outputs": []
    },
    {
      "cell_type": "code",
      "metadata": {
        "id": "lpUaKaV4i4hq",
        "outputId": "ee06535b-72fd-4400-8b71-9a430e382c1d"
      },
      "source": [
        "systematic_review[systematic_review['status2-duplicated']==True]"
      ],
      "execution_count": null,
      "outputs": [
        {
          "output_type": "execute_result",
          "data": {
            "text/html": [
              "<div>\n",
              "<style scoped>\n",
              "    .dataframe tbody tr th:only-of-type {\n",
              "        vertical-align: middle;\n",
              "    }\n",
              "\n",
              "    .dataframe tbody tr th {\n",
              "        vertical-align: top;\n",
              "    }\n",
              "\n",
              "    .dataframe thead th {\n",
              "        text-align: right;\n",
              "    }\n",
              "</style>\n",
              "<table border=\"1\" class=\"dataframe\">\n",
              "  <thead>\n",
              "    <tr style=\"text-align: right;\">\n",
              "      <th></th>\n",
              "      <th>document_title</th>\n",
              "      <th>abstract</th>\n",
              "      <th>author_keywords</th>\n",
              "      <th>index_keywords</th>\n",
              "      <th>pdf_link</th>\n",
              "      <th>base</th>\n",
              "      <th>authors</th>\n",
              "      <th>publication_title</th>\n",
              "      <th>status1-selecao</th>\n",
              "      <th>status2-duplicated</th>\n",
              "      <th>status3-title-abst_keys</th>\n",
              "      <th>status4-read</th>\n",
              "      <th>rq1</th>\n",
              "      <th>rq2</th>\n",
              "      <th>rq3</th>\n",
              "      <th>rq4</th>\n",
              "      <th>rq5</th>\n",
              "      <th>rq6</th>\n",
              "      <th>publication_year</th>\n",
              "      <th>online_date</th>\n",
              "      <th>document_identifier</th>\n",
              "    </tr>\n",
              "  </thead>\n",
              "  <tbody>\n",
              "    <tr>\n",
              "      <th>193</th>\n",
              "      <td>News Item</td>\n",
              "      <td>NaN</td>\n",
              "      <td>NaN</td>\n",
              "      <td>NaN</td>\n",
              "      <td>http://link.springer.com/article/10.1007/s4085...</td>\n",
              "      <td>springer</td>\n",
              "      <td>NaN</td>\n",
              "      <td>Acoustics Australia</td>\n",
              "      <td></td>\n",
              "      <td>True</td>\n",
              "      <td></td>\n",
              "      <td></td>\n",
              "      <td></td>\n",
              "      <td></td>\n",
              "      <td></td>\n",
              "      <td></td>\n",
              "      <td></td>\n",
              "      <td></td>\n",
              "      <td>2020</td>\n",
              "      <td>NaN</td>\n",
              "      <td>Article</td>\n",
              "    </tr>\n",
              "  </tbody>\n",
              "</table>\n",
              "</div>"
            ],
            "text/plain": [
              "    document_title abstract author_keywords index_keywords  \\\n",
              "193      News Item      NaN             NaN            NaN   \n",
              "\n",
              "                                              pdf_link      base authors  \\\n",
              "193  http://link.springer.com/article/10.1007/s4085...  springer     NaN   \n",
              "\n",
              "       publication_title status1-selecao  status2-duplicated  \\\n",
              "193  Acoustics Australia                                True   \n",
              "\n",
              "    status3-title-abst_keys status4-read rq1 rq2 rq3 rq4 rq5 rq6  \\\n",
              "193                                                                \n",
              "\n",
              "     publication_year online_date document_identifier  \n",
              "193              2020         NaN             Article  "
            ]
          },
          "metadata": {
            "tags": []
          },
          "execution_count": 24
        }
      ]
    },
    {
      "cell_type": "code",
      "metadata": {
        "id": "HQO1KrdYi4hr",
        "outputId": "423ce55a-e6de-4d5a-b65b-29efeabf7de2"
      },
      "source": [
        "print(systematic_review.shape);systematic_review.head(3)"
      ],
      "execution_count": null,
      "outputs": [
        {
          "output_type": "stream",
          "text": [
            "(990, 21)\n"
          ],
          "name": "stdout"
        },
        {
          "output_type": "execute_result",
          "data": {
            "text/html": [
              "<div>\n",
              "<style scoped>\n",
              "    .dataframe tbody tr th:only-of-type {\n",
              "        vertical-align: middle;\n",
              "    }\n",
              "\n",
              "    .dataframe tbody tr th {\n",
              "        vertical-align: top;\n",
              "    }\n",
              "\n",
              "    .dataframe thead th {\n",
              "        text-align: right;\n",
              "    }\n",
              "</style>\n",
              "<table border=\"1\" class=\"dataframe\">\n",
              "  <thead>\n",
              "    <tr style=\"text-align: right;\">\n",
              "      <th></th>\n",
              "      <th>document_title</th>\n",
              "      <th>abstract</th>\n",
              "      <th>author_keywords</th>\n",
              "      <th>index_keywords</th>\n",
              "      <th>pdf_link</th>\n",
              "      <th>base</th>\n",
              "      <th>authors</th>\n",
              "      <th>publication_title</th>\n",
              "      <th>status1-selecao</th>\n",
              "      <th>status2-duplicated</th>\n",
              "      <th>status3-title-abst_keys</th>\n",
              "      <th>status4-read</th>\n",
              "      <th>rq1</th>\n",
              "      <th>rq2</th>\n",
              "      <th>rq3</th>\n",
              "      <th>rq4</th>\n",
              "      <th>rq5</th>\n",
              "      <th>rq6</th>\n",
              "      <th>publication_year</th>\n",
              "      <th>online_date</th>\n",
              "      <th>document_identifier</th>\n",
              "    </tr>\n",
              "  </thead>\n",
              "  <tbody>\n",
              "    <tr>\n",
              "      <th>0</th>\n",
              "      <td>Optimal planning framework of three phase unba...</td>\n",
              "      <td>In recent times nations across the world are f...</td>\n",
              "      <td>Electrical distribution system;Distributed Gen...</td>\n",
              "      <td>COVID-19;Reactive power;Pandemics;System perfo...</td>\n",
              "      <td>https://ieeexplore.ieee.org/stamp/stamp.jsp?ar...</td>\n",
              "      <td>ieee explore</td>\n",
              "      <td>R. Bonela; S. R. Ghatak; N. Hayat; S. C. Swain...</td>\n",
              "      <td>2020 IEEE 7th Uttar Pradesh Section Internatio...</td>\n",
              "      <td></td>\n",
              "      <td>False</td>\n",
              "      <td></td>\n",
              "      <td></td>\n",
              "      <td></td>\n",
              "      <td></td>\n",
              "      <td></td>\n",
              "      <td></td>\n",
              "      <td></td>\n",
              "      <td></td>\n",
              "      <td>2020</td>\n",
              "      <td>16 Mar 2021</td>\n",
              "      <td>IEEE Conferences</td>\n",
              "    </tr>\n",
              "    <tr>\n",
              "      <th>1</th>\n",
              "      <td>Digital Tools for virtual courses for universi...</td>\n",
              "      <td>Due to the 2020 scenario, the pandemic caused ...</td>\n",
              "      <td>Digital Tools;COVID-19;educational technologies</td>\n",
              "      <td>COVID-19;Pandemics;Education;Tools;Software;Vi...</td>\n",
              "      <td>https://ieeexplore.ieee.org/stamp/stamp.jsp?ar...</td>\n",
              "      <td>ieee explore</td>\n",
              "      <td>A. S. de la Serna-Tuya; D. Salgado-Gutiérrez; ...</td>\n",
              "      <td>2020 X International Conference on Virtual Cam...</td>\n",
              "      <td></td>\n",
              "      <td>False</td>\n",
              "      <td></td>\n",
              "      <td></td>\n",
              "      <td></td>\n",
              "      <td></td>\n",
              "      <td></td>\n",
              "      <td></td>\n",
              "      <td></td>\n",
              "      <td></td>\n",
              "      <td>2020</td>\n",
              "      <td>16 Mar 2021</td>\n",
              "      <td>IEEE Conferences</td>\n",
              "    </tr>\n",
              "    <tr>\n",
              "      <th>2</th>\n",
              "      <td>Instructional Design for virtual courses for u...</td>\n",
              "      <td>Due to the 2020 scenario, the pandemic caused ...</td>\n",
              "      <td>Instructional design;COVID-19;educational tech...</td>\n",
              "      <td>COVID-19;Pandemics;Education;Tools;Software;Vi...</td>\n",
              "      <td>https://ieeexplore.ieee.org/stamp/stamp.jsp?ar...</td>\n",
              "      <td>ieee explore</td>\n",
              "      <td>D. Salgado-Gutiérrez; A. S. de la Serna-Tuya; ...</td>\n",
              "      <td>2020 X International Conference on Virtual Cam...</td>\n",
              "      <td></td>\n",
              "      <td>False</td>\n",
              "      <td></td>\n",
              "      <td></td>\n",
              "      <td></td>\n",
              "      <td></td>\n",
              "      <td></td>\n",
              "      <td></td>\n",
              "      <td></td>\n",
              "      <td></td>\n",
              "      <td>2020</td>\n",
              "      <td>16 Mar 2021</td>\n",
              "      <td>IEEE Conferences</td>\n",
              "    </tr>\n",
              "  </tbody>\n",
              "</table>\n",
              "</div>"
            ],
            "text/plain": [
              "                                      document_title  \\\n",
              "0  Optimal planning framework of three phase unba...   \n",
              "1  Digital Tools for virtual courses for universi...   \n",
              "2  Instructional Design for virtual courses for u...   \n",
              "\n",
              "                                            abstract  \\\n",
              "0  In recent times nations across the world are f...   \n",
              "1  Due to the 2020 scenario, the pandemic caused ...   \n",
              "2  Due to the 2020 scenario, the pandemic caused ...   \n",
              "\n",
              "                                     author_keywords  \\\n",
              "0  Electrical distribution system;Distributed Gen...   \n",
              "1    Digital Tools;COVID-19;educational technologies   \n",
              "2  Instructional design;COVID-19;educational tech...   \n",
              "\n",
              "                                      index_keywords  \\\n",
              "0  COVID-19;Reactive power;Pandemics;System perfo...   \n",
              "1  COVID-19;Pandemics;Education;Tools;Software;Vi...   \n",
              "2  COVID-19;Pandemics;Education;Tools;Software;Vi...   \n",
              "\n",
              "                                            pdf_link          base  \\\n",
              "0  https://ieeexplore.ieee.org/stamp/stamp.jsp?ar...  ieee explore   \n",
              "1  https://ieeexplore.ieee.org/stamp/stamp.jsp?ar...  ieee explore   \n",
              "2  https://ieeexplore.ieee.org/stamp/stamp.jsp?ar...  ieee explore   \n",
              "\n",
              "                                             authors  \\\n",
              "0  R. Bonela; S. R. Ghatak; N. Hayat; S. C. Swain...   \n",
              "1  A. S. de la Serna-Tuya; D. Salgado-Gutiérrez; ...   \n",
              "2  D. Salgado-Gutiérrez; A. S. de la Serna-Tuya; ...   \n",
              "\n",
              "                                   publication_title status1-selecao  \\\n",
              "0  2020 IEEE 7th Uttar Pradesh Section Internatio...                   \n",
              "1  2020 X International Conference on Virtual Cam...                   \n",
              "2  2020 X International Conference on Virtual Cam...                   \n",
              "\n",
              "   status2-duplicated status3-title-abst_keys status4-read rq1 rq2 rq3 rq4  \\\n",
              "0               False                                                        \n",
              "1               False                                                        \n",
              "2               False                                                        \n",
              "\n",
              "  rq5 rq6  publication_year  online_date document_identifier  \n",
              "0                      2020  16 Mar 2021    IEEE Conferences  \n",
              "1                      2020  16 Mar 2021    IEEE Conferences  \n",
              "2                      2020  16 Mar 2021    IEEE Conferences  "
            ]
          },
          "metadata": {
            "tags": []
          },
          "execution_count": 25
        }
      ]
    },
    {
      "cell_type": "code",
      "metadata": {
        "id": "5DyfFILMi4hs"
      },
      "source": [
        "systematic_review.to_csv(path + \"mapping_systematic_review.csv\",\n",
        "                            sep=';', encoding='UTF-8', index=False)"
      ],
      "execution_count": null,
      "outputs": []
    },
    {
      "cell_type": "code",
      "metadata": {
        "id": "imynH7jai4hs"
      },
      "source": [
        ""
      ],
      "execution_count": null,
      "outputs": []
    }
  ]
}