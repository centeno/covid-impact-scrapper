{
  "nbformat": 4,
  "nbformat_minor": 0,
  "metadata": {
    "kernelspec": {
      "display_name": "Python 3",
      "language": "python",
      "name": "python3"
    },
    "language_info": {
      "codemirror_mode": {
        "name": "ipython",
        "version": 3
      },
      "file_extension": ".py",
      "mimetype": "text/x-python",
      "name": "python",
      "nbconvert_exporter": "python",
      "pygments_lexer": "ipython3",
      "version": "3.8.5"
    },
    "colab": {
      "name": "step01-2_merge_grey.ipynb",
      "provenance": [],
      "include_colab_link": true
    }
  },
  "cells": [
    {
      "cell_type": "markdown",
      "metadata": {
        "id": "view-in-github",
        "colab_type": "text"
      },
      "source": [
        "<a href=\"https://colab.research.google.com/github/centeno/covid-impact-scrapper/blob/master/step01_2_merge_grey.ipynb\" target=\"_parent\"><img src=\"https://colab.research.google.com/assets/colab-badge.svg\" alt=\"Open In Colab\"/></a>"
      ]
    },
    {
      "cell_type": "markdown",
      "metadata": {
        "id": "pISOekvXkRqH"
      },
      "source": [
        "# Imports"
      ]
    },
    {
      "cell_type": "code",
      "metadata": {
        "id": "Kox5FwxkkRqL"
      },
      "source": [
        "# Manipulação e visualização de dados\n",
        "import os\n",
        "import re\n",
        "import sys\n",
        "import glob\n",
        "import socket\n",
        "import pandas as pd\n",
        "\n",
        "\n",
        "#dataviz\n",
        "import plotly.graph_objects as go\n",
        "import plotly.express as px\n",
        "from jupyter_dash import JupyterDash\n",
        "import dash_core_components as dcc\n",
        "import dash_html_components as html\n",
        "from dash.dependencies import Input, Output \n",
        "\n",
        "\n",
        "# Definimos o parâmetro abaixo para evitar o erro:\n",
        "# RecursionError: maximum recursion depth exceeded\n",
        "# Ao gravar os resultados em disco\n",
        "sys.setrecursionlimit(50000)\n",
        "\n",
        "%matplotlib inline"
      ],
      "execution_count": null,
      "outputs": []
    },
    {
      "cell_type": "code",
      "metadata": {
        "id": "rkfw_-RwkRqM"
      },
      "source": [
        "#import os\n",
        "#os.chdir(\"/content/drive/My Drive/covid19impact/data/2020/01_collect/en/\")\n",
        "os.chdir(\"/home/eluis/workspace/covid19impact/data/01_grey/2020/01_collect/en/\")\n",
        "\n",
        "#!ls"
      ],
      "execution_count": null,
      "outputs": []
    },
    {
      "cell_type": "markdown",
      "metadata": {
        "id": "yoiDVY3ZkRqN"
      },
      "source": [
        "# Input"
      ]
    },
    {
      "cell_type": "markdown",
      "metadata": {
        "id": "LOGFdBm0kRqN"
      },
      "source": [
        "## Merge csv"
      ]
    },
    {
      "cell_type": "code",
      "metadata": {
        "id": "J8ugXoH8kRqO"
      },
      "source": [
        "#path = \"/content/drive/My Drive/covid19impact/data/2021_all/01_collect/en/\"\n",
        "path = \"/home/eluis/workspace/covid19impact/data/01_grey/2020/01_collect/en/\""
      ],
      "execution_count": null,
      "outputs": []
    },
    {
      "cell_type": "code",
      "metadata": {
        "id": "7iUhdU1akRqO"
      },
      "source": [
        "#os.chdir(\"/mydir\")\n",
        "os.chdir(path)"
      ],
      "execution_count": null,
      "outputs": []
    },
    {
      "cell_type": "code",
      "metadata": {
        "id": "7cdNTUaAkRqP"
      },
      "source": [
        "extension = 'csv'\n",
        "all_filenames = [i for i in glob.glob('*.{}'.format(extension))]"
      ],
      "execution_count": null,
      "outputs": []
    },
    {
      "cell_type": "code",
      "metadata": {
        "id": "75wvz_iqkRqP",
        "outputId": "fc764fc4-5a8d-4e2d-f616-bd7216d12680"
      },
      "source": [
        "len(all_filenames)"
      ],
      "execution_count": null,
      "outputs": [
        {
          "output_type": "execute_result",
          "data": {
            "text/plain": [
              "458"
            ]
          },
          "metadata": {
            "tags": []
          },
          "execution_count": 6
        }
      ]
    },
    {
      "cell_type": "code",
      "metadata": {
        "id": "_2yC7hGVkRqR"
      },
      "source": [
        "#combine all files in the list\n",
        "df = pd.concat([pd.read_csv(f, sep=';', parse_dates=[\"date\"], engine=\"python\", encoding='UTF-8') for f in all_filenames ])"
      ],
      "execution_count": null,
      "outputs": []
    },
    {
      "cell_type": "code",
      "metadata": {
        "id": "xzuEI6oJkRqR",
        "outputId": "6e3c5aa3-3226-4a7a-b657-0d34136220a2"
      },
      "source": [
        "print(df.shape);\n",
        "df.head()"
      ],
      "execution_count": null,
      "outputs": [
        {
          "output_type": "stream",
          "text": [
            "(20068, 25)\n"
          ],
          "name": "stdout"
        },
        {
          "output_type": "execute_result",
          "data": {
            "text/html": [
              "<div>\n",
              "<style scoped>\n",
              "    .dataframe tbody tr th:only-of-type {\n",
              "        vertical-align: middle;\n",
              "    }\n",
              "\n",
              "    .dataframe tbody tr th {\n",
              "        vertical-align: top;\n",
              "    }\n",
              "\n",
              "    .dataframe thead th {\n",
              "        text-align: right;\n",
              "    }\n",
              "</style>\n",
              "<table border=\"1\" class=\"dataframe\">\n",
              "  <thead>\n",
              "    <tr style=\"text-align: right;\">\n",
              "      <th></th>\n",
              "      <th>Unnamed: 0</th>\n",
              "      <th>date</th>\n",
              "      <th>header</th>\n",
              "      <th>summary</th>\n",
              "      <th>link</th>\n",
              "      <th>protocol</th>\n",
              "      <th>domain</th>\n",
              "      <th>path</th>\n",
              "      <th>query</th>\n",
              "      <th>fragment</th>\n",
              "      <th>...</th>\n",
              "      <th>CountryName</th>\n",
              "      <th>State</th>\n",
              "      <th>City</th>\n",
              "      <th>Longitude</th>\n",
              "      <th>Latitude</th>\n",
              "      <th>IpAddress</th>\n",
              "      <th>header_context_true</th>\n",
              "      <th>summary_context_true</th>\n",
              "      <th>Asn</th>\n",
              "      <th>edges</th>\n",
              "    </tr>\n",
              "  </thead>\n",
              "  <tbody>\n",
              "    <tr>\n",
              "      <th>0</th>\n",
              "      <td>0</td>\n",
              "      <td>2020-01-22</td>\n",
              "      <td>Six disaster recovery pitfalls and how to avoi...</td>\n",
              "      <td>Jan 23, 2020 — We look at some key pitfalls in...</td>\n",
              "      <td>https://www.computerweekly.com/feature/Six-dis...</td>\n",
              "      <td>https</td>\n",
              "      <td>www.computerweekly.com</td>\n",
              "      <td>/feature/Six-disaster-recovery-pitfalls-and-ho...</td>\n",
              "      <td>NaN</td>\n",
              "      <td>NaN</td>\n",
              "      <td>...</td>\n",
              "      <td>United States</td>\n",
              "      <td>Louisiana</td>\n",
              "      <td>Reddell</td>\n",
              "      <td>-92.426422</td>\n",
              "      <td>30.675011</td>\n",
              "      <td>206.19.49.153</td>\n",
              "      <td>Six disaster recovery pitfalls and how to avoi...</td>\n",
              "      <td>Jan 23, 2020 — We look at some key pitfalls in...</td>\n",
              "      <td>NaN</td>\n",
              "      <td>NaN</td>\n",
              "    </tr>\n",
              "    <tr>\n",
              "      <th>1</th>\n",
              "      <td>1</td>\n",
              "      <td>2020-01-22</td>\n",
              "      <td>Customer Service Executive at Swift Networks L...</td>\n",
              "      <td>Jan 23, 2020 — ... Training/ Mentorship · Soft...</td>\n",
              "      <td>https://job247sure.com/jobs/customer-service-e...</td>\n",
              "      <td>https</td>\n",
              "      <td>job247sure.com</td>\n",
              "      <td>/jobs/customer-service-executive-at-swift-netw...</td>\n",
              "      <td>NaN</td>\n",
              "      <td>NaN</td>\n",
              "      <td>...</td>\n",
              "      <td>Germany</td>\n",
              "      <td>Saarland</td>\n",
              "      <td>Saarbrücken</td>\n",
              "      <td>7.000000</td>\n",
              "      <td>49.233299</td>\n",
              "      <td>51.89.21.15</td>\n",
              "      <td>Customer Service Executive at Swift Networks L...</td>\n",
              "      <td>Jan 23, 2020 — ... Training/ Mentorship · Soft...</td>\n",
              "      <td>NaN</td>\n",
              "      <td>NaN</td>\n",
              "    </tr>\n",
              "    <tr>\n",
              "      <th>2</th>\n",
              "      <td>2</td>\n",
              "      <td>2020-01-22</td>\n",
              "      <td>Grant Thornton Zim successfully revives two tr...</td>\n",
              "      <td>Jan 22, 2020 — Local IT firmssay they tend to ...</td>\n",
              "      <td>https://newziana.co.zw/2020/01/22/grant-thornt...</td>\n",
              "      <td>https</td>\n",
              "      <td>newziana.co.zw</td>\n",
              "      <td>/2020/01/22/grant-thornton-zim-successfully-re...</td>\n",
              "      <td>NaN</td>\n",
              "      <td>NaN</td>\n",
              "      <td>...</td>\n",
              "      <td>South Africa</td>\n",
              "      <td>Gauteng</td>\n",
              "      <td>Johannesburg</td>\n",
              "      <td>28.056391</td>\n",
              "      <td>-26.199169</td>\n",
              "      <td>129.232.213.100</td>\n",
              "      <td>Grant Thornton Zim successfully revives two tr...</td>\n",
              "      <td>Jan 22, 2020 — Local IT firmssay they tend to ...</td>\n",
              "      <td>NaN</td>\n",
              "      <td>NaN</td>\n",
              "    </tr>\n",
              "    <tr>\n",
              "      <th>3</th>\n",
              "      <td>3</td>\n",
              "      <td>2020-01-22</td>\n",
              "      <td>Terms of Service - Wilson's Media</td>\n",
              "      <td>... agent, agile software development, aging, ...</td>\n",
              "      <td>https://www.wilsonsmedia.com/terms-of-service/</td>\n",
              "      <td>https</td>\n",
              "      <td>www.wilsonsmedia.com</td>\n",
              "      <td>/terms-of-service/</td>\n",
              "      <td>NaN</td>\n",
              "      <td>NaN</td>\n",
              "      <td>...</td>\n",
              "      <td>Ireland</td>\n",
              "      <td>NaN</td>\n",
              "      <td>NaN</td>\n",
              "      <td>-8.000000</td>\n",
              "      <td>53.000000</td>\n",
              "      <td>144.217.146.128</td>\n",
              "      <td>Terms of Service - Wilson's Media</td>\n",
              "      <td>... agent, agile software development, aging, ...</td>\n",
              "      <td>NaN</td>\n",
              "      <td>NaN</td>\n",
              "    </tr>\n",
              "    <tr>\n",
              "      <th>4</th>\n",
              "      <td>4</td>\n",
              "      <td>2020-01-22</td>\n",
              "      <td>Akwajobs · Program Manager ERD at Internationa...</td>\n",
              "      <td>Jan 22, 2020 — ... is to help the people whose...</td>\n",
              "      <td>http://www.akwajobs.com/job/program-manager-er...</td>\n",
              "      <td>http</td>\n",
              "      <td>www.akwajobs.com</td>\n",
              "      <td>/job/program-manager-erd-at-international-resc...</td>\n",
              "      <td>NaN</td>\n",
              "      <td>NaN</td>\n",
              "      <td>...</td>\n",
              "      <td>United States</td>\n",
              "      <td>Pennsylvania</td>\n",
              "      <td>Philadelphia</td>\n",
              "      <td>-75.144279</td>\n",
              "      <td>39.948841</td>\n",
              "      <td>69.164.198.51</td>\n",
              "      <td>Akwajobs · Program Manager ERD at Internationa...</td>\n",
              "      <td>Jan 22, 2020 — ... is to help the people whose...</td>\n",
              "      <td>NaN</td>\n",
              "      <td>NaN</td>\n",
              "    </tr>\n",
              "  </tbody>\n",
              "</table>\n",
              "<p>5 rows × 25 columns</p>\n",
              "</div>"
            ],
            "text/plain": [
              "   Unnamed: 0       date                                             header  \\\n",
              "0           0 2020-01-22  Six disaster recovery pitfalls and how to avoi...   \n",
              "1           1 2020-01-22  Customer Service Executive at Swift Networks L...   \n",
              "2           2 2020-01-22  Grant Thornton Zim successfully revives two tr...   \n",
              "3           3 2020-01-22                  Terms of Service - Wilson's Media   \n",
              "4           4 2020-01-22  Akwajobs · Program Manager ERD at Internationa...   \n",
              "\n",
              "                                             summary  \\\n",
              "0  Jan 23, 2020 — We look at some key pitfalls in...   \n",
              "1  Jan 23, 2020 — ... Training/ Mentorship · Soft...   \n",
              "2  Jan 22, 2020 — Local IT firmssay they tend to ...   \n",
              "3  ... agent, agile software development, aging, ...   \n",
              "4  Jan 22, 2020 — ... is to help the people whose...   \n",
              "\n",
              "                                                link protocol  \\\n",
              "0  https://www.computerweekly.com/feature/Six-dis...    https   \n",
              "1  https://job247sure.com/jobs/customer-service-e...    https   \n",
              "2  https://newziana.co.zw/2020/01/22/grant-thornt...    https   \n",
              "3     https://www.wilsonsmedia.com/terms-of-service/    https   \n",
              "4  http://www.akwajobs.com/job/program-manager-er...     http   \n",
              "\n",
              "                   domain                                               path  \\\n",
              "0  www.computerweekly.com  /feature/Six-disaster-recovery-pitfalls-and-ho...   \n",
              "1          job247sure.com  /jobs/customer-service-executive-at-swift-netw...   \n",
              "2          newziana.co.zw  /2020/01/22/grant-thornton-zim-successfully-re...   \n",
              "3    www.wilsonsmedia.com                                 /terms-of-service/   \n",
              "4        www.akwajobs.com  /job/program-manager-erd-at-international-resc...   \n",
              "\n",
              "  query  fragment  ...    CountryName         State          City  Longitude  \\\n",
              "0   NaN       NaN  ...  United States     Louisiana       Reddell -92.426422   \n",
              "1   NaN       NaN  ...        Germany      Saarland   Saarbrücken   7.000000   \n",
              "2   NaN       NaN  ...   South Africa       Gauteng  Johannesburg  28.056391   \n",
              "3   NaN       NaN  ...        Ireland           NaN           NaN  -8.000000   \n",
              "4   NaN       NaN  ...  United States  Pennsylvania  Philadelphia -75.144279   \n",
              "\n",
              "    Latitude        IpAddress  \\\n",
              "0  30.675011    206.19.49.153   \n",
              "1  49.233299      51.89.21.15   \n",
              "2 -26.199169  129.232.213.100   \n",
              "3  53.000000  144.217.146.128   \n",
              "4  39.948841    69.164.198.51   \n",
              "\n",
              "                                 header_context_true  \\\n",
              "0  Six disaster recovery pitfalls and how to avoi...   \n",
              "1  Customer Service Executive at Swift Networks L...   \n",
              "2  Grant Thornton Zim successfully revives two tr...   \n",
              "3                  Terms of Service - Wilson's Media   \n",
              "4  Akwajobs · Program Manager ERD at Internationa...   \n",
              "\n",
              "                                summary_context_true  Asn  edges  \n",
              "0  Jan 23, 2020 — We look at some key pitfalls in...  NaN    NaN  \n",
              "1  Jan 23, 2020 — ... Training/ Mentorship · Soft...  NaN    NaN  \n",
              "2  Jan 22, 2020 — Local IT firmssay they tend to ...  NaN    NaN  \n",
              "3  ... agent, agile software development, aging, ...  NaN    NaN  \n",
              "4  Jan 22, 2020 — ... is to help the people whose...  NaN    NaN  \n",
              "\n",
              "[5 rows x 25 columns]"
            ]
          },
          "metadata": {
            "tags": []
          },
          "execution_count": 8
        }
      ]
    },
    {
      "cell_type": "code",
      "metadata": {
        "id": "wXn4_k27kRqS"
      },
      "source": [
        "# Delete columns\n",
        "df.drop(['Unnamed: 0'], axis=1, inplace=True)"
      ],
      "execution_count": null,
      "outputs": []
    },
    {
      "cell_type": "code",
      "metadata": {
        "id": "MdEtdfA2kRqS"
      },
      "source": [
        "#df = df.drop_duplicates(subset=['header', 'summary'], keep='first')\n",
        "df['status2-duplicated'] = df.duplicated(subset=['header','summary','link'])"
      ],
      "execution_count": null,
      "outputs": []
    },
    {
      "cell_type": "code",
      "metadata": {
        "id": "CVAptmnfkRqS",
        "outputId": "58e911d2-f9dd-4423-92b0-a8721587560c"
      },
      "source": [
        "print(df.shape);\n",
        "df[['header', 'status2-duplicated']].head()"
      ],
      "execution_count": null,
      "outputs": [
        {
          "output_type": "stream",
          "text": [
            "(20068, 25)\n"
          ],
          "name": "stdout"
        },
        {
          "output_type": "execute_result",
          "data": {
            "text/html": [
              "<div>\n",
              "<style scoped>\n",
              "    .dataframe tbody tr th:only-of-type {\n",
              "        vertical-align: middle;\n",
              "    }\n",
              "\n",
              "    .dataframe tbody tr th {\n",
              "        vertical-align: top;\n",
              "    }\n",
              "\n",
              "    .dataframe thead th {\n",
              "        text-align: right;\n",
              "    }\n",
              "</style>\n",
              "<table border=\"1\" class=\"dataframe\">\n",
              "  <thead>\n",
              "    <tr style=\"text-align: right;\">\n",
              "      <th></th>\n",
              "      <th>header</th>\n",
              "      <th>status2-duplicated</th>\n",
              "    </tr>\n",
              "  </thead>\n",
              "  <tbody>\n",
              "    <tr>\n",
              "      <th>0</th>\n",
              "      <td>Six disaster recovery pitfalls and how to avoi...</td>\n",
              "      <td>False</td>\n",
              "    </tr>\n",
              "    <tr>\n",
              "      <th>1</th>\n",
              "      <td>Customer Service Executive at Swift Networks L...</td>\n",
              "      <td>False</td>\n",
              "    </tr>\n",
              "    <tr>\n",
              "      <th>2</th>\n",
              "      <td>Grant Thornton Zim successfully revives two tr...</td>\n",
              "      <td>False</td>\n",
              "    </tr>\n",
              "    <tr>\n",
              "      <th>3</th>\n",
              "      <td>Terms of Service - Wilson's Media</td>\n",
              "      <td>False</td>\n",
              "    </tr>\n",
              "    <tr>\n",
              "      <th>4</th>\n",
              "      <td>Akwajobs · Program Manager ERD at Internationa...</td>\n",
              "      <td>False</td>\n",
              "    </tr>\n",
              "  </tbody>\n",
              "</table>\n",
              "</div>"
            ],
            "text/plain": [
              "                                              header  status2-duplicated\n",
              "0  Six disaster recovery pitfalls and how to avoi...               False\n",
              "1  Customer Service Executive at Swift Networks L...               False\n",
              "2  Grant Thornton Zim successfully revives two tr...               False\n",
              "3                  Terms of Service - Wilson's Media               False\n",
              "4  Akwajobs · Program Manager ERD at Internationa...               False"
            ]
          },
          "metadata": {
            "tags": []
          },
          "execution_count": 11
        }
      ]
    },
    {
      "cell_type": "code",
      "metadata": {
        "id": "hyx-SWX7kRqT",
        "outputId": "af88d2f8-5bed-4e1a-8a57-9d4e20683228"
      },
      "source": [
        "df[df['status2-duplicated']==True].shape"
      ],
      "execution_count": null,
      "outputs": [
        {
          "output_type": "execute_result",
          "data": {
            "text/plain": [
              "(8957, 25)"
            ]
          },
          "metadata": {
            "tags": []
          },
          "execution_count": 12
        }
      ]
    },
    {
      "cell_type": "markdown",
      "metadata": {
        "id": "-RtqBQLckRqT"
      },
      "source": [
        "# GEOINT"
      ]
    },
    {
      "cell_type": "code",
      "metadata": {
        "id": "2c_FcknikRqU",
        "outputId": "ca9866ed-522b-4efc-a466-d6da6d509ef5"
      },
      "source": [
        "import plotly.express as px \n",
        "fig = px.scatter_mapbox(df, lat=\"Latitude\", lon=\"Longitude\", zoom = 0)\n",
        "fig.update_layout(mapbox_style=\"open-street-map\") \n",
        "#fig.show()\n",
        "\n",
        "# build jupyter dash app \n",
        "app = JupyterDash(__name__)\n",
        "# add html components and figure to app\n",
        "app.layout = html.Div([dcc.Graph(figure=fig)])\n",
        "# run app inline\n",
        "app.run_server(mode='inline')"
      ],
      "execution_count": null,
      "outputs": [
        {
          "output_type": "display_data",
          "data": {
            "text/html": [
              "\n",
              "        <iframe\n",
              "            width=\"100%\"\n",
              "            height=\"650\"\n",
              "            src=\"http://127.0.0.1:8050/\"\n",
              "            frameborder=\"0\"\n",
              "            allowfullscreen\n",
              "        ></iframe>\n",
              "        "
            ],
            "text/plain": [
              "<IPython.lib.display.IFrame at 0x7fd4e0267f40>"
            ]
          },
          "metadata": {
            "tags": []
          }
        }
      ]
    },
    {
      "cell_type": "markdown",
      "metadata": {
        "id": "y_-8bJYpkRqU"
      },
      "source": [
        "# Output"
      ]
    },
    {
      "cell_type": "code",
      "metadata": {
        "id": "7khMy7G8kRqV"
      },
      "source": [
        "path2 = \"/home/eluis/workspace/covid19impact/data/01_grey/2020/02_analytics/\""
      ],
      "execution_count": null,
      "outputs": []
    },
    {
      "cell_type": "code",
      "metadata": {
        "id": "JMaHfmqQkRqV"
      },
      "source": [
        "df.to_csv(path2 +  'step01-2_merge_grey_v1.csv', sep=';', encoding='UTF-8')"
      ],
      "execution_count": null,
      "outputs": []
    },
    {
      "cell_type": "code",
      "metadata": {
        "id": "GZLk8vWikRqV"
      },
      "source": [
        ""
      ],
      "execution_count": null,
      "outputs": []
    }
  ]
}